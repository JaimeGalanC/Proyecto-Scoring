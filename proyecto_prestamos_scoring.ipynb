{
 "cells": [
  {
   "cell_type": "markdown",
   "metadata": {},
   "source": [
    "# Contenido <a id='back'></a>\n",
    "\n",
    "* [Introducción](#intro)\n",
    "* [Objetivos](#objetivos)\n",
    "* [Etapas](#etapas)\n",
    "* [Etapa 1. Información general del archivo de datos](#info_general)\n",
    "    * [1.1 Exploración de los datos](#info_general_data)\n",
    "    * [1.2 Valores ausentes](#missing_values)\n",
    "    * [1.3 Distribución de los valores ausentes](#missing_values_dist)\n",
    "    * [1.4 Porcentaje de valores ausentes](#missing_values_percent)\n",
    "    * [1.5 Tabla de distribución de valores ausentes en base a `'income_type'`](#missing_values_table_income)\n",
    "    * [1.6 Tabla de distribución de valores ausentes en base a `'education'`](#missing_values_table_education)\n",
    "    * [1.7 Tabla de distribución de valores ausentes en base a `'family_status'`](#missing_values_table_family)\n",
    "    * [1.8 Tabla de distribución de valores ausentes en base a `'gender'`](#missing_values_table_gender)\n",
    "* [Etapa 2. Transformación de los datos](#transform_data)\n",
    "    * [2.1 Corrección de duplicados implícitos en `'education'`](#correct_values_education)\n",
    "    * [2.2 Valores duplicados](#drop_duplicates)\n",
    "    * [2.3 Trabajar con valores ausentes](#missing_values_work)\n",
    "        * [2.3.1 Creación de Diccionarios](#dictionary)\n",
    "        * [2.3.2 Creación de grupos de edad](#group_age)\n",
    "    * [2.4 Restaurar valores ausentes en `'total_income'`](#restore_values_income)\n",
    "    * [2.5 Restaurar valores ausentes en `'days_employed'`](#restore_values_days)\n",
    "    * [2.6 Función alternativa para restaurar valores ausentes en `'dob_years'`](#restore_values_function)\n",
    "    * [2.7 Clasificación de los datos](#clasification_data)\n",
    "        * [2.7.1 Creación de grupos de própositos de préstamo](#clasification_purpose)\n",
    "        * [2.7.2 Creación de grupos de niños](#clasification_children)\n",
    "        * [2.7.3 Creación de grupos de nivel de ingreso](#clasification_income)\n",
    "* [Etapa 3.Prueba de hipótesis](#hypotheses)\n",
    "    * [3.1 Hipótesis 1: ¿Existe una correlación entre tener hijos y pagar a tiempo?](#hypotheses_1)\n",
    "    * [3.2 Hipótesis 2: ¿Existe una correlación entre la situación familiar y el pago a tiempo?](#hypotheses_2)\n",
    "    * [3.3 Hipótesis 3: ¿Existe una correlación entre el nivel de ingresos y el pago a tiempo?](#hypotheses_3)\n",
    "    * [3.4 Hipótesis 4: ¿Cómo afecta el propósito del crédito a la tasa de incumplimiento?](#hypotheses_4)\n",
    "* [Conclusión general](#conclusion)"
   ]
  },
  {
   "cell_type": "markdown",
   "metadata": {},
   "source": [
    "# Introducción <a id='intro'></a>\n",
    "En este proyecto, estudiaremos la solvencia crediticia de los clientes para conocer que factores pueden ocasionar un incumplimiento de pago de un préstamo. En concreto, averiguaremos si el estado civil y el número de hijos o la cantidad de ingresos de un cliente son factores que influyen en el incumplimiento de pago."
   ]
  },
  {
   "cell_type": "markdown",
   "metadata": {},
   "source": [
    "# Objetivos: <a id='objetivos'></a>\n",
    "\n",
    "Probaremos las siguientes hipótesis:\n",
    "\n",
    "    1. ¿El estado civil de un cliente influye en la capacidad de pago de un préstamo?\n",
    "    2. ¿Una mayor cantidad de hijos influye negativamente en la capacidad de pago de un préstamo?\n",
    "    3. ¿Un cliente con altos ingresos tiene mayor capacidad de pago a tiempo de un préstamo?\n",
    "    4. ¿El propósito de un préstamo afecta el pago a tiempo de un préstamo?"
   ]
  },
  {
   "cell_type": "markdown",
   "metadata": {},
   "source": [
    "# Etapas <a id='etapas'></a>\n",
    "El proyecto consistirá de tres etapas:\n",
    "\n",
    "    1. Abrir el archivo de datos y mirar la información general.\n",
    "    2. Exploración de datos y preprocesamiento.\n",
    "    3. Prueba de hipótesis."
   ]
  },
  {
   "cell_type": "markdown",
   "metadata": {},
   "source": [
    "[Contenido](#back)\n",
    "<a id='info_general'></a>\n",
    "## Etapa 1. Información general del archivo de datos"
   ]
  },
  {
   "cell_type": "code",
   "execution_count": 1,
   "metadata": {},
   "outputs": [],
   "source": [
    "# Cargamos todas las librerías\n",
    "import pandas as pd\n",
    "from sklearn.impute import KNNImputer\n",
    "import math"
   ]
  },
  {
   "cell_type": "code",
   "execution_count": 2,
   "metadata": {},
   "outputs": [],
   "source": [
    "# Cargamos los datos\n",
    "datos_credito=pd.read_csv('credit_scoring_eng.csv')"
   ]
  },
  {
   "cell_type": "code",
   "execution_count": 3,
   "metadata": {},
   "outputs": [
    {
     "data": {
      "text/plain": [
       "Index(['children', 'days_employed', 'dob_years', 'education', 'education_id',\n",
       "       'family_status', 'family_status_id', 'gender', 'income_type', 'debt',\n",
       "       'total_income', 'purpose'],\n",
       "      dtype='object')"
      ]
     },
     "execution_count": 3,
     "metadata": {},
     "output_type": "execute_result"
    }
   ],
   "source": [
    "# mostramos las columnas del DataFrame\n",
    "datos_credito.columns"
   ]
  },
  {
   "cell_type": "markdown",
   "metadata": {},
   "source": [
    "<a id='info_general_data'></a>\n",
    "### Exploración de los datos\n",
    "**Descripción de los datos**\n",
    "- `children` - el número de hijos en la familia \n",
    "- `days_employed` - experiencia laboral en días\n",
    "- `dob_years` - la edad del cliente en años\n",
    "- `education` - la educación del cliente\n",
    "- `education_id` - identificador de educación\n",
    "- `family_status` - estado civil\n",
    "- `family_status_id` - identificador de estado civil\n",
    "- `gender` - género del cliente\n",
    "- `income_type` - tipo de empleo\n",
    "- `debt` - ¿había alguna deuda en el pago de un préstamo?\n",
    "- `total_income` - ingreso mensual\n",
    "- `purpose` - el propósito de obtener un préstamo"
   ]
  },
  {
   "cell_type": "code",
   "execution_count": 4,
   "metadata": {},
   "outputs": [
    {
     "data": {
      "text/plain": [
       "(21525, 12)"
      ]
     },
     "execution_count": 4,
     "metadata": {},
     "output_type": "execute_result"
    }
   ],
   "source": [
    "# Veamos cuántas filas y columnas tiene nuestro conjunto de datos\n",
    "datos_credito.shape"
   ]
  },
  {
   "cell_type": "code",
   "execution_count": 5,
   "metadata": {
    "scrolled": true
   },
   "outputs": [
    {
     "data": {
      "text/html": [
       "<div>\n",
       "<style scoped>\n",
       "    .dataframe tbody tr th:only-of-type {\n",
       "        vertical-align: middle;\n",
       "    }\n",
       "\n",
       "    .dataframe tbody tr th {\n",
       "        vertical-align: top;\n",
       "    }\n",
       "\n",
       "    .dataframe thead th {\n",
       "        text-align: right;\n",
       "    }\n",
       "</style>\n",
       "<table border=\"1\" class=\"dataframe\">\n",
       "  <thead>\n",
       "    <tr style=\"text-align: right;\">\n",
       "      <th></th>\n",
       "      <th>children</th>\n",
       "      <th>days_employed</th>\n",
       "      <th>dob_years</th>\n",
       "      <th>education</th>\n",
       "      <th>education_id</th>\n",
       "      <th>family_status</th>\n",
       "      <th>family_status_id</th>\n",
       "      <th>gender</th>\n",
       "      <th>income_type</th>\n",
       "      <th>debt</th>\n",
       "      <th>total_income</th>\n",
       "      <th>purpose</th>\n",
       "    </tr>\n",
       "  </thead>\n",
       "  <tbody>\n",
       "    <tr>\n",
       "      <th>0</th>\n",
       "      <td>1</td>\n",
       "      <td>-8437.673028</td>\n",
       "      <td>42</td>\n",
       "      <td>bachelor's degree</td>\n",
       "      <td>0</td>\n",
       "      <td>married</td>\n",
       "      <td>0</td>\n",
       "      <td>F</td>\n",
       "      <td>employee</td>\n",
       "      <td>0</td>\n",
       "      <td>40620.102</td>\n",
       "      <td>purchase of the house</td>\n",
       "    </tr>\n",
       "    <tr>\n",
       "      <th>1</th>\n",
       "      <td>1</td>\n",
       "      <td>-4024.803754</td>\n",
       "      <td>36</td>\n",
       "      <td>secondary education</td>\n",
       "      <td>1</td>\n",
       "      <td>married</td>\n",
       "      <td>0</td>\n",
       "      <td>F</td>\n",
       "      <td>employee</td>\n",
       "      <td>0</td>\n",
       "      <td>17932.802</td>\n",
       "      <td>car purchase</td>\n",
       "    </tr>\n",
       "    <tr>\n",
       "      <th>2</th>\n",
       "      <td>0</td>\n",
       "      <td>-5623.422610</td>\n",
       "      <td>33</td>\n",
       "      <td>Secondary Education</td>\n",
       "      <td>1</td>\n",
       "      <td>married</td>\n",
       "      <td>0</td>\n",
       "      <td>M</td>\n",
       "      <td>employee</td>\n",
       "      <td>0</td>\n",
       "      <td>23341.752</td>\n",
       "      <td>purchase of the house</td>\n",
       "    </tr>\n",
       "    <tr>\n",
       "      <th>3</th>\n",
       "      <td>3</td>\n",
       "      <td>-4124.747207</td>\n",
       "      <td>32</td>\n",
       "      <td>secondary education</td>\n",
       "      <td>1</td>\n",
       "      <td>married</td>\n",
       "      <td>0</td>\n",
       "      <td>M</td>\n",
       "      <td>employee</td>\n",
       "      <td>0</td>\n",
       "      <td>42820.568</td>\n",
       "      <td>supplementary education</td>\n",
       "    </tr>\n",
       "    <tr>\n",
       "      <th>4</th>\n",
       "      <td>0</td>\n",
       "      <td>340266.072047</td>\n",
       "      <td>53</td>\n",
       "      <td>secondary education</td>\n",
       "      <td>1</td>\n",
       "      <td>civil partnership</td>\n",
       "      <td>1</td>\n",
       "      <td>F</td>\n",
       "      <td>retiree</td>\n",
       "      <td>0</td>\n",
       "      <td>25378.572</td>\n",
       "      <td>to have a wedding</td>\n",
       "    </tr>\n",
       "  </tbody>\n",
       "</table>\n",
       "</div>"
      ],
      "text/plain": [
       "   children  days_employed  dob_years            education  education_id  \\\n",
       "0         1   -8437.673028         42    bachelor's degree             0   \n",
       "1         1   -4024.803754         36  secondary education             1   \n",
       "2         0   -5623.422610         33  Secondary Education             1   \n",
       "3         3   -4124.747207         32  secondary education             1   \n",
       "4         0  340266.072047         53  secondary education             1   \n",
       "\n",
       "       family_status  family_status_id gender income_type  debt  total_income  \\\n",
       "0            married                 0      F    employee     0     40620.102   \n",
       "1            married                 0      F    employee     0     17932.802   \n",
       "2            married                 0      M    employee     0     23341.752   \n",
       "3            married                 0      M    employee     0     42820.568   \n",
       "4  civil partnership                 1      F     retiree     0     25378.572   \n",
       "\n",
       "                   purpose  \n",
       "0    purchase of the house  \n",
       "1             car purchase  \n",
       "2    purchase of the house  \n",
       "3  supplementary education  \n",
       "4        to have a wedding  "
      ]
     },
     "execution_count": 5,
     "metadata": {},
     "output_type": "execute_result"
    }
   ],
   "source": [
    "# Vamos a mostrar las primeras filas\n",
    "datos_credito.head()"
   ]
  },
  {
   "cell_type": "markdown",
   "metadata": {},
   "source": [
    "Observamos que **hay 21,525 observaciones y 12 columnas**. Los nombres de las columnas parecen estar bien definidos. La **información** que muestran varias columnas **no es consistente en formato y tipo de datos**.  **Hay que analizar el tipo de datos que tiene cada columna y si hay valores faltantes o filas duplicadas**. Así cómo **buscar** si las **columnas con** valores categóricos tienen **duplicados implicitos.**"
   ]
  },
  {
   "cell_type": "code",
   "execution_count": 6,
   "metadata": {},
   "outputs": [
    {
     "name": "stdout",
     "output_type": "stream",
     "text": [
      "<class 'pandas.core.frame.DataFrame'>\n",
      "RangeIndex: 21525 entries, 0 to 21524\n",
      "Data columns (total 12 columns):\n",
      " #   Column            Non-Null Count  Dtype  \n",
      "---  ------            --------------  -----  \n",
      " 0   children          21525 non-null  int64  \n",
      " 1   days_employed     19351 non-null  float64\n",
      " 2   dob_years         21525 non-null  int64  \n",
      " 3   education         21525 non-null  object \n",
      " 4   education_id      21525 non-null  int64  \n",
      " 5   family_status     21525 non-null  object \n",
      " 6   family_status_id  21525 non-null  int64  \n",
      " 7   gender            21525 non-null  object \n",
      " 8   income_type       21525 non-null  object \n",
      " 9   debt              21525 non-null  int64  \n",
      " 10  total_income      19351 non-null  float64\n",
      " 11  purpose           21525 non-null  object \n",
      "dtypes: float64(2), int64(5), object(5)\n",
      "memory usage: 2.0+ MB\n"
     ]
    }
   ],
   "source": [
    "# Obtenemos información general de los datos\n",
    "datos_credito.info()"
   ]
  },
  {
   "cell_type": "markdown",
   "metadata": {},
   "source": [
    "[Contenido](#back)\n",
    "<a id='missing_values'></a>\n",
    "### Valores ausentes"
   ]
  },
  {
   "cell_type": "code",
   "execution_count": 7,
   "metadata": {},
   "outputs": [
    {
     "data": {
      "text/plain": [
       "children               0\n",
       "days_employed       2174\n",
       "dob_years              0\n",
       "education              0\n",
       "education_id           0\n",
       "family_status          0\n",
       "family_status_id       0\n",
       "gender                 0\n",
       "income_type            0\n",
       "debt                   0\n",
       "total_income        2174\n",
       "purpose                0\n",
       "dtype: int64"
      ]
     },
     "execution_count": 7,
     "metadata": {},
     "output_type": "execute_result"
    }
   ],
   "source": [
    "# buscamos la cantidad de valores faltantes en cada columna\n",
    "datos_credito.isna().sum()"
   ]
  },
  {
   "cell_type": "markdown",
   "metadata": {},
   "source": [
    "Al parecer en las columnas `'days_employed'` y `'total_income'` hay valores faltantes. Cada una con **2,174 valores faltantes.**"
   ]
  },
  {
   "cell_type": "code",
   "execution_count": 8,
   "metadata": {
    "scrolled": true
   },
   "outputs": [
    {
     "data": {
      "text/html": [
       "<div>\n",
       "<style scoped>\n",
       "    .dataframe tbody tr th:only-of-type {\n",
       "        vertical-align: middle;\n",
       "    }\n",
       "\n",
       "    .dataframe tbody tr th {\n",
       "        vertical-align: top;\n",
       "    }\n",
       "\n",
       "    .dataframe thead th {\n",
       "        text-align: right;\n",
       "    }\n",
       "</style>\n",
       "<table border=\"1\" class=\"dataframe\">\n",
       "  <thead>\n",
       "    <tr style=\"text-align: right;\">\n",
       "      <th></th>\n",
       "      <th>children</th>\n",
       "      <th>days_employed</th>\n",
       "      <th>dob_years</th>\n",
       "      <th>education</th>\n",
       "      <th>education_id</th>\n",
       "      <th>family_status</th>\n",
       "      <th>family_status_id</th>\n",
       "      <th>gender</th>\n",
       "      <th>income_type</th>\n",
       "      <th>debt</th>\n",
       "      <th>total_income</th>\n",
       "      <th>purpose</th>\n",
       "    </tr>\n",
       "  </thead>\n",
       "  <tbody>\n",
       "    <tr>\n",
       "      <th>12</th>\n",
       "      <td>0</td>\n",
       "      <td>NaN</td>\n",
       "      <td>65</td>\n",
       "      <td>secondary education</td>\n",
       "      <td>1</td>\n",
       "      <td>civil partnership</td>\n",
       "      <td>1</td>\n",
       "      <td>M</td>\n",
       "      <td>retiree</td>\n",
       "      <td>0</td>\n",
       "      <td>NaN</td>\n",
       "      <td>to have a wedding</td>\n",
       "    </tr>\n",
       "    <tr>\n",
       "      <th>26</th>\n",
       "      <td>0</td>\n",
       "      <td>NaN</td>\n",
       "      <td>41</td>\n",
       "      <td>secondary education</td>\n",
       "      <td>1</td>\n",
       "      <td>married</td>\n",
       "      <td>0</td>\n",
       "      <td>M</td>\n",
       "      <td>civil servant</td>\n",
       "      <td>0</td>\n",
       "      <td>NaN</td>\n",
       "      <td>education</td>\n",
       "    </tr>\n",
       "    <tr>\n",
       "      <th>29</th>\n",
       "      <td>0</td>\n",
       "      <td>NaN</td>\n",
       "      <td>63</td>\n",
       "      <td>secondary education</td>\n",
       "      <td>1</td>\n",
       "      <td>unmarried</td>\n",
       "      <td>4</td>\n",
       "      <td>F</td>\n",
       "      <td>retiree</td>\n",
       "      <td>0</td>\n",
       "      <td>NaN</td>\n",
       "      <td>building a real estate</td>\n",
       "    </tr>\n",
       "    <tr>\n",
       "      <th>41</th>\n",
       "      <td>0</td>\n",
       "      <td>NaN</td>\n",
       "      <td>50</td>\n",
       "      <td>secondary education</td>\n",
       "      <td>1</td>\n",
       "      <td>married</td>\n",
       "      <td>0</td>\n",
       "      <td>F</td>\n",
       "      <td>civil servant</td>\n",
       "      <td>0</td>\n",
       "      <td>NaN</td>\n",
       "      <td>second-hand car purchase</td>\n",
       "    </tr>\n",
       "    <tr>\n",
       "      <th>55</th>\n",
       "      <td>0</td>\n",
       "      <td>NaN</td>\n",
       "      <td>54</td>\n",
       "      <td>secondary education</td>\n",
       "      <td>1</td>\n",
       "      <td>civil partnership</td>\n",
       "      <td>1</td>\n",
       "      <td>F</td>\n",
       "      <td>retiree</td>\n",
       "      <td>1</td>\n",
       "      <td>NaN</td>\n",
       "      <td>to have a wedding</td>\n",
       "    </tr>\n",
       "  </tbody>\n",
       "</table>\n",
       "</div>"
      ],
      "text/plain": [
       "    children  days_employed  dob_years            education  education_id  \\\n",
       "12         0            NaN         65  secondary education             1   \n",
       "26         0            NaN         41  secondary education             1   \n",
       "29         0            NaN         63  secondary education             1   \n",
       "41         0            NaN         50  secondary education             1   \n",
       "55         0            NaN         54  secondary education             1   \n",
       "\n",
       "        family_status  family_status_id gender    income_type  debt  \\\n",
       "12  civil partnership                 1      M        retiree     0   \n",
       "26            married                 0      M  civil servant     0   \n",
       "29          unmarried                 4      F        retiree     0   \n",
       "41            married                 0      F  civil servant     0   \n",
       "55  civil partnership                 1      F        retiree     1   \n",
       "\n",
       "    total_income                   purpose  \n",
       "12           NaN         to have a wedding  \n",
       "26           NaN                 education  \n",
       "29           NaN    building a real estate  \n",
       "41           NaN  second-hand car purchase  \n",
       "55           NaN         to have a wedding  "
      ]
     },
     "execution_count": 8,
     "metadata": {},
     "output_type": "execute_result"
    }
   ],
   "source": [
    "# Veamos la tabla filtrada con valores ausentes de la primera columna donde faltan datos\n",
    "datos_credito_na=datos_credito[datos_credito['days_employed'].isna()]\n",
    "datos_credito_na.head()"
   ]
  },
  {
   "cell_type": "markdown",
   "metadata": {},
   "source": [
    "[Contenido](#back)\n",
    "<a id='missing_values_dist'></a>\n",
    "### Distribución de los valores ausentes"
   ]
  },
  {
   "cell_type": "markdown",
   "metadata": {},
   "source": [
    "Necesitamos ahora poder observar como se distribuyen los valores ausentes de las columnas `'days_employed'` y `'total_income'`con respecto a la edad, escolaridad y estado civil del solicitante."
   ]
  },
  {
   "cell_type": "code",
   "execution_count": 9,
   "metadata": {},
   "outputs": [
    {
     "data": {
      "text/plain": [
       "secondary education    1408\n",
       "bachelor's degree       496\n",
       "SECONDARY EDUCATION      67\n",
       "Secondary Education      65\n",
       "some college             55\n",
       "Bachelor's Degree        25\n",
       "BACHELOR'S DEGREE        23\n",
       "primary education        19\n",
       "SOME COLLEGE              7\n",
       "Some College              7\n",
       "PRIMARY EDUCATION         1\n",
       "Primary Education         1\n",
       "Name: education, dtype: int64"
      ]
     },
     "execution_count": 9,
     "metadata": {},
     "output_type": "execute_result"
    }
   ],
   "source": [
    "# Apliquemos agrupación por 'education' para ver la distribución de los valores faltantes.\n",
    "datos_credito_na_agrupado=datos_credito_na['education'].value_counts()\n",
    "datos_credito_na_agrupado"
   ]
  },
  {
   "cell_type": "code",
   "execution_count": 10,
   "metadata": {
    "scrolled": true
   },
   "outputs": [
    {
     "data": {
      "text/plain": [
       "married              1237\n",
       "civil partnership     442\n",
       "unmarried             288\n",
       "divorced              112\n",
       "widow / widower        95\n",
       "Name: family_status, dtype: int64"
      ]
     },
     "execution_count": 10,
     "metadata": {},
     "output_type": "execute_result"
    }
   ],
   "source": [
    "# Apliquemos agrupación por 'family_status' para ver la distribución de los valores faltantes.\n",
    "datos_credito_na_agrupado=datos_credito_na['family_status'].value_counts()\n",
    "datos_credito_na_agrupado"
   ]
  },
  {
   "cell_type": "markdown",
   "metadata": {},
   "source": [
    "**[Tabla agrupada por `'income_type'`]** <a id='info_tabla'></a>"
   ]
  },
  {
   "cell_type": "code",
   "execution_count": 11,
   "metadata": {},
   "outputs": [
    {
     "data": {
      "text/plain": [
       "employee         1105\n",
       "business          508\n",
       "retiree           413\n",
       "civil servant     147\n",
       "entrepreneur        1\n",
       "Name: income_type, dtype: int64"
      ]
     },
     "execution_count": 11,
     "metadata": {},
     "output_type": "execute_result"
    }
   ],
   "source": [
    "# Apliquemos agrupación por 'income_type' para ver la distribución de los valores faltantes.\n",
    "datos_credito_na_agrupado=datos_credito_na['income_type'].value_counts()\n",
    "datos_credito_na_agrupado"
   ]
  },
  {
   "cell_type": "code",
   "execution_count": 12,
   "metadata": {},
   "outputs": [
    {
     "data": {
      "text/plain": [
       "F    1484\n",
       "M     690\n",
       "Name: gender, dtype: int64"
      ]
     },
     "execution_count": 12,
     "metadata": {},
     "output_type": "execute_result"
    }
   ],
   "source": [
    "# Apliquemos agrupación por 'gender' para ver la distribución de los valores faltantes.\n",
    "datos_credito_na_agrupado=datos_credito_na['gender'].value_counts()\n",
    "datos_credito_na_agrupado"
   ]
  },
  {
   "cell_type": "markdown",
   "metadata": {},
   "source": [
    "[Contenido](#back)\n",
    "<a id='missing_values_percent'></a>\n",
    "### Porcentaje de valores ausentes"
   ]
  },
  {
   "cell_type": "code",
   "execution_count": 13,
   "metadata": {},
   "outputs": [
    {
     "name": "stdout",
     "output_type": "stream",
     "text": [
      "La cantidad de datos faltantes para la variable 'days_employed' es: 2174\n",
      "La cantidad de datos faltantes para la variable 'total_income' es: 2174\n",
      "La cantidad de datos totales es: 21525\n",
      "El porcentaje de valores faltantes respecto del total es de: 10%\n"
     ]
    }
   ],
   "source": [
    "# Calculemos el porcentaje de valores faltantes respecto del total\n",
    "m=datos_credito_na['days_employed'].isna().sum()\n",
    "print(f'La cantidad de datos faltantes para la variable \\'days_employed\\' es: {m}')\n",
    "n=datos_credito_na['total_income'].isna().sum()\n",
    "print(f'La cantidad de datos faltantes para la variable \\'total_income\\' es: {n}')\n",
    "N=datos_credito.shape[0]\n",
    "print(f'La cantidad de datos totales es: {N}')\n",
    "print(f'El porcentaje de valores faltantes respecto del total es de:{n/N: .0%}')"
   ]
  },
  {
   "cell_type": "markdown",
   "metadata": {},
   "source": [
    "**Conclusión intermedia**\n",
    "\n",
    "El número total de valores faltantes para la columna `'days_employed'` y la columna `'total_income'` es el mismo en este conjunto de datos por lo que podemos concluir que si hay un valor faltante en la columna `'days_employed'` también lo habrá en la columna `'total_income'`. Además, **hay un 10% de valores faltantes respecto del total de datos,** por lo que quizás sea conveniente tratar de reemplazar esos valores faltantes.\n",
    "\n",
    "Notamos también que **la variable `'education'` tiene duplicados implícitos** que hay que reemplazar.\n",
    "\n",
    "Consideremos tres **alternativas para tratar con los valores faltantes:**\n",
    "\n",
    "    * Omitir las variables con datos faltantes.\n",
    "    * Omitir los registros donde haya datos faltantes.\n",
    "    * Estimar los datos faltantes donde podemos reemplazarlos con valores predichos usando los datos presentes.\n",
    "     \n",
    "**Podremos considerar que la pérdida es aleatoria si afecta por igual a todas las categorías**, o en caso contrario, puede considerarse que los valores ausentes introducen sesgos que puedan invalidar los resultados."
   ]
  },
  {
   "cell_type": "code",
   "execution_count": 14,
   "metadata": {},
   "outputs": [
    {
     "data": {
      "text/plain": [
       "children               0\n",
       "days_employed       2174\n",
       "dob_years              0\n",
       "education              0\n",
       "education_id           0\n",
       "family_status          0\n",
       "family_status_id       0\n",
       "gender                 0\n",
       "income_type            0\n",
       "debt                   0\n",
       "total_income        2174\n",
       "purpose                0\n",
       "dtype: int64"
      ]
     },
     "execution_count": 14,
     "metadata": {},
     "output_type": "execute_result"
    }
   ],
   "source": [
    "# Vamos a investigar a los clientes que no tienen datos sobre la característica identificada y la columna con los valores ausentes\n",
    "datos_credito_na=datos_credito[(datos_credito['days_employed'].isna())&(datos_credito['total_income'].isna())]\n",
    "datos_credito_na.isna().sum()"
   ]
  },
  {
   "cell_type": "markdown",
   "metadata": {},
   "source": [
    "**Posibles razones por las que hay valores ausentes en los datos**\n",
    "\n",
    "Si observamos la tabla agrupada por `'income_type'` ([Tabla](#info_tabla)) para los datos faltantes, podemos notar que la mayoría de los datos faltantes corresponden a personas retiradas, negociantes y empleados. **Esto pueda deberse a que mucha gente no desea proporcionar su información completa con la esperanza que eso ayude a no negarles un crédito.**\n",
    "\n",
    "[Contenido](#back)"
   ]
  },
  {
   "cell_type": "markdown",
   "metadata": {},
   "source": [
    "**Vamos a crear una función que nos permite crear una tabla de distribución de valores ausentes agrupada respecto a otra variable.**"
   ]
  },
  {
   "cell_type": "code",
   "execution_count": 15,
   "metadata": {},
   "outputs": [],
   "source": [
    "def tabla_distribucion(data,variable_agrupar,variable_nula):\n",
    "    \"\"\"Esta función calcula la tabla de distribucion de valores ausentes agrupados por la variable_agrupar\n",
    "    y con valores ausentes en la variable_nula\"\"\"\n",
    "    # creamos un dataframe con valores 'NaN'\n",
    "    data_na=data[data[variable_nula].isna()]\n",
    "    \n",
    "    # creamos la tabla de distribucion para data_na\n",
    "    data_na_agrupado=data_na[variable_agrupar].value_counts()\n",
    "    columnas=data_na_agrupado.index\n",
    "    datos=data_na_agrupado.values\n",
    "    tabla_datos_credito_na_agrupado=pd.DataFrame(data=datos,index=columnas)\n",
    "    tabla_datos_credito_na_agrupado=tabla_datos_credito_na_agrupado.reset_index()\n",
    "    tabla_datos_credito_na_agrupado.set_axis([variable_agrupar,'count_na'],axis='columns',inplace=True)\n",
    "    \n",
    "    # creando la tabla de distribución para el conjunto de datos original\n",
    "    data_agrupado=data[variable_agrupar].value_counts()\n",
    "    columnas=data_agrupado.index\n",
    "    datos=data_agrupado.values\n",
    "    tabla_datos_credito_agrupado=pd.DataFrame(data=datos,index=columnas)\n",
    "    tabla_datos_credito_agrupado=tabla_datos_credito_agrupado.reset_index()\n",
    "    tabla_datos_credito_agrupado.set_axis([variable_agrupar,'count'],axis='columns',inplace=True)\n",
    "    \n",
    "    # Comparación de la distribución con respecto a 'variable' entre los datos originales y el conjunto de datos faltantes\n",
    "    tabla_dist=tabla_datos_credito_agrupado.merge(tabla_datos_credito_na_agrupado,on=variable_agrupar,how='left')\n",
    "    tabla_dist['percent']=(tabla_dist['count_na']/tabla_dist['count'])*100\n",
    "    \n",
    "    # guardamos la tabla de distribución creada\n",
    "    return tabla_dist"
   ]
  },
  {
   "cell_type": "markdown",
   "metadata": {},
   "source": [
    "[Contenido](#back)\n",
    "<a id='missing_values_table_income'></a>\n",
    "### Tabla de distribución de valores ausentes en base a `'income_type'`"
   ]
  },
  {
   "cell_type": "code",
   "execution_count": 16,
   "metadata": {},
   "outputs": [
    {
     "data": {
      "text/html": [
       "<div>\n",
       "<style scoped>\n",
       "    .dataframe tbody tr th:only-of-type {\n",
       "        vertical-align: middle;\n",
       "    }\n",
       "\n",
       "    .dataframe tbody tr th {\n",
       "        vertical-align: top;\n",
       "    }\n",
       "\n",
       "    .dataframe thead th {\n",
       "        text-align: right;\n",
       "    }\n",
       "</style>\n",
       "<table border=\"1\" class=\"dataframe\">\n",
       "  <thead>\n",
       "    <tr style=\"text-align: right;\">\n",
       "      <th></th>\n",
       "      <th>income_type</th>\n",
       "      <th>count</th>\n",
       "      <th>count_na</th>\n",
       "      <th>percent</th>\n",
       "    </tr>\n",
       "  </thead>\n",
       "  <tbody>\n",
       "    <tr>\n",
       "      <th>0</th>\n",
       "      <td>employee</td>\n",
       "      <td>11119</td>\n",
       "      <td>1105.0</td>\n",
       "      <td>9.937944</td>\n",
       "    </tr>\n",
       "    <tr>\n",
       "      <th>1</th>\n",
       "      <td>business</td>\n",
       "      <td>5085</td>\n",
       "      <td>508.0</td>\n",
       "      <td>9.990167</td>\n",
       "    </tr>\n",
       "    <tr>\n",
       "      <th>2</th>\n",
       "      <td>retiree</td>\n",
       "      <td>3856</td>\n",
       "      <td>413.0</td>\n",
       "      <td>10.710581</td>\n",
       "    </tr>\n",
       "    <tr>\n",
       "      <th>3</th>\n",
       "      <td>civil servant</td>\n",
       "      <td>1459</td>\n",
       "      <td>147.0</td>\n",
       "      <td>10.075394</td>\n",
       "    </tr>\n",
       "    <tr>\n",
       "      <th>4</th>\n",
       "      <td>entrepreneur</td>\n",
       "      <td>2</td>\n",
       "      <td>1.0</td>\n",
       "      <td>50.000000</td>\n",
       "    </tr>\n",
       "    <tr>\n",
       "      <th>5</th>\n",
       "      <td>unemployed</td>\n",
       "      <td>2</td>\n",
       "      <td>NaN</td>\n",
       "      <td>NaN</td>\n",
       "    </tr>\n",
       "    <tr>\n",
       "      <th>6</th>\n",
       "      <td>paternity / maternity leave</td>\n",
       "      <td>1</td>\n",
       "      <td>NaN</td>\n",
       "      <td>NaN</td>\n",
       "    </tr>\n",
       "    <tr>\n",
       "      <th>7</th>\n",
       "      <td>student</td>\n",
       "      <td>1</td>\n",
       "      <td>NaN</td>\n",
       "      <td>NaN</td>\n",
       "    </tr>\n",
       "  </tbody>\n",
       "</table>\n",
       "</div>"
      ],
      "text/plain": [
       "                   income_type  count  count_na    percent\n",
       "0                     employee  11119    1105.0   9.937944\n",
       "1                     business   5085     508.0   9.990167\n",
       "2                      retiree   3856     413.0  10.710581\n",
       "3                civil servant   1459     147.0  10.075394\n",
       "4                 entrepreneur      2       1.0  50.000000\n",
       "5                   unemployed      2       NaN        NaN\n",
       "6  paternity / maternity leave      1       NaN        NaN\n",
       "7                      student      1       NaN        NaN"
      ]
     },
     "execution_count": 16,
     "metadata": {},
     "output_type": "execute_result"
    }
   ],
   "source": [
    "tabla_distribucion(data=datos_credito,variable_agrupar='income_type',variable_nula='days_employed')"
   ]
  },
  {
   "cell_type": "markdown",
   "metadata": {},
   "source": [
    "**Encontremos las distribución de los valores ausentes para 'education', 'family_status' y 'gender'.**"
   ]
  },
  {
   "cell_type": "markdown",
   "metadata": {},
   "source": [
    "[Contenido](#back)\n",
    "<a id='missing_values_table_education'></a>\n",
    "### Tabla de distribución de valores ausentes en base a `'education'`"
   ]
  },
  {
   "cell_type": "code",
   "execution_count": 17,
   "metadata": {},
   "outputs": [
    {
     "data": {
      "text/html": [
       "<div>\n",
       "<style scoped>\n",
       "    .dataframe tbody tr th:only-of-type {\n",
       "        vertical-align: middle;\n",
       "    }\n",
       "\n",
       "    .dataframe tbody tr th {\n",
       "        vertical-align: top;\n",
       "    }\n",
       "\n",
       "    .dataframe thead th {\n",
       "        text-align: right;\n",
       "    }\n",
       "</style>\n",
       "<table border=\"1\" class=\"dataframe\">\n",
       "  <thead>\n",
       "    <tr style=\"text-align: right;\">\n",
       "      <th></th>\n",
       "      <th>education</th>\n",
       "      <th>count</th>\n",
       "      <th>count_na</th>\n",
       "      <th>percent</th>\n",
       "    </tr>\n",
       "  </thead>\n",
       "  <tbody>\n",
       "    <tr>\n",
       "      <th>0</th>\n",
       "      <td>secondary education</td>\n",
       "      <td>13750</td>\n",
       "      <td>1408.0</td>\n",
       "      <td>10.240000</td>\n",
       "    </tr>\n",
       "    <tr>\n",
       "      <th>1</th>\n",
       "      <td>bachelor's degree</td>\n",
       "      <td>4718</td>\n",
       "      <td>496.0</td>\n",
       "      <td>10.512929</td>\n",
       "    </tr>\n",
       "    <tr>\n",
       "      <th>2</th>\n",
       "      <td>SECONDARY EDUCATION</td>\n",
       "      <td>772</td>\n",
       "      <td>67.0</td>\n",
       "      <td>8.678756</td>\n",
       "    </tr>\n",
       "    <tr>\n",
       "      <th>3</th>\n",
       "      <td>Secondary Education</td>\n",
       "      <td>711</td>\n",
       "      <td>65.0</td>\n",
       "      <td>9.142053</td>\n",
       "    </tr>\n",
       "    <tr>\n",
       "      <th>4</th>\n",
       "      <td>some college</td>\n",
       "      <td>668</td>\n",
       "      <td>55.0</td>\n",
       "      <td>8.233533</td>\n",
       "    </tr>\n",
       "    <tr>\n",
       "      <th>5</th>\n",
       "      <td>BACHELOR'S DEGREE</td>\n",
       "      <td>274</td>\n",
       "      <td>23.0</td>\n",
       "      <td>8.394161</td>\n",
       "    </tr>\n",
       "    <tr>\n",
       "      <th>6</th>\n",
       "      <td>Bachelor's Degree</td>\n",
       "      <td>268</td>\n",
       "      <td>25.0</td>\n",
       "      <td>9.328358</td>\n",
       "    </tr>\n",
       "    <tr>\n",
       "      <th>7</th>\n",
       "      <td>primary education</td>\n",
       "      <td>250</td>\n",
       "      <td>19.0</td>\n",
       "      <td>7.600000</td>\n",
       "    </tr>\n",
       "    <tr>\n",
       "      <th>8</th>\n",
       "      <td>Some College</td>\n",
       "      <td>47</td>\n",
       "      <td>7.0</td>\n",
       "      <td>14.893617</td>\n",
       "    </tr>\n",
       "    <tr>\n",
       "      <th>9</th>\n",
       "      <td>SOME COLLEGE</td>\n",
       "      <td>29</td>\n",
       "      <td>7.0</td>\n",
       "      <td>24.137931</td>\n",
       "    </tr>\n",
       "    <tr>\n",
       "      <th>10</th>\n",
       "      <td>PRIMARY EDUCATION</td>\n",
       "      <td>17</td>\n",
       "      <td>1.0</td>\n",
       "      <td>5.882353</td>\n",
       "    </tr>\n",
       "    <tr>\n",
       "      <th>11</th>\n",
       "      <td>Primary Education</td>\n",
       "      <td>15</td>\n",
       "      <td>1.0</td>\n",
       "      <td>6.666667</td>\n",
       "    </tr>\n",
       "    <tr>\n",
       "      <th>12</th>\n",
       "      <td>graduate degree</td>\n",
       "      <td>4</td>\n",
       "      <td>NaN</td>\n",
       "      <td>NaN</td>\n",
       "    </tr>\n",
       "    <tr>\n",
       "      <th>13</th>\n",
       "      <td>Graduate Degree</td>\n",
       "      <td>1</td>\n",
       "      <td>NaN</td>\n",
       "      <td>NaN</td>\n",
       "    </tr>\n",
       "    <tr>\n",
       "      <th>14</th>\n",
       "      <td>GRADUATE DEGREE</td>\n",
       "      <td>1</td>\n",
       "      <td>NaN</td>\n",
       "      <td>NaN</td>\n",
       "    </tr>\n",
       "  </tbody>\n",
       "</table>\n",
       "</div>"
      ],
      "text/plain": [
       "              education  count  count_na    percent\n",
       "0   secondary education  13750    1408.0  10.240000\n",
       "1     bachelor's degree   4718     496.0  10.512929\n",
       "2   SECONDARY EDUCATION    772      67.0   8.678756\n",
       "3   Secondary Education    711      65.0   9.142053\n",
       "4          some college    668      55.0   8.233533\n",
       "5     BACHELOR'S DEGREE    274      23.0   8.394161\n",
       "6     Bachelor's Degree    268      25.0   9.328358\n",
       "7     primary education    250      19.0   7.600000\n",
       "8          Some College     47       7.0  14.893617\n",
       "9          SOME COLLEGE     29       7.0  24.137931\n",
       "10    PRIMARY EDUCATION     17       1.0   5.882353\n",
       "11    Primary Education     15       1.0   6.666667\n",
       "12      graduate degree      4       NaN        NaN\n",
       "13      Graduate Degree      1       NaN        NaN\n",
       "14      GRADUATE DEGREE      1       NaN        NaN"
      ]
     },
     "execution_count": 17,
     "metadata": {},
     "output_type": "execute_result"
    }
   ],
   "source": [
    "tabla_distribucion(data=datos_credito,variable_agrupar='education',variable_nula='days_employed')"
   ]
  },
  {
   "cell_type": "markdown",
   "metadata": {},
   "source": [
    "[Contenido](#back)\n",
    "<a id='missing_values_table_family'></a>\n",
    "### Tabla de distribución de valores ausentes en base a `'family_status'`"
   ]
  },
  {
   "cell_type": "code",
   "execution_count": 18,
   "metadata": {},
   "outputs": [
    {
     "data": {
      "text/html": [
       "<div>\n",
       "<style scoped>\n",
       "    .dataframe tbody tr th:only-of-type {\n",
       "        vertical-align: middle;\n",
       "    }\n",
       "\n",
       "    .dataframe tbody tr th {\n",
       "        vertical-align: top;\n",
       "    }\n",
       "\n",
       "    .dataframe thead th {\n",
       "        text-align: right;\n",
       "    }\n",
       "</style>\n",
       "<table border=\"1\" class=\"dataframe\">\n",
       "  <thead>\n",
       "    <tr style=\"text-align: right;\">\n",
       "      <th></th>\n",
       "      <th>family_status</th>\n",
       "      <th>count</th>\n",
       "      <th>count_na</th>\n",
       "      <th>percent</th>\n",
       "    </tr>\n",
       "  </thead>\n",
       "  <tbody>\n",
       "    <tr>\n",
       "      <th>0</th>\n",
       "      <td>married</td>\n",
       "      <td>12380</td>\n",
       "      <td>1237</td>\n",
       "      <td>9.991922</td>\n",
       "    </tr>\n",
       "    <tr>\n",
       "      <th>1</th>\n",
       "      <td>civil partnership</td>\n",
       "      <td>4177</td>\n",
       "      <td>442</td>\n",
       "      <td>10.581757</td>\n",
       "    </tr>\n",
       "    <tr>\n",
       "      <th>2</th>\n",
       "      <td>unmarried</td>\n",
       "      <td>2813</td>\n",
       "      <td>288</td>\n",
       "      <td>10.238180</td>\n",
       "    </tr>\n",
       "    <tr>\n",
       "      <th>3</th>\n",
       "      <td>divorced</td>\n",
       "      <td>1195</td>\n",
       "      <td>112</td>\n",
       "      <td>9.372385</td>\n",
       "    </tr>\n",
       "    <tr>\n",
       "      <th>4</th>\n",
       "      <td>widow / widower</td>\n",
       "      <td>960</td>\n",
       "      <td>95</td>\n",
       "      <td>9.895833</td>\n",
       "    </tr>\n",
       "  </tbody>\n",
       "</table>\n",
       "</div>"
      ],
      "text/plain": [
       "       family_status  count  count_na    percent\n",
       "0            married  12380      1237   9.991922\n",
       "1  civil partnership   4177       442  10.581757\n",
       "2          unmarried   2813       288  10.238180\n",
       "3           divorced   1195       112   9.372385\n",
       "4    widow / widower    960        95   9.895833"
      ]
     },
     "execution_count": 18,
     "metadata": {},
     "output_type": "execute_result"
    }
   ],
   "source": [
    "tabla_distribucion(data=datos_credito,variable_agrupar='family_status',variable_nula='days_employed')"
   ]
  },
  {
   "cell_type": "markdown",
   "metadata": {},
   "source": [
    "[Contenido](#back)\n",
    "<a id='missing_values_table_gender'></a>\n",
    "### Tabla de distribución de valores ausentes en base a `'gender'`"
   ]
  },
  {
   "cell_type": "code",
   "execution_count": 19,
   "metadata": {},
   "outputs": [
    {
     "data": {
      "text/html": [
       "<div>\n",
       "<style scoped>\n",
       "    .dataframe tbody tr th:only-of-type {\n",
       "        vertical-align: middle;\n",
       "    }\n",
       "\n",
       "    .dataframe tbody tr th {\n",
       "        vertical-align: top;\n",
       "    }\n",
       "\n",
       "    .dataframe thead th {\n",
       "        text-align: right;\n",
       "    }\n",
       "</style>\n",
       "<table border=\"1\" class=\"dataframe\">\n",
       "  <thead>\n",
       "    <tr style=\"text-align: right;\">\n",
       "      <th></th>\n",
       "      <th>gender</th>\n",
       "      <th>count</th>\n",
       "      <th>count_na</th>\n",
       "      <th>percent</th>\n",
       "    </tr>\n",
       "  </thead>\n",
       "  <tbody>\n",
       "    <tr>\n",
       "      <th>0</th>\n",
       "      <td>F</td>\n",
       "      <td>14236</td>\n",
       "      <td>1484.0</td>\n",
       "      <td>10.424276</td>\n",
       "    </tr>\n",
       "    <tr>\n",
       "      <th>1</th>\n",
       "      <td>M</td>\n",
       "      <td>7288</td>\n",
       "      <td>690.0</td>\n",
       "      <td>9.467618</td>\n",
       "    </tr>\n",
       "    <tr>\n",
       "      <th>2</th>\n",
       "      <td>XNA</td>\n",
       "      <td>1</td>\n",
       "      <td>NaN</td>\n",
       "      <td>NaN</td>\n",
       "    </tr>\n",
       "  </tbody>\n",
       "</table>\n",
       "</div>"
      ],
      "text/plain": [
       "  gender  count  count_na    percent\n",
       "0      F  14236    1484.0  10.424276\n",
       "1      M   7288     690.0   9.467618\n",
       "2    XNA      1       NaN        NaN"
      ]
     },
     "execution_count": 19,
     "metadata": {},
     "output_type": "execute_result"
    }
   ],
   "source": [
    "tabla_distribucion(data=datos_credito,variable_agrupar='gender',variable_nula='days_employed')"
   ]
  },
  {
   "cell_type": "markdown",
   "metadata": {},
   "source": [
    "**Conclusión intermedia**\n",
    "\n",
    "Al parecer la distribución de los valores faltantes en la columna `'days_employed'`, agrupando el conjunto de datos por la columna `'income_type'`, así como usando otras columnas, es similar para cada una de las características (aproximadamente un 10%) pero eso no arroja alguna luz sobre el motivo de la presencia de valores faltantes. También **es necesario hacer una búsqueda de valores atípicos o erróneos.**"
   ]
  },
  {
   "cell_type": "code",
   "execution_count": 20,
   "metadata": {},
   "outputs": [
    {
     "data": {
      "text/html": [
       "<div>\n",
       "<style scoped>\n",
       "    .dataframe tbody tr th:only-of-type {\n",
       "        vertical-align: middle;\n",
       "    }\n",
       "\n",
       "    .dataframe tbody tr th {\n",
       "        vertical-align: top;\n",
       "    }\n",
       "\n",
       "    .dataframe thead th {\n",
       "        text-align: right;\n",
       "    }\n",
       "</style>\n",
       "<table border=\"1\" class=\"dataframe\">\n",
       "  <thead>\n",
       "    <tr style=\"text-align: right;\">\n",
       "      <th></th>\n",
       "      <th>children</th>\n",
       "      <th>days_employed</th>\n",
       "      <th>dob_years</th>\n",
       "      <th>education_id</th>\n",
       "      <th>family_status_id</th>\n",
       "      <th>debt</th>\n",
       "      <th>total_income</th>\n",
       "    </tr>\n",
       "  </thead>\n",
       "  <tbody>\n",
       "    <tr>\n",
       "      <th>count</th>\n",
       "      <td>21525.000000</td>\n",
       "      <td>19351.000000</td>\n",
       "      <td>21525.000000</td>\n",
       "      <td>21525.000000</td>\n",
       "      <td>21525.000000</td>\n",
       "      <td>21525.000000</td>\n",
       "      <td>19351.000000</td>\n",
       "    </tr>\n",
       "    <tr>\n",
       "      <th>mean</th>\n",
       "      <td>0.538908</td>\n",
       "      <td>63046.497661</td>\n",
       "      <td>43.293380</td>\n",
       "      <td>0.817236</td>\n",
       "      <td>0.972544</td>\n",
       "      <td>0.080883</td>\n",
       "      <td>26787.568355</td>\n",
       "    </tr>\n",
       "    <tr>\n",
       "      <th>std</th>\n",
       "      <td>1.381587</td>\n",
       "      <td>140827.311974</td>\n",
       "      <td>12.574584</td>\n",
       "      <td>0.548138</td>\n",
       "      <td>1.420324</td>\n",
       "      <td>0.272661</td>\n",
       "      <td>16475.450632</td>\n",
       "    </tr>\n",
       "    <tr>\n",
       "      <th>min</th>\n",
       "      <td>-1.000000</td>\n",
       "      <td>-18388.949901</td>\n",
       "      <td>0.000000</td>\n",
       "      <td>0.000000</td>\n",
       "      <td>0.000000</td>\n",
       "      <td>0.000000</td>\n",
       "      <td>3306.762000</td>\n",
       "    </tr>\n",
       "    <tr>\n",
       "      <th>25%</th>\n",
       "      <td>0.000000</td>\n",
       "      <td>-2747.423625</td>\n",
       "      <td>33.000000</td>\n",
       "      <td>1.000000</td>\n",
       "      <td>0.000000</td>\n",
       "      <td>0.000000</td>\n",
       "      <td>16488.504500</td>\n",
       "    </tr>\n",
       "    <tr>\n",
       "      <th>50%</th>\n",
       "      <td>0.000000</td>\n",
       "      <td>-1203.369529</td>\n",
       "      <td>42.000000</td>\n",
       "      <td>1.000000</td>\n",
       "      <td>0.000000</td>\n",
       "      <td>0.000000</td>\n",
       "      <td>23202.870000</td>\n",
       "    </tr>\n",
       "    <tr>\n",
       "      <th>75%</th>\n",
       "      <td>1.000000</td>\n",
       "      <td>-291.095954</td>\n",
       "      <td>53.000000</td>\n",
       "      <td>1.000000</td>\n",
       "      <td>1.000000</td>\n",
       "      <td>0.000000</td>\n",
       "      <td>32549.611000</td>\n",
       "    </tr>\n",
       "    <tr>\n",
       "      <th>max</th>\n",
       "      <td>20.000000</td>\n",
       "      <td>401755.400475</td>\n",
       "      <td>75.000000</td>\n",
       "      <td>4.000000</td>\n",
       "      <td>4.000000</td>\n",
       "      <td>1.000000</td>\n",
       "      <td>362496.645000</td>\n",
       "    </tr>\n",
       "  </tbody>\n",
       "</table>\n",
       "</div>"
      ],
      "text/plain": [
       "           children  days_employed     dob_years  education_id  \\\n",
       "count  21525.000000   19351.000000  21525.000000  21525.000000   \n",
       "mean       0.538908   63046.497661     43.293380      0.817236   \n",
       "std        1.381587  140827.311974     12.574584      0.548138   \n",
       "min       -1.000000  -18388.949901      0.000000      0.000000   \n",
       "25%        0.000000   -2747.423625     33.000000      1.000000   \n",
       "50%        0.000000   -1203.369529     42.000000      1.000000   \n",
       "75%        1.000000    -291.095954     53.000000      1.000000   \n",
       "max       20.000000  401755.400475     75.000000      4.000000   \n",
       "\n",
       "       family_status_id          debt   total_income  \n",
       "count      21525.000000  21525.000000   19351.000000  \n",
       "mean           0.972544      0.080883   26787.568355  \n",
       "std            1.420324      0.272661   16475.450632  \n",
       "min            0.000000      0.000000    3306.762000  \n",
       "25%            0.000000      0.000000   16488.504500  \n",
       "50%            0.000000      0.000000   23202.870000  \n",
       "75%            1.000000      0.000000   32549.611000  \n",
       "max            4.000000      1.000000  362496.645000  "
      ]
     },
     "execution_count": 20,
     "metadata": {},
     "output_type": "execute_result"
    }
   ],
   "source": [
    "# Comprobar otras razones y patrones que podrían llevar a valores ausentes\n",
    "datos_credito.describe()"
   ]
  },
  {
   "cell_type": "code",
   "execution_count": 21,
   "metadata": {},
   "outputs": [
    {
     "data": {
      "text/html": [
       "<div>\n",
       "<style scoped>\n",
       "    .dataframe tbody tr th:only-of-type {\n",
       "        vertical-align: middle;\n",
       "    }\n",
       "\n",
       "    .dataframe tbody tr th {\n",
       "        vertical-align: top;\n",
       "    }\n",
       "\n",
       "    .dataframe thead th {\n",
       "        text-align: right;\n",
       "    }\n",
       "</style>\n",
       "<table border=\"1\" class=\"dataframe\">\n",
       "  <thead>\n",
       "    <tr style=\"text-align: right;\">\n",
       "      <th></th>\n",
       "      <th>children</th>\n",
       "      <th>days_employed</th>\n",
       "      <th>dob_years</th>\n",
       "      <th>education</th>\n",
       "      <th>education_id</th>\n",
       "      <th>family_status</th>\n",
       "      <th>family_status_id</th>\n",
       "      <th>gender</th>\n",
       "      <th>income_type</th>\n",
       "      <th>debt</th>\n",
       "      <th>total_income</th>\n",
       "      <th>purpose</th>\n",
       "    </tr>\n",
       "  </thead>\n",
       "  <tbody>\n",
       "    <tr>\n",
       "      <th>4</th>\n",
       "      <td>0</td>\n",
       "      <td>340266.072047</td>\n",
       "      <td>53</td>\n",
       "      <td>secondary education</td>\n",
       "      <td>1</td>\n",
       "      <td>civil partnership</td>\n",
       "      <td>1</td>\n",
       "      <td>F</td>\n",
       "      <td>retiree</td>\n",
       "      <td>0</td>\n",
       "      <td>25378.572</td>\n",
       "      <td>to have a wedding</td>\n",
       "    </tr>\n",
       "    <tr>\n",
       "      <th>18</th>\n",
       "      <td>0</td>\n",
       "      <td>400281.136913</td>\n",
       "      <td>53</td>\n",
       "      <td>secondary education</td>\n",
       "      <td>1</td>\n",
       "      <td>widow / widower</td>\n",
       "      <td>2</td>\n",
       "      <td>F</td>\n",
       "      <td>retiree</td>\n",
       "      <td>0</td>\n",
       "      <td>9091.804</td>\n",
       "      <td>buying a second-hand car</td>\n",
       "    </tr>\n",
       "    <tr>\n",
       "      <th>24</th>\n",
       "      <td>1</td>\n",
       "      <td>338551.952911</td>\n",
       "      <td>57</td>\n",
       "      <td>secondary education</td>\n",
       "      <td>1</td>\n",
       "      <td>unmarried</td>\n",
       "      <td>4</td>\n",
       "      <td>F</td>\n",
       "      <td>retiree</td>\n",
       "      <td>0</td>\n",
       "      <td>46487.558</td>\n",
       "      <td>transactions with commercial real estate</td>\n",
       "    </tr>\n",
       "    <tr>\n",
       "      <th>25</th>\n",
       "      <td>0</td>\n",
       "      <td>363548.489348</td>\n",
       "      <td>67</td>\n",
       "      <td>secondary education</td>\n",
       "      <td>1</td>\n",
       "      <td>married</td>\n",
       "      <td>0</td>\n",
       "      <td>M</td>\n",
       "      <td>retiree</td>\n",
       "      <td>0</td>\n",
       "      <td>8818.041</td>\n",
       "      <td>buy real estate</td>\n",
       "    </tr>\n",
       "    <tr>\n",
       "      <th>30</th>\n",
       "      <td>1</td>\n",
       "      <td>335581.668515</td>\n",
       "      <td>62</td>\n",
       "      <td>secondary education</td>\n",
       "      <td>1</td>\n",
       "      <td>married</td>\n",
       "      <td>0</td>\n",
       "      <td>F</td>\n",
       "      <td>retiree</td>\n",
       "      <td>0</td>\n",
       "      <td>27432.971</td>\n",
       "      <td>transactions with commercial real estate</td>\n",
       "    </tr>\n",
       "  </tbody>\n",
       "</table>\n",
       "</div>"
      ],
      "text/plain": [
       "    children  days_employed  dob_years            education  education_id  \\\n",
       "4          0  340266.072047         53  secondary education             1   \n",
       "18         0  400281.136913         53  secondary education             1   \n",
       "24         1  338551.952911         57  secondary education             1   \n",
       "25         0  363548.489348         67  secondary education             1   \n",
       "30         1  335581.668515         62  secondary education             1   \n",
       "\n",
       "        family_status  family_status_id gender income_type  debt  \\\n",
       "4   civil partnership                 1      F     retiree     0   \n",
       "18    widow / widower                 2      F     retiree     0   \n",
       "24          unmarried                 4      F     retiree     0   \n",
       "25            married                 0      M     retiree     0   \n",
       "30            married                 0      F     retiree     0   \n",
       "\n",
       "    total_income                                   purpose  \n",
       "4      25378.572                         to have a wedding  \n",
       "18      9091.804                  buying a second-hand car  \n",
       "24     46487.558  transactions with commercial real estate  \n",
       "25      8818.041                           buy real estate  \n",
       "30     27432.971  transactions with commercial real estate  "
      ]
     },
     "execution_count": 21,
     "metadata": {},
     "output_type": "execute_result"
    }
   ],
   "source": [
    "# 60 años de experiencia laboral equivale aproxidamente a 21,900 días\n",
    "datos_credito[datos_credito['days_employed']>21900].head()"
   ]
  },
  {
   "cell_type": "code",
   "execution_count": 22,
   "metadata": {
    "scrolled": true
   },
   "outputs": [
    {
     "data": {
      "text/html": [
       "<div>\n",
       "<style scoped>\n",
       "    .dataframe tbody tr th:only-of-type {\n",
       "        vertical-align: middle;\n",
       "    }\n",
       "\n",
       "    .dataframe tbody tr th {\n",
       "        vertical-align: top;\n",
       "    }\n",
       "\n",
       "    .dataframe thead th {\n",
       "        text-align: right;\n",
       "    }\n",
       "</style>\n",
       "<table border=\"1\" class=\"dataframe\">\n",
       "  <thead>\n",
       "    <tr style=\"text-align: right;\">\n",
       "      <th></th>\n",
       "      <th>children</th>\n",
       "      <th>days_employed</th>\n",
       "      <th>dob_years</th>\n",
       "      <th>education</th>\n",
       "      <th>education_id</th>\n",
       "      <th>family_status</th>\n",
       "      <th>family_status_id</th>\n",
       "      <th>gender</th>\n",
       "      <th>income_type</th>\n",
       "      <th>debt</th>\n",
       "      <th>total_income</th>\n",
       "      <th>purpose</th>\n",
       "    </tr>\n",
       "  </thead>\n",
       "  <tbody>\n",
       "    <tr>\n",
       "      <th>99</th>\n",
       "      <td>0</td>\n",
       "      <td>346541.618895</td>\n",
       "      <td>0</td>\n",
       "      <td>Secondary Education</td>\n",
       "      <td>1</td>\n",
       "      <td>married</td>\n",
       "      <td>0</td>\n",
       "      <td>F</td>\n",
       "      <td>retiree</td>\n",
       "      <td>0</td>\n",
       "      <td>11406.644</td>\n",
       "      <td>car</td>\n",
       "    </tr>\n",
       "    <tr>\n",
       "      <th>149</th>\n",
       "      <td>0</td>\n",
       "      <td>-2664.273168</td>\n",
       "      <td>0</td>\n",
       "      <td>secondary education</td>\n",
       "      <td>1</td>\n",
       "      <td>divorced</td>\n",
       "      <td>3</td>\n",
       "      <td>F</td>\n",
       "      <td>employee</td>\n",
       "      <td>0</td>\n",
       "      <td>11228.230</td>\n",
       "      <td>housing transactions</td>\n",
       "    </tr>\n",
       "    <tr>\n",
       "      <th>270</th>\n",
       "      <td>3</td>\n",
       "      <td>-1872.663186</td>\n",
       "      <td>0</td>\n",
       "      <td>secondary education</td>\n",
       "      <td>1</td>\n",
       "      <td>married</td>\n",
       "      <td>0</td>\n",
       "      <td>F</td>\n",
       "      <td>employee</td>\n",
       "      <td>0</td>\n",
       "      <td>16346.633</td>\n",
       "      <td>housing renovation</td>\n",
       "    </tr>\n",
       "    <tr>\n",
       "      <th>578</th>\n",
       "      <td>0</td>\n",
       "      <td>397856.565013</td>\n",
       "      <td>0</td>\n",
       "      <td>secondary education</td>\n",
       "      <td>1</td>\n",
       "      <td>married</td>\n",
       "      <td>0</td>\n",
       "      <td>F</td>\n",
       "      <td>retiree</td>\n",
       "      <td>0</td>\n",
       "      <td>15619.310</td>\n",
       "      <td>construction of own property</td>\n",
       "    </tr>\n",
       "    <tr>\n",
       "      <th>1040</th>\n",
       "      <td>0</td>\n",
       "      <td>-1158.029561</td>\n",
       "      <td>0</td>\n",
       "      <td>bachelor's degree</td>\n",
       "      <td>0</td>\n",
       "      <td>divorced</td>\n",
       "      <td>3</td>\n",
       "      <td>F</td>\n",
       "      <td>business</td>\n",
       "      <td>0</td>\n",
       "      <td>48639.062</td>\n",
       "      <td>to own a car</td>\n",
       "    </tr>\n",
       "  </tbody>\n",
       "</table>\n",
       "</div>"
      ],
      "text/plain": [
       "      children  days_employed  dob_years            education  education_id  \\\n",
       "99           0  346541.618895          0  Secondary Education             1   \n",
       "149          0   -2664.273168          0  secondary education             1   \n",
       "270          3   -1872.663186          0  secondary education             1   \n",
       "578          0  397856.565013          0  secondary education             1   \n",
       "1040         0   -1158.029561          0    bachelor's degree             0   \n",
       "\n",
       "     family_status  family_status_id gender income_type  debt  total_income  \\\n",
       "99         married                 0      F     retiree     0     11406.644   \n",
       "149       divorced                 3      F    employee     0     11228.230   \n",
       "270        married                 0      F    employee     0     16346.633   \n",
       "578        married                 0      F     retiree     0     15619.310   \n",
       "1040      divorced                 3      F    business     0     48639.062   \n",
       "\n",
       "                           purpose  \n",
       "99                             car  \n",
       "149           housing transactions  \n",
       "270             housing renovation  \n",
       "578   construction of own property  \n",
       "1040                  to own a car  "
      ]
     },
     "execution_count": 22,
     "metadata": {},
     "output_type": "execute_result"
    }
   ],
   "source": [
    "datos_credito[datos_credito['dob_years']==0].head()"
   ]
  },
  {
   "cell_type": "markdown",
   "metadata": {},
   "source": [
    "[Contenido](#back)\n",
    "\n",
    "**Conclusión intermedia**\n",
    "\n",
    "Hasta el momento, podemos decir que **los valores ausentes afectan por igual a las categorías presentes en la variable `'income_type'`.**\n",
    "\n",
    "De la tabla anterior de resumen de estadísticas podemos observar que la variable `'days_employed'` presenta **valores atípicos**; algunos **negativos**(cosa que no puede ser) **o muy grandes** (401755.400475) **que implican una experiencia laboral en más de 110 años**. Así mismo, la variable `'dob_years'` también presenta valores problematicos, **edades con valores igual a cero.**"
   ]
  },
  {
   "cell_type": "markdown",
   "metadata": {},
   "source": [
    "**Conclusiones**\n",
    "\n",
    "**Los valores ausentes** en las columnas `'days_employed'`y `'total_income'`**pueden tener repercusión en la determinación de la puntuación del crédito,** así que habrá que encontrar la mejor manera de lidiar con esos valores. Muy posiblemente haya que hacer una estimación de esos valores ausentes y quizás la mejor manera de esa hacer las estimaciones de esos valores sea realizar agrupaciones sobre algunas variables, que nos ayuden a obtener una estimación de la media o mediana, en el caso de valores ausentes de tipo númerico, o de una frecuencia, en el caso de una variable categórica.\n",
    "\n",
    "Dado que la columna `'days_employed'` es la que presenta mayor cantidad de problemas, por el momento la ignoraremos y nos concentraremos en trabajar con las restantes."
   ]
  },
  {
   "cell_type": "markdown",
   "metadata": {},
   "source": [
    "[Contenido](#back)\n",
    "<a id='transform_data'></a>\n",
    "## Etapa 2. Transformación de los datos\n",
    "\n",
    "Analizaremos cada columna para ver que correciones tenemos que hacer en cada una de las que presentan problemas. Abordaremos valores duplicados, ausentes, problemáticos y atípicos."
   ]
  },
  {
   "cell_type": "markdown",
   "metadata": {},
   "source": [
    "<a id='correct_values_education'></a>\n",
    "### Corrección de duplicados implicitos en `'education'`\n",
    "\n",
    "Antes de proceder con otros análisis, vamos a corregir la presencia de duplicados implicitos en la columna `'education'` ya que es la única variable categórica con este tipo de problema."
   ]
  },
  {
   "cell_type": "code",
   "execution_count": 23,
   "metadata": {},
   "outputs": [
    {
     "data": {
      "text/plain": [
       "array([\"BACHELOR'S DEGREE\", \"Bachelor's Degree\", 'GRADUATE DEGREE',\n",
       "       'Graduate Degree', 'PRIMARY EDUCATION', 'Primary Education',\n",
       "       'SECONDARY EDUCATION', 'SOME COLLEGE', 'Secondary Education',\n",
       "       'Some College', \"bachelor's degree\", 'graduate degree',\n",
       "       'primary education', 'secondary education', 'some college'],\n",
       "      dtype=object)"
      ]
     },
     "execution_count": 23,
     "metadata": {},
     "output_type": "execute_result"
    }
   ],
   "source": [
    "# Veamos todos los valores en la columna 'education' para verificar si será necesario corregir la ortografía y qué habrá que corregir exactamente\n",
    "datos_credito['education'].sort_values().unique()"
   ]
  },
  {
   "cell_type": "code",
   "execution_count": 24,
   "metadata": {
    "scrolled": true
   },
   "outputs": [],
   "source": [
    "# Realizaremos una transformación a minúsculas para buscar solucionar el problema\n",
    "datos_credito['education']=datos_credito['education'].str.lower()"
   ]
  },
  {
   "cell_type": "code",
   "execution_count": 25,
   "metadata": {},
   "outputs": [
    {
     "data": {
      "text/plain": [
       "array([\"bachelor's degree\", 'graduate degree', 'primary education',\n",
       "       'secondary education', 'some college'], dtype=object)"
      ]
     },
     "execution_count": 25,
     "metadata": {},
     "output_type": "execute_result"
    }
   ],
   "source": [
    "# Comprobamos todos los valores en la columna para asegurarnos de que los hayamos corregido\n",
    "datos_credito['education'].sort_values().unique()"
   ]
  },
  {
   "cell_type": "code",
   "execution_count": null,
   "metadata": {},
   "outputs": [
    {
     "data": {
      "text/plain": [
       "array([\"bachelor's_degree\", 'graduate_degree', 'primary_education',\n",
       "       'secondary_education', 'some_college'], dtype=object)"
      ]
     },
     "metadata": {},
     "output_type": "display_data"
    }
   ],
   "source": [
    "# Reemplazaremos los espacios que existen en los nombres de las categorías por '_' para hacer más fácil su consulta\n",
    "datos_credito['education'].replace(\"bachelor's degree\",\"bachelor's_degree\",inplace=True)\n",
    "datos_credito['education'].replace('graduate degree','graduate_degree',inplace=True)\n",
    "datos_credito['education'].replace('primary education','primary_education',inplace=True)\n",
    "datos_credito['education'].replace('secondary education','secondary_education',inplace=True)\n",
    "datos_credito['education'].replace('some college','some_college',inplace=True)\n",
    "datos_credito['education'].sort_values().unique()"
   ]
  },
  {
   "cell_type": "markdown",
   "metadata": {},
   "source": [
    "**Analizaremos ahora la columna `'children'`.**"
   ]
  },
  {
   "cell_type": "code",
   "execution_count": 26,
   "metadata": {},
   "outputs": [
    {
     "data": {
      "text/plain": [
       "array([-1,  0,  1,  2,  3,  4,  5, 20])"
      ]
     },
     "execution_count": 26,
     "metadata": {},
     "output_type": "execute_result"
    }
   ],
   "source": [
    "# Veamos la distribución de los valores en la columna 'children'\n",
    "datos_credito['children'].sort_values().unique()"
   ]
  },
  {
   "cell_type": "code",
   "execution_count": 27,
   "metadata": {},
   "outputs": [
    {
     "data": {
      "text/plain": [
       " 0     14149\n",
       " 1      4818\n",
       " 2      2055\n",
       " 3       330\n",
       " 20       76\n",
       "-1        47\n",
       " 4        41\n",
       " 5         9\n",
       "Name: children, dtype: int64"
      ]
     },
     "execution_count": 27,
     "metadata": {},
     "output_type": "execute_result"
    }
   ],
   "source": [
    "datos_credito['children'].value_counts()"
   ]
  },
  {
   "cell_type": "markdown",
   "metadata": {},
   "source": [
    "Podemos notar que **los valores: -1 y 20 son valores fuera de lugar**. debemos elegir reemplazarlos por algún valor coherente o eliminarlos si no se encuentra una mejor solución. Tenemos un total de 123 datos problemáticos de un total de 21525, lo cual representa un 0.6%. Asumiendo que posiblemente hubo errores en su captura,procedemos a reeemplazar los valores -1 por 1 y 20 por 2.\n",
    "\n",
    "[Contenido](#back)"
   ]
  },
  {
   "cell_type": "code",
   "execution_count": 28,
   "metadata": {},
   "outputs": [],
   "source": [
    "# Eliminaremos los datos donde la columna 'children' sea igual a -1 ó 20\n",
    "datos_credito['children'].replace(-1,1,inplace=True)\n",
    "datos_credito['children'].replace(20,2,inplace=True)"
   ]
  },
  {
   "cell_type": "code",
   "execution_count": 29,
   "metadata": {},
   "outputs": [
    {
     "data": {
      "text/plain": [
       "0    14149\n",
       "1     4865\n",
       "2     2131\n",
       "3      330\n",
       "4       41\n",
       "5        9\n",
       "Name: children, dtype: int64"
      ]
     },
     "execution_count": 29,
     "metadata": {},
     "output_type": "execute_result"
    }
   ],
   "source": [
    "# Comprobar la columna 'children' de nuevo para asegurarnos de que todo está arreglado\n",
    "datos_credito['children'].value_counts()"
   ]
  },
  {
   "cell_type": "markdown",
   "metadata": {},
   "source": [
    "Procedemos ahora a analizar  la columna `'days_employed'`, ya que contiene datos faltantes y problemáticos."
   ]
  },
  {
   "cell_type": "code",
   "execution_count": 30,
   "metadata": {},
   "outputs": [
    {
     "name": "stdout",
     "output_type": "stream",
     "text": [
      "children               0\n",
      "days_employed       2174\n",
      "dob_years              0\n",
      "education              0\n",
      "education_id           0\n",
      "family_status          0\n",
      "family_status_id       0\n",
      "gender                 0\n",
      "income_type            0\n",
      "debt                   0\n",
      "total_income        2174\n",
      "purpose                0\n",
      "dtype: int64\n"
     ]
    },
    {
     "data": {
      "text/plain": [
       "count     19351.000000\n",
       "mean      63046.497661\n",
       "std      140827.311974\n",
       "min      -18388.949901\n",
       "25%       -2747.423625\n",
       "50%       -1203.369529\n",
       "75%        -291.095954\n",
       "max      401755.400475\n",
       "Name: days_employed, dtype: float64"
      ]
     },
     "execution_count": 30,
     "metadata": {},
     "output_type": "execute_result"
    }
   ],
   "source": [
    "# Encontramos los datos problemáticos en 'days_employed', y calculamos el porcentaje\n",
    "print(datos_credito.isna().sum())\n",
    "datos_credito['days_employed'].describe()"
   ]
  },
  {
   "cell_type": "markdown",
   "metadata": {},
   "source": [
    "**Podemos notar que hay 2,174 valores faltantes en la columna `'days_employed'`** y esto es un número alto **(10% del total)**. Hay que tratar de encontrar solución a este problema. Además, tenemos valores negativos y algunos atípicos. Asumiremos que los valores negativos son causa de error al ingresar los datos y los cambiaremos a positivos.\n",
    "\n",
    "**Los valores atípicos asumiremos que son a causa de una mala escala en los datos y que se proporcionó la información en horas, por lo que para llevar los valores a días laborables dividiremos las columna entre 24, que son las horas correpondientes a un día.**"
   ]
  },
  {
   "cell_type": "code",
   "execution_count": 31,
   "metadata": {},
   "outputs": [],
   "source": [
    "def replace_valor(row):\n",
    "    \"\"\"Esta función reemplaza los valores negativos por positivos en la columna 'days_employed' y los divide entre 24 horas\n",
    "    row= el renglón en el conjunto de datos donde se va a realizar el reemplazo\n",
    "    dias_empleo= los dias de experiencia laboral del individuo\n",
    "    \"\"\"\n",
    "\n",
    "    #Obtenemos el valor de tipo_empleo\n",
    "    dias_empleo=row['days_employed']\n",
    "    if dias_empleo<0:\n",
    "        valor=dias_empleo*(-1)/24\n",
    "        return valor\n",
    "    else:\n",
    "        valor=dias_empleo/24\n",
    "        return valor"
   ]
  },
  {
   "cell_type": "markdown",
   "metadata": {},
   "source": [
    "Reemplazamos los valores negativos en esta columna por valores positivos y hacemos el cambio de escala."
   ]
  },
  {
   "cell_type": "code",
   "execution_count": 32,
   "metadata": {},
   "outputs": [
    {
     "data": {
      "text/html": [
       "<div>\n",
       "<style scoped>\n",
       "    .dataframe tbody tr th:only-of-type {\n",
       "        vertical-align: middle;\n",
       "    }\n",
       "\n",
       "    .dataframe tbody tr th {\n",
       "        vertical-align: top;\n",
       "    }\n",
       "\n",
       "    .dataframe thead th {\n",
       "        text-align: right;\n",
       "    }\n",
       "</style>\n",
       "<table border=\"1\" class=\"dataframe\">\n",
       "  <thead>\n",
       "    <tr style=\"text-align: right;\">\n",
       "      <th></th>\n",
       "      <th>children</th>\n",
       "      <th>days_employed</th>\n",
       "      <th>dob_years</th>\n",
       "      <th>education</th>\n",
       "      <th>education_id</th>\n",
       "      <th>family_status</th>\n",
       "      <th>family_status_id</th>\n",
       "      <th>gender</th>\n",
       "      <th>income_type</th>\n",
       "      <th>debt</th>\n",
       "      <th>total_income</th>\n",
       "      <th>purpose</th>\n",
       "    </tr>\n",
       "  </thead>\n",
       "  <tbody>\n",
       "    <tr>\n",
       "      <th>0</th>\n",
       "      <td>1</td>\n",
       "      <td>351.569709</td>\n",
       "      <td>42</td>\n",
       "      <td>bachelor's degree</td>\n",
       "      <td>0</td>\n",
       "      <td>married</td>\n",
       "      <td>0</td>\n",
       "      <td>F</td>\n",
       "      <td>employee</td>\n",
       "      <td>0</td>\n",
       "      <td>40620.102</td>\n",
       "      <td>purchase of the house</td>\n",
       "    </tr>\n",
       "    <tr>\n",
       "      <th>1</th>\n",
       "      <td>1</td>\n",
       "      <td>167.700156</td>\n",
       "      <td>36</td>\n",
       "      <td>secondary education</td>\n",
       "      <td>1</td>\n",
       "      <td>married</td>\n",
       "      <td>0</td>\n",
       "      <td>F</td>\n",
       "      <td>employee</td>\n",
       "      <td>0</td>\n",
       "      <td>17932.802</td>\n",
       "      <td>car purchase</td>\n",
       "    </tr>\n",
       "    <tr>\n",
       "      <th>2</th>\n",
       "      <td>0</td>\n",
       "      <td>234.309275</td>\n",
       "      <td>33</td>\n",
       "      <td>secondary education</td>\n",
       "      <td>1</td>\n",
       "      <td>married</td>\n",
       "      <td>0</td>\n",
       "      <td>M</td>\n",
       "      <td>employee</td>\n",
       "      <td>0</td>\n",
       "      <td>23341.752</td>\n",
       "      <td>purchase of the house</td>\n",
       "    </tr>\n",
       "    <tr>\n",
       "      <th>3</th>\n",
       "      <td>3</td>\n",
       "      <td>171.864467</td>\n",
       "      <td>32</td>\n",
       "      <td>secondary education</td>\n",
       "      <td>1</td>\n",
       "      <td>married</td>\n",
       "      <td>0</td>\n",
       "      <td>M</td>\n",
       "      <td>employee</td>\n",
       "      <td>0</td>\n",
       "      <td>42820.568</td>\n",
       "      <td>supplementary education</td>\n",
       "    </tr>\n",
       "    <tr>\n",
       "      <th>4</th>\n",
       "      <td>0</td>\n",
       "      <td>14177.753002</td>\n",
       "      <td>53</td>\n",
       "      <td>secondary education</td>\n",
       "      <td>1</td>\n",
       "      <td>civil partnership</td>\n",
       "      <td>1</td>\n",
       "      <td>F</td>\n",
       "      <td>retiree</td>\n",
       "      <td>0</td>\n",
       "      <td>25378.572</td>\n",
       "      <td>to have a wedding</td>\n",
       "    </tr>\n",
       "  </tbody>\n",
       "</table>\n",
       "</div>"
      ],
      "text/plain": [
       "   children  days_employed  dob_years            education  education_id  \\\n",
       "0         1     351.569709         42    bachelor's degree             0   \n",
       "1         1     167.700156         36  secondary education             1   \n",
       "2         0     234.309275         33  secondary education             1   \n",
       "3         3     171.864467         32  secondary education             1   \n",
       "4         0   14177.753002         53  secondary education             1   \n",
       "\n",
       "       family_status  family_status_id gender income_type  debt  total_income  \\\n",
       "0            married                 0      F    employee     0     40620.102   \n",
       "1            married                 0      F    employee     0     17932.802   \n",
       "2            married                 0      M    employee     0     23341.752   \n",
       "3            married                 0      M    employee     0     42820.568   \n",
       "4  civil partnership                 1      F     retiree     0     25378.572   \n",
       "\n",
       "                   purpose  \n",
       "0    purchase of the house  \n",
       "1             car purchase  \n",
       "2    purchase of the house  \n",
       "3  supplementary education  \n",
       "4        to have a wedding  "
      ]
     },
     "execution_count": 32,
     "metadata": {},
     "output_type": "execute_result"
    }
   ],
   "source": [
    "# aplicamos la función 'replace_valor'\n",
    "datos_credito['days_employed']=datos_credito.apply(replace_valor,axis=1)\n",
    "datos_credito.head()"
   ]
  },
  {
   "cell_type": "code",
   "execution_count": 33,
   "metadata": {},
   "outputs": [
    {
     "data": {
      "text/html": [
       "<div>\n",
       "<style scoped>\n",
       "    .dataframe tbody tr th:only-of-type {\n",
       "        vertical-align: middle;\n",
       "    }\n",
       "\n",
       "    .dataframe tbody tr th {\n",
       "        vertical-align: top;\n",
       "    }\n",
       "\n",
       "    .dataframe thead th {\n",
       "        text-align: right;\n",
       "    }\n",
       "</style>\n",
       "<table border=\"1\" class=\"dataframe\">\n",
       "  <thead>\n",
       "    <tr style=\"text-align: right;\">\n",
       "      <th></th>\n",
       "      <th>children</th>\n",
       "      <th>days_employed</th>\n",
       "      <th>dob_years</th>\n",
       "      <th>education_id</th>\n",
       "      <th>family_status_id</th>\n",
       "      <th>debt</th>\n",
       "      <th>total_income</th>\n",
       "    </tr>\n",
       "  </thead>\n",
       "  <tbody>\n",
       "    <tr>\n",
       "      <th>count</th>\n",
       "      <td>21525.000000</td>\n",
       "      <td>19351.000000</td>\n",
       "      <td>21525.000000</td>\n",
       "      <td>21525.000000</td>\n",
       "      <td>21525.000000</td>\n",
       "      <td>21525.000000</td>\n",
       "      <td>19351.000000</td>\n",
       "    </tr>\n",
       "    <tr>\n",
       "      <th>mean</th>\n",
       "      <td>0.479721</td>\n",
       "      <td>2788.113704</td>\n",
       "      <td>43.293380</td>\n",
       "      <td>0.817236</td>\n",
       "      <td>0.972544</td>\n",
       "      <td>0.080883</td>\n",
       "      <td>26787.568355</td>\n",
       "    </tr>\n",
       "    <tr>\n",
       "      <th>std</th>\n",
       "      <td>0.755528</td>\n",
       "      <td>5792.953355</td>\n",
       "      <td>12.574584</td>\n",
       "      <td>0.548138</td>\n",
       "      <td>1.420324</td>\n",
       "      <td>0.272661</td>\n",
       "      <td>16475.450632</td>\n",
       "    </tr>\n",
       "    <tr>\n",
       "      <th>min</th>\n",
       "      <td>0.000000</td>\n",
       "      <td>1.005901</td>\n",
       "      <td>0.000000</td>\n",
       "      <td>0.000000</td>\n",
       "      <td>0.000000</td>\n",
       "      <td>0.000000</td>\n",
       "      <td>3306.762000</td>\n",
       "    </tr>\n",
       "    <tr>\n",
       "      <th>25%</th>\n",
       "      <td>0.000000</td>\n",
       "      <td>38.625386</td>\n",
       "      <td>33.000000</td>\n",
       "      <td>1.000000</td>\n",
       "      <td>0.000000</td>\n",
       "      <td>0.000000</td>\n",
       "      <td>16488.504500</td>\n",
       "    </tr>\n",
       "    <tr>\n",
       "      <th>50%</th>\n",
       "      <td>0.000000</td>\n",
       "      <td>91.425857</td>\n",
       "      <td>42.000000</td>\n",
       "      <td>1.000000</td>\n",
       "      <td>0.000000</td>\n",
       "      <td>0.000000</td>\n",
       "      <td>23202.870000</td>\n",
       "    </tr>\n",
       "    <tr>\n",
       "      <th>75%</th>\n",
       "      <td>1.000000</td>\n",
       "      <td>230.745102</td>\n",
       "      <td>53.000000</td>\n",
       "      <td>1.000000</td>\n",
       "      <td>1.000000</td>\n",
       "      <td>0.000000</td>\n",
       "      <td>32549.611000</td>\n",
       "    </tr>\n",
       "    <tr>\n",
       "      <th>max</th>\n",
       "      <td>5.000000</td>\n",
       "      <td>16739.808353</td>\n",
       "      <td>75.000000</td>\n",
       "      <td>4.000000</td>\n",
       "      <td>4.000000</td>\n",
       "      <td>1.000000</td>\n",
       "      <td>362496.645000</td>\n",
       "    </tr>\n",
       "  </tbody>\n",
       "</table>\n",
       "</div>"
      ],
      "text/plain": [
       "           children  days_employed     dob_years  education_id  \\\n",
       "count  21525.000000   19351.000000  21525.000000  21525.000000   \n",
       "mean       0.479721    2788.113704     43.293380      0.817236   \n",
       "std        0.755528    5792.953355     12.574584      0.548138   \n",
       "min        0.000000       1.005901      0.000000      0.000000   \n",
       "25%        0.000000      38.625386     33.000000      1.000000   \n",
       "50%        0.000000      91.425857     42.000000      1.000000   \n",
       "75%        1.000000     230.745102     53.000000      1.000000   \n",
       "max        5.000000   16739.808353     75.000000      4.000000   \n",
       "\n",
       "       family_status_id          debt   total_income  \n",
       "count      21525.000000  21525.000000   19351.000000  \n",
       "mean           0.972544      0.080883   26787.568355  \n",
       "std            1.420324      0.272661   16475.450632  \n",
       "min            0.000000      0.000000    3306.762000  \n",
       "25%            0.000000      0.000000   16488.504500  \n",
       "50%            0.000000      0.000000   23202.870000  \n",
       "75%            1.000000      0.000000   32549.611000  \n",
       "max            4.000000      1.000000  362496.645000  "
      ]
     },
     "execution_count": 33,
     "metadata": {},
     "output_type": "execute_result"
    }
   ],
   "source": [
    "# Nos aseguramos que se haya hecho el reemplazo\n",
    "datos_credito.describe()"
   ]
  },
  {
   "cell_type": "markdown",
   "metadata": {},
   "source": [
    "[Contenido](#back)"
   ]
  },
  {
   "cell_type": "markdown",
   "metadata": {},
   "source": [
    "Ahora buscamos algún problema a la edad del cliente `'dob_years'`."
   ]
  },
  {
   "cell_type": "code",
   "execution_count": 34,
   "metadata": {
    "scrolled": true
   },
   "outputs": [
    {
     "data": {
      "text/plain": [
       "35    617\n",
       "40    609\n",
       "41    607\n",
       "34    603\n",
       "38    598\n",
       "42    597\n",
       "33    581\n",
       "39    573\n",
       "31    560\n",
       "36    555\n",
       "44    547\n",
       "29    545\n",
       "30    540\n",
       "48    538\n",
       "37    537\n",
       "50    514\n",
       "43    513\n",
       "32    510\n",
       "49    508\n",
       "28    503\n",
       "45    497\n",
       "27    493\n",
       "56    487\n",
       "52    484\n",
       "47    480\n",
       "54    479\n",
       "46    475\n",
       "58    461\n",
       "57    460\n",
       "53    459\n",
       "51    448\n",
       "59    444\n",
       "55    443\n",
       "26    408\n",
       "60    377\n",
       "25    357\n",
       "61    355\n",
       "62    352\n",
       "63    269\n",
       "64    265\n",
       "24    264\n",
       "23    254\n",
       "65    194\n",
       "66    183\n",
       "22    183\n",
       "67    167\n",
       "21    111\n",
       "0     101\n",
       "68     99\n",
       "69     85\n",
       "70     65\n",
       "71     58\n",
       "20     51\n",
       "72     33\n",
       "19     14\n",
       "73      8\n",
       "74      6\n",
       "75      1\n",
       "Name: dob_years, dtype: int64"
      ]
     },
     "execution_count": 34,
     "metadata": {},
     "output_type": "execute_result"
    }
   ],
   "source": [
    "# Revisaremos la columna `dob_years` en busca de valores sospechosos\n",
    "datos_credito['dob_years'].value_counts()"
   ]
  },
  {
   "cell_type": "markdown",
   "metadata": {},
   "source": [
    "Observamos que en este nuevo conjunto de datos hay 101 personas con edad igual a cero, valores no creíbles en la columna `'dob_years'`."
   ]
  },
  {
   "cell_type": "code",
   "execution_count": 35,
   "metadata": {},
   "outputs": [
    {
     "data": {
      "text/plain": [
       "101"
      ]
     },
     "execution_count": 35,
     "metadata": {},
     "output_type": "execute_result"
    }
   ],
   "source": [
    "# Por el momento reemplazaremos los registros con edades iguales a cero por valores 'NaN' para después estimarlos\n",
    "datos_credito.loc[datos_credito['dob_years']==0,'dob_years']=float('nan')\n",
    "datos_credito['dob_years'].isna().sum()"
   ]
  },
  {
   "cell_type": "code",
   "execution_count": 36,
   "metadata": {},
   "outputs": [
    {
     "data": {
      "text/html": [
       "<div>\n",
       "<style scoped>\n",
       "    .dataframe tbody tr th:only-of-type {\n",
       "        vertical-align: middle;\n",
       "    }\n",
       "\n",
       "    .dataframe tbody tr th {\n",
       "        vertical-align: top;\n",
       "    }\n",
       "\n",
       "    .dataframe thead th {\n",
       "        text-align: right;\n",
       "    }\n",
       "</style>\n",
       "<table border=\"1\" class=\"dataframe\">\n",
       "  <thead>\n",
       "    <tr style=\"text-align: right;\">\n",
       "      <th></th>\n",
       "      <th>children</th>\n",
       "      <th>days_employed</th>\n",
       "      <th>dob_years</th>\n",
       "      <th>education</th>\n",
       "      <th>education_id</th>\n",
       "      <th>family_status</th>\n",
       "      <th>family_status_id</th>\n",
       "      <th>gender</th>\n",
       "      <th>income_type</th>\n",
       "      <th>debt</th>\n",
       "      <th>total_income</th>\n",
       "      <th>purpose</th>\n",
       "    </tr>\n",
       "  </thead>\n",
       "  <tbody>\n",
       "  </tbody>\n",
       "</table>\n",
       "</div>"
      ],
      "text/plain": [
       "Empty DataFrame\n",
       "Columns: [children, days_employed, dob_years, education, education_id, family_status, family_status_id, gender, income_type, debt, total_income, purpose]\n",
       "Index: []"
      ]
     },
     "execution_count": 36,
     "metadata": {},
     "output_type": "execute_result"
    }
   ],
   "source": [
    "# Comprobamos el resultado creando un DataFrame con las edades con valor a cero\n",
    "datos_credito_filter_years=datos_credito[datos_credito['dob_years']==0]\n",
    "datos_credito_filter_years"
   ]
  },
  {
   "cell_type": "markdown",
   "metadata": {},
   "source": [
    "**Observamos que el DataFrame creado está vacío**, lo cual nos indica que los registros con edades igual a cero se han reemplazado correctamente."
   ]
  },
  {
   "cell_type": "markdown",
   "metadata": {},
   "source": [
    "Revisaremos ahora la columna `'family_status'`en búsqueda de problemas."
   ]
  },
  {
   "cell_type": "code",
   "execution_count": 37,
   "metadata": {},
   "outputs": [
    {
     "data": {
      "text/plain": [
       "married              12380\n",
       "civil partnership     4177\n",
       "unmarried             2813\n",
       "divorced              1195\n",
       "widow / widower        960\n",
       "Name: family_status, dtype: int64"
      ]
     },
     "execution_count": 37,
     "metadata": {},
     "output_type": "execute_result"
    }
   ],
   "source": [
    "# Veamos los valores de la columna 'family_status'\n",
    "datos_credito['family_status'].value_counts()"
   ]
  },
  {
   "cell_type": "code",
   "execution_count": null,
   "metadata": {},
   "outputs": [
    {
     "data": {
      "text/plain": [
       "array(['civil_partnership', 'divorced', 'married', 'unmarried',\n",
       "       'widow_widower'], dtype=object)"
      ]
     },
     "metadata": {},
     "output_type": "display_data"
    }
   ],
   "source": [
    "# Reemplazaremos los espacios que existen en los nombres de las categorías por '_' para hacer más fácil su consulta\n",
    "datos_credito['family_status'].replace('civil partnership','civil_partnership',inplace=True)\n",
    "datos_credito['family_status'].replace('widow / widower','widow_widower',inplace=True)\n",
    "datos_credito['family_status'].sort_values().unique()"
   ]
  },
  {
   "cell_type": "markdown",
   "metadata": {},
   "source": [
    "Revisaremos la columna `'gender'` para ver qué tipo de valores hay y qué problemas puede tener."
   ]
  },
  {
   "cell_type": "code",
   "execution_count": 38,
   "metadata": {},
   "outputs": [
    {
     "data": {
      "text/plain": [
       "F      14236\n",
       "M       7288\n",
       "XNA        1\n",
       "Name: gender, dtype: int64"
      ]
     },
     "execution_count": 38,
     "metadata": {},
     "output_type": "execute_result"
    }
   ],
   "source": [
    "# Veamos los valores en la columna\n",
    "datos_credito['gender'].value_counts()"
   ]
  },
  {
   "cell_type": "markdown",
   "metadata": {},
   "source": [
    "***Reemplazaremos la categoría 'XNA' que es un solo valor,*** por el valor más probable que en este caso es **F**."
   ]
  },
  {
   "cell_type": "code",
   "execution_count": 39,
   "metadata": {},
   "outputs": [
    {
     "data": {
      "text/plain": [
       "F    14237\n",
       "M     7288\n",
       "Name: gender, dtype: int64"
      ]
     },
     "execution_count": 39,
     "metadata": {},
     "output_type": "execute_result"
    }
   ],
   "source": [
    "# Nos aseguramos de que esté arreglado\n",
    "datos_credito.loc[datos_credito['gender']=='XNA','gender']='F'\n",
    "datos_credito['gender'].value_counts()"
   ]
  },
  {
   "cell_type": "markdown",
   "metadata": {},
   "source": [
    "Podemos notar que hay sólo dos categorías en la columna `'gender'`; F y M. El registro correspondiente al género 'XNA' se reeemplazó correctamente."
   ]
  },
  {
   "cell_type": "markdown",
   "metadata": {},
   "source": [
    "Revisaremos la columna `'income_type'`, para ver qué problemas puede tener."
   ]
  },
  {
   "cell_type": "code",
   "execution_count": 40,
   "metadata": {},
   "outputs": [
    {
     "data": {
      "text/plain": [
       "employee                       11119\n",
       "business                        5085\n",
       "retiree                         3856\n",
       "civil servant                   1459\n",
       "entrepreneur                       2\n",
       "unemployed                         2\n",
       "paternity / maternity leave        1\n",
       "student                            1\n",
       "Name: income_type, dtype: int64"
      ]
     },
     "execution_count": 40,
     "metadata": {},
     "output_type": "execute_result"
    }
   ],
   "source": [
    "# Veamos los valores en la columna 'income_type'\n",
    "datos_credito['income_type'].value_counts()"
   ]
  },
  {
   "cell_type": "code",
   "execution_count": null,
   "metadata": {},
   "outputs": [
    {
     "data": {
      "text/plain": [
       "array(['business', 'civil_servant', 'employee', 'entrepreneur',\n",
       "       'paternity_maternity_leave', 'retiree', 'student', 'unemployed'],\n",
       "      dtype=object)"
      ]
     },
     "metadata": {},
     "output_type": "display_data"
    }
   ],
   "source": [
    "# Reemplazaremos los espacios que existen en los nombres de las categorías por '_' para hacer más fácil su consulta\n",
    "datos_credito['income_type'].replace('civil servant','civil_servant',inplace=True)\n",
    "datos_credito['income_type'].replace('paternity / maternity leave','paternity_maternity_leave',inplace=True)\n",
    "datos_credito['income_type'].sort_values().unique()"
   ]
  },
  {
   "cell_type": "markdown",
   "metadata": {},
   "source": [
    "[Contenido](#back)\n",
    "<a id='drop_duplicates'></a>\n",
    "### Valores duplicados"
   ]
  },
  {
   "cell_type": "code",
   "execution_count": 41,
   "metadata": {},
   "outputs": [
    {
     "data": {
      "text/plain": [
       "71"
      ]
     },
     "execution_count": 41,
     "metadata": {},
     "output_type": "execute_result"
    }
   ],
   "source": [
    "# Buscamos valores duplicados\n",
    "datos_credito.duplicated().sum()"
   ]
  },
  {
   "cell_type": "code",
   "execution_count": 42,
   "metadata": {},
   "outputs": [],
   "source": [
    "# Procedemos a eliminar los valores duplicados\n",
    "datos_credito=datos_credito.drop_duplicates().reset_index(drop=True)"
   ]
  },
  {
   "cell_type": "code",
   "execution_count": 43,
   "metadata": {},
   "outputs": [
    {
     "data": {
      "text/plain": [
       "0"
      ]
     },
     "execution_count": 43,
     "metadata": {},
     "output_type": "execute_result"
    }
   ],
   "source": [
    "# Última comprobación para ver si tenemos duplicados\n",
    "datos_credito.duplicated().sum()"
   ]
  },
  {
   "cell_type": "code",
   "execution_count": 44,
   "metadata": {},
   "outputs": [
    {
     "data": {
      "text/plain": [
       "(21454, 12)"
      ]
     },
     "execution_count": 44,
     "metadata": {},
     "output_type": "execute_result"
    }
   ],
   "source": [
    "# Comprobamos el tamaño del conjunto de datos resultante de eliminar filas duplicadas\n",
    "datos_credito.shape"
   ]
  },
  {
   "cell_type": "markdown",
   "metadata": {},
   "source": [
    "Originalmente teníamos **N=21,525** observaciones, en este nuevo conjunto de datos donde se han quitado valores problemáticos y duplicados tenemos **n=21,454**, lo que nos implica que nos hemos quedado con un 99.6% de la cantidad de datos que teníamos en un inicio. Aún tenemos valores ausentes en varias columnas."
   ]
  },
  {
   "cell_type": "markdown",
   "metadata": {},
   "source": [
    "[Contenido](#back)\n",
    "<a id='missing_values_work'></a>\n",
    "### Trabajar con valores ausentes"
   ]
  },
  {
   "cell_type": "markdown",
   "metadata": {},
   "source": [
    "Crearemos dos diccionarios: uno para la variable **'education'** y otro para **'family_status'**."
   ]
  },
  {
   "cell_type": "markdown",
   "metadata": {},
   "source": [
    "<a id='dictionary'></a>\n",
    "#### Creación de Diccionarios"
   ]
  },
  {
   "cell_type": "code",
   "execution_count": 45,
   "metadata": {},
   "outputs": [
    {
     "data": {
      "text/html": [
       "<div>\n",
       "<style scoped>\n",
       "    .dataframe tbody tr th:only-of-type {\n",
       "        vertical-align: middle;\n",
       "    }\n",
       "\n",
       "    .dataframe tbody tr th {\n",
       "        vertical-align: top;\n",
       "    }\n",
       "\n",
       "    .dataframe thead th {\n",
       "        text-align: right;\n",
       "    }\n",
       "</style>\n",
       "<table border=\"1\" class=\"dataframe\">\n",
       "  <thead>\n",
       "    <tr style=\"text-align: right;\">\n",
       "      <th></th>\n",
       "      <th>children</th>\n",
       "      <th>days_employed</th>\n",
       "      <th>dob_years</th>\n",
       "      <th>education</th>\n",
       "      <th>education_id</th>\n",
       "      <th>family_status</th>\n",
       "      <th>family_status_id</th>\n",
       "      <th>gender</th>\n",
       "      <th>income_type</th>\n",
       "      <th>debt</th>\n",
       "      <th>total_income</th>\n",
       "      <th>purpose</th>\n",
       "    </tr>\n",
       "  </thead>\n",
       "  <tbody>\n",
       "    <tr>\n",
       "      <th>0</th>\n",
       "      <td>1</td>\n",
       "      <td>351.569709</td>\n",
       "      <td>42.0</td>\n",
       "      <td>bachelor's degree</td>\n",
       "      <td>0</td>\n",
       "      <td>married</td>\n",
       "      <td>0</td>\n",
       "      <td>F</td>\n",
       "      <td>employee</td>\n",
       "      <td>0</td>\n",
       "      <td>40620.102</td>\n",
       "      <td>purchase of the house</td>\n",
       "    </tr>\n",
       "  </tbody>\n",
       "</table>\n",
       "</div>"
      ],
      "text/plain": [
       "   children  days_employed  dob_years          education  education_id  \\\n",
       "0         1     351.569709       42.0  bachelor's degree             0   \n",
       "\n",
       "  family_status  family_status_id gender income_type  debt  total_income  \\\n",
       "0       married                 0      F    employee     0     40620.102   \n",
       "\n",
       "                 purpose  \n",
       "0  purchase of the house  "
      ]
     },
     "execution_count": 45,
     "metadata": {},
     "output_type": "execute_result"
    }
   ],
   "source": [
    "# Creamos los diccionarios\n",
    "datos_credito.head(1)"
   ]
  },
  {
   "cell_type": "code",
   "execution_count": 46,
   "metadata": {},
   "outputs": [
    {
     "data": {
      "text/plain": [
       "MultiIndex([(  'bachelor's degree', 0),\n",
       "            (    'graduate degree', 4),\n",
       "            (  'primary education', 3),\n",
       "            ('secondary education', 1),\n",
       "            (       'some college', 2)],\n",
       "           names=['education', 'education_id'])"
      ]
     },
     "execution_count": 46,
     "metadata": {},
     "output_type": "execute_result"
    }
   ],
   "source": [
    "lista=datos_credito.groupby(by=['education','education_id'])['education'].count().index\n",
    "lista"
   ]
  },
  {
   "cell_type": "code",
   "execution_count": 47,
   "metadata": {},
   "outputs": [],
   "source": [
    "# creamos el diccionario de datos para 'education'\n",
    "education_dic={}\n",
    "for i in range(len(lista)):\n",
    "    key,value=lista[i]\n",
    "    education_dic[key]=value"
   ]
  },
  {
   "cell_type": "code",
   "execution_count": 48,
   "metadata": {},
   "outputs": [
    {
     "data": {
      "text/plain": [
       "{\"bachelor's degree\": 0,\n",
       " 'graduate degree': 4,\n",
       " 'primary education': 3,\n",
       " 'secondary education': 1,\n",
       " 'some college': 2}"
      ]
     },
     "execution_count": 48,
     "metadata": {},
     "output_type": "execute_result"
    }
   ],
   "source": [
    "education_dic"
   ]
  },
  {
   "cell_type": "code",
   "execution_count": 49,
   "metadata": {},
   "outputs": [
    {
     "data": {
      "text/plain": [
       "MultiIndex([('civil partnership', 1),\n",
       "            (         'divorced', 3),\n",
       "            (          'married', 0),\n",
       "            (        'unmarried', 4),\n",
       "            (  'widow / widower', 2)],\n",
       "           names=['family_status', 'family_status_id'])"
      ]
     },
     "execution_count": 49,
     "metadata": {},
     "output_type": "execute_result"
    }
   ],
   "source": [
    "lista=datos_credito.groupby(by=['family_status','family_status_id'])['family_status'].count().index\n",
    "lista"
   ]
  },
  {
   "cell_type": "code",
   "execution_count": 50,
   "metadata": {},
   "outputs": [],
   "source": [
    "# creamos el diccionario de datos para 'family_status'\n",
    "family_dic={}\n",
    "for i in range(len(lista)):\n",
    "    key,value=lista[i]\n",
    "    family_dic[key]=value"
   ]
  },
  {
   "cell_type": "code",
   "execution_count": 51,
   "metadata": {},
   "outputs": [
    {
     "data": {
      "text/plain": [
       "{'civil partnership': 1,\n",
       " 'divorced': 3,\n",
       " 'married': 0,\n",
       " 'unmarried': 4,\n",
       " 'widow / widower': 2}"
      ]
     },
     "execution_count": 51,
     "metadata": {},
     "output_type": "execute_result"
    }
   ],
   "source": [
    "family_dic"
   ]
  },
  {
   "cell_type": "markdown",
   "metadata": {},
   "source": [
    "[Contenido](#back)\n",
    "<a id='group_age'></a>\n",
    "#### Creación de grupos de edad"
   ]
  },
  {
   "cell_type": "markdown",
   "metadata": {},
   "source": [
    "Las columnas `'days_employed'` y `'total_income'` tienen valores ausentes en el **DataFrame 'datos_credito'**.\n",
    "\n",
    "Empezaremos por crear grupos de categorías a diversas variables para poder hacer estimaciones de los valores ausentes.\n",
    "\n",
    "Por el momento vamos a trabajar con el **DataDrame 'datos_credito'**."
   ]
  },
  {
   "cell_type": "code",
   "execution_count": 52,
   "metadata": {},
   "outputs": [],
   "source": [
    "# Vamos a escribir una función que agrupe la edad en categorias\n",
    "def age_group(age):\n",
    "    \"\"\"La función regresa el grupo de edad de acuerdo al valor de la edad,\n",
    "    usando las siguientes reglas:\n",
    "    -'menor de 30' para age<=30\n",
    "    -'31-40' para 30<age<=40\n",
    "    -'41-50' para 40<age<=50\n",
    "    -'51-60' para 50<age<=60\n",
    "    -'61-70' para 60<age<=70\n",
    "    -'70+' para age>70\n",
    "    \"\"\"\n",
    "    if age<=30:\n",
    "        return 'menor de 30'\n",
    "    elif age<=40:\n",
    "        return '31-40'\n",
    "    elif age<=50:\n",
    "        return '41-50'\n",
    "    elif age<=60:\n",
    "        return '51-60'\n",
    "    elif age<=70:\n",
    "        return '61-70'\n",
    "    else:\n",
    "        return '70+'"
   ]
  },
  {
   "cell_type": "code",
   "execution_count": 53,
   "metadata": {},
   "outputs": [
    {
     "data": {
      "text/plain": [
       "['menor de 30', 'menor de 30', '31-40', '41-50', '70+']"
      ]
     },
     "execution_count": 53,
     "metadata": {},
     "output_type": "execute_result"
    }
   ],
   "source": [
    "# Probamos la función\n",
    "edades=[15,30,36,46,86]\n",
    "res=list(map(age_group,edades))\n",
    "res"
   ]
  },
  {
   "cell_type": "code",
   "execution_count": 54,
   "metadata": {},
   "outputs": [],
   "source": [
    "# Creamos una nueva columna basada en la función\n",
    "datos_credito['age_group']=datos_credito['dob_years'].apply(age_group)"
   ]
  },
  {
   "cell_type": "code",
   "execution_count": 55,
   "metadata": {},
   "outputs": [
    {
     "data": {
      "text/html": [
       "<div>\n",
       "<style scoped>\n",
       "    .dataframe tbody tr th:only-of-type {\n",
       "        vertical-align: middle;\n",
       "    }\n",
       "\n",
       "    .dataframe tbody tr th {\n",
       "        vertical-align: top;\n",
       "    }\n",
       "\n",
       "    .dataframe thead th {\n",
       "        text-align: right;\n",
       "    }\n",
       "</style>\n",
       "<table border=\"1\" class=\"dataframe\">\n",
       "  <thead>\n",
       "    <tr style=\"text-align: right;\">\n",
       "      <th></th>\n",
       "      <th>children</th>\n",
       "      <th>days_employed</th>\n",
       "      <th>dob_years</th>\n",
       "      <th>education</th>\n",
       "      <th>education_id</th>\n",
       "      <th>family_status</th>\n",
       "      <th>family_status_id</th>\n",
       "      <th>gender</th>\n",
       "      <th>income_type</th>\n",
       "      <th>debt</th>\n",
       "      <th>total_income</th>\n",
       "      <th>purpose</th>\n",
       "      <th>age_group</th>\n",
       "    </tr>\n",
       "  </thead>\n",
       "  <tbody>\n",
       "    <tr>\n",
       "      <th>0</th>\n",
       "      <td>1</td>\n",
       "      <td>351.569709</td>\n",
       "      <td>42.0</td>\n",
       "      <td>bachelor's degree</td>\n",
       "      <td>0</td>\n",
       "      <td>married</td>\n",
       "      <td>0</td>\n",
       "      <td>F</td>\n",
       "      <td>employee</td>\n",
       "      <td>0</td>\n",
       "      <td>40620.102</td>\n",
       "      <td>purchase of the house</td>\n",
       "      <td>41-50</td>\n",
       "    </tr>\n",
       "    <tr>\n",
       "      <th>1</th>\n",
       "      <td>1</td>\n",
       "      <td>167.700156</td>\n",
       "      <td>36.0</td>\n",
       "      <td>secondary education</td>\n",
       "      <td>1</td>\n",
       "      <td>married</td>\n",
       "      <td>0</td>\n",
       "      <td>F</td>\n",
       "      <td>employee</td>\n",
       "      <td>0</td>\n",
       "      <td>17932.802</td>\n",
       "      <td>car purchase</td>\n",
       "      <td>31-40</td>\n",
       "    </tr>\n",
       "    <tr>\n",
       "      <th>2</th>\n",
       "      <td>0</td>\n",
       "      <td>234.309275</td>\n",
       "      <td>33.0</td>\n",
       "      <td>secondary education</td>\n",
       "      <td>1</td>\n",
       "      <td>married</td>\n",
       "      <td>0</td>\n",
       "      <td>M</td>\n",
       "      <td>employee</td>\n",
       "      <td>0</td>\n",
       "      <td>23341.752</td>\n",
       "      <td>purchase of the house</td>\n",
       "      <td>31-40</td>\n",
       "    </tr>\n",
       "    <tr>\n",
       "      <th>3</th>\n",
       "      <td>3</td>\n",
       "      <td>171.864467</td>\n",
       "      <td>32.0</td>\n",
       "      <td>secondary education</td>\n",
       "      <td>1</td>\n",
       "      <td>married</td>\n",
       "      <td>0</td>\n",
       "      <td>M</td>\n",
       "      <td>employee</td>\n",
       "      <td>0</td>\n",
       "      <td>42820.568</td>\n",
       "      <td>supplementary education</td>\n",
       "      <td>31-40</td>\n",
       "    </tr>\n",
       "    <tr>\n",
       "      <th>4</th>\n",
       "      <td>0</td>\n",
       "      <td>14177.753002</td>\n",
       "      <td>53.0</td>\n",
       "      <td>secondary education</td>\n",
       "      <td>1</td>\n",
       "      <td>civil partnership</td>\n",
       "      <td>1</td>\n",
       "      <td>F</td>\n",
       "      <td>retiree</td>\n",
       "      <td>0</td>\n",
       "      <td>25378.572</td>\n",
       "      <td>to have a wedding</td>\n",
       "      <td>51-60</td>\n",
       "    </tr>\n",
       "    <tr>\n",
       "      <th>5</th>\n",
       "      <td>0</td>\n",
       "      <td>38.591076</td>\n",
       "      <td>27.0</td>\n",
       "      <td>bachelor's degree</td>\n",
       "      <td>0</td>\n",
       "      <td>civil partnership</td>\n",
       "      <td>1</td>\n",
       "      <td>M</td>\n",
       "      <td>business</td>\n",
       "      <td>0</td>\n",
       "      <td>40922.170</td>\n",
       "      <td>purchase of the house</td>\n",
       "      <td>menor de 30</td>\n",
       "    </tr>\n",
       "    <tr>\n",
       "      <th>6</th>\n",
       "      <td>0</td>\n",
       "      <td>119.966752</td>\n",
       "      <td>43.0</td>\n",
       "      <td>bachelor's degree</td>\n",
       "      <td>0</td>\n",
       "      <td>married</td>\n",
       "      <td>0</td>\n",
       "      <td>F</td>\n",
       "      <td>business</td>\n",
       "      <td>0</td>\n",
       "      <td>38484.156</td>\n",
       "      <td>housing transactions</td>\n",
       "      <td>41-50</td>\n",
       "    </tr>\n",
       "    <tr>\n",
       "      <th>7</th>\n",
       "      <td>0</td>\n",
       "      <td>6.365815</td>\n",
       "      <td>50.0</td>\n",
       "      <td>secondary education</td>\n",
       "      <td>1</td>\n",
       "      <td>married</td>\n",
       "      <td>0</td>\n",
       "      <td>M</td>\n",
       "      <td>employee</td>\n",
       "      <td>0</td>\n",
       "      <td>21731.829</td>\n",
       "      <td>education</td>\n",
       "      <td>41-50</td>\n",
       "    </tr>\n",
       "    <tr>\n",
       "      <th>8</th>\n",
       "      <td>2</td>\n",
       "      <td>288.744387</td>\n",
       "      <td>35.0</td>\n",
       "      <td>bachelor's degree</td>\n",
       "      <td>0</td>\n",
       "      <td>civil partnership</td>\n",
       "      <td>1</td>\n",
       "      <td>F</td>\n",
       "      <td>employee</td>\n",
       "      <td>0</td>\n",
       "      <td>15337.093</td>\n",
       "      <td>having a wedding</td>\n",
       "      <td>31-40</td>\n",
       "    </tr>\n",
       "    <tr>\n",
       "      <th>9</th>\n",
       "      <td>0</td>\n",
       "      <td>91.198185</td>\n",
       "      <td>41.0</td>\n",
       "      <td>secondary education</td>\n",
       "      <td>1</td>\n",
       "      <td>married</td>\n",
       "      <td>0</td>\n",
       "      <td>M</td>\n",
       "      <td>employee</td>\n",
       "      <td>0</td>\n",
       "      <td>23108.150</td>\n",
       "      <td>purchase of the house for my family</td>\n",
       "      <td>41-50</td>\n",
       "    </tr>\n",
       "  </tbody>\n",
       "</table>\n",
       "</div>"
      ],
      "text/plain": [
       "   children  days_employed  dob_years            education  education_id  \\\n",
       "0         1     351.569709       42.0    bachelor's degree             0   \n",
       "1         1     167.700156       36.0  secondary education             1   \n",
       "2         0     234.309275       33.0  secondary education             1   \n",
       "3         3     171.864467       32.0  secondary education             1   \n",
       "4         0   14177.753002       53.0  secondary education             1   \n",
       "5         0      38.591076       27.0    bachelor's degree             0   \n",
       "6         0     119.966752       43.0    bachelor's degree             0   \n",
       "7         0       6.365815       50.0  secondary education             1   \n",
       "8         2     288.744387       35.0    bachelor's degree             0   \n",
       "9         0      91.198185       41.0  secondary education             1   \n",
       "\n",
       "       family_status  family_status_id gender income_type  debt  total_income  \\\n",
       "0            married                 0      F    employee     0     40620.102   \n",
       "1            married                 0      F    employee     0     17932.802   \n",
       "2            married                 0      M    employee     0     23341.752   \n",
       "3            married                 0      M    employee     0     42820.568   \n",
       "4  civil partnership                 1      F     retiree     0     25378.572   \n",
       "5  civil partnership                 1      M    business     0     40922.170   \n",
       "6            married                 0      F    business     0     38484.156   \n",
       "7            married                 0      M    employee     0     21731.829   \n",
       "8  civil partnership                 1      F    employee     0     15337.093   \n",
       "9            married                 0      M    employee     0     23108.150   \n",
       "\n",
       "                               purpose    age_group  \n",
       "0                purchase of the house        41-50  \n",
       "1                         car purchase        31-40  \n",
       "2                purchase of the house        31-40  \n",
       "3              supplementary education        31-40  \n",
       "4                    to have a wedding        51-60  \n",
       "5                purchase of the house  menor de 30  \n",
       "6                 housing transactions        41-50  \n",
       "7                            education        41-50  \n",
       "8                     having a wedding        31-40  \n",
       "9  purchase of the house for my family        41-50  "
      ]
     },
     "execution_count": 55,
     "metadata": {},
     "output_type": "execute_result"
    }
   ],
   "source": [
    "# Comprobamos los valores en la nueva columna\n",
    "datos_credito.reset_index(drop=True)\n",
    "datos_credito.head(10)"
   ]
  },
  {
   "cell_type": "markdown",
   "metadata": {},
   "source": [
    "Generalmente, los ingresos de una persona están más relacionados con el tipo de empleo y el nivel de educación, y menos relacionados con sólo la edad de la persona."
   ]
  },
  {
   "cell_type": "markdown",
   "metadata": {},
   "source": [
    "[Contenido](#back)"
   ]
  },
  {
   "cell_type": "code",
   "execution_count": 56,
   "metadata": {},
   "outputs": [
    {
     "name": "stdout",
     "output_type": "stream",
     "text": [
      "La dimensión del DataFrame es: (21454, 13)\n"
     ]
    },
    {
     "data": {
      "text/plain": [
       "children               0\n",
       "days_employed       2103\n",
       "dob_years            101\n",
       "education              0\n",
       "education_id           0\n",
       "family_status          0\n",
       "family_status_id       0\n",
       "gender                 0\n",
       "income_type            0\n",
       "debt                   0\n",
       "total_income        2103\n",
       "purpose                0\n",
       "age_group              0\n",
       "dtype: int64"
      ]
     },
     "execution_count": 56,
     "metadata": {},
     "output_type": "execute_result"
    }
   ],
   "source": [
    "# Observamos los valores ausentes en nuestro último DataFrame creado\n",
    "print(\"La dimensión del DataFrame es:\",datos_credito.shape)\n",
    "datos_credito.isna().sum()"
   ]
  },
  {
   "cell_type": "markdown",
   "metadata": {},
   "source": [
    "A partir de este último DataFrame **'datos_credito'**, vamos a **crear un DataFrame sin valores ausentes para estimar la media y la mediana.**"
   ]
  },
  {
   "cell_type": "code",
   "execution_count": 57,
   "metadata": {},
   "outputs": [
    {
     "data": {
      "text/plain": [
       "children             0\n",
       "days_employed        0\n",
       "dob_years           91\n",
       "education            0\n",
       "education_id         0\n",
       "family_status        0\n",
       "family_status_id     0\n",
       "gender               0\n",
       "income_type          0\n",
       "debt                 0\n",
       "total_income         0\n",
       "purpose              0\n",
       "age_group            0\n",
       "dtype: int64"
      ]
     },
     "execution_count": 57,
     "metadata": {},
     "output_type": "execute_result"
    }
   ],
   "source": [
    "# Creamos un DataFrame sin valores ausentes\n",
    "datos_credito_filter_notna=datos_credito[datos_credito['total_income'].notna()]\n",
    "datos_credito_filter_notna.isna().sum()"
   ]
  },
  {
   "cell_type": "code",
   "execution_count": 58,
   "metadata": {
    "scrolled": true
   },
   "outputs": [
    {
     "data": {
      "text/html": [
       "<div>\n",
       "<style scoped>\n",
       "    .dataframe tbody tr th:only-of-type {\n",
       "        vertical-align: middle;\n",
       "    }\n",
       "\n",
       "    .dataframe tbody tr th {\n",
       "        vertical-align: top;\n",
       "    }\n",
       "\n",
       "    .dataframe thead tr th {\n",
       "        text-align: left;\n",
       "    }\n",
       "\n",
       "    .dataframe thead tr:last-of-type th {\n",
       "        text-align: right;\n",
       "    }\n",
       "</style>\n",
       "<table border=\"1\" class=\"dataframe\">\n",
       "  <thead>\n",
       "    <tr>\n",
       "      <th></th>\n",
       "      <th>mean</th>\n",
       "      <th>median</th>\n",
       "    </tr>\n",
       "    <tr>\n",
       "      <th></th>\n",
       "      <th>total_income</th>\n",
       "      <th>total_income</th>\n",
       "    </tr>\n",
       "    <tr>\n",
       "      <th>income_type</th>\n",
       "      <th></th>\n",
       "      <th></th>\n",
       "    </tr>\n",
       "  </thead>\n",
       "  <tbody>\n",
       "    <tr>\n",
       "      <th>business</th>\n",
       "      <td>32386.793835</td>\n",
       "      <td>27577.2720</td>\n",
       "    </tr>\n",
       "    <tr>\n",
       "      <th>civil servant</th>\n",
       "      <td>27343.729582</td>\n",
       "      <td>24071.6695</td>\n",
       "    </tr>\n",
       "    <tr>\n",
       "      <th>employee</th>\n",
       "      <td>25820.841683</td>\n",
       "      <td>22815.1035</td>\n",
       "    </tr>\n",
       "    <tr>\n",
       "      <th>entrepreneur</th>\n",
       "      <td>79866.103000</td>\n",
       "      <td>79866.1030</td>\n",
       "    </tr>\n",
       "    <tr>\n",
       "      <th>paternity / maternity leave</th>\n",
       "      <td>8612.661000</td>\n",
       "      <td>8612.6610</td>\n",
       "    </tr>\n",
       "    <tr>\n",
       "      <th>retiree</th>\n",
       "      <td>21940.394503</td>\n",
       "      <td>18962.3180</td>\n",
       "    </tr>\n",
       "    <tr>\n",
       "      <th>student</th>\n",
       "      <td>15712.260000</td>\n",
       "      <td>15712.2600</td>\n",
       "    </tr>\n",
       "    <tr>\n",
       "      <th>unemployed</th>\n",
       "      <td>21014.360500</td>\n",
       "      <td>21014.3605</td>\n",
       "    </tr>\n",
       "  </tbody>\n",
       "</table>\n",
       "</div>"
      ],
      "text/plain": [
       "                                     mean       median\n",
       "                             total_income total_income\n",
       "income_type                                           \n",
       "business                     32386.793835   27577.2720\n",
       "civil servant                27343.729582   24071.6695\n",
       "employee                     25820.841683   22815.1035\n",
       "entrepreneur                 79866.103000   79866.1030\n",
       "paternity / maternity leave   8612.661000    8612.6610\n",
       "retiree                      21940.394503   18962.3180\n",
       "student                      15712.260000   15712.2600\n",
       "unemployed                   21014.360500   21014.3605"
      ]
     },
     "execution_count": 58,
     "metadata": {},
     "output_type": "execute_result"
    }
   ],
   "source": [
    "# Examinamos los valores medios y medianos de los ingresos en función de 'income_type'\n",
    "datos_credito_filter_notna.pivot_table(index='income_type',values='total_income',aggfunc=['mean','median'])"
   ]
  },
  {
   "cell_type": "code",
   "execution_count": 59,
   "metadata": {
    "scrolled": true
   },
   "outputs": [
    {
     "data": {
      "text/html": [
       "<div>\n",
       "<style scoped>\n",
       "    .dataframe tbody tr th:only-of-type {\n",
       "        vertical-align: middle;\n",
       "    }\n",
       "\n",
       "    .dataframe tbody tr th {\n",
       "        vertical-align: top;\n",
       "    }\n",
       "\n",
       "    .dataframe thead tr th {\n",
       "        text-align: left;\n",
       "    }\n",
       "\n",
       "    .dataframe thead tr:last-of-type th {\n",
       "        text-align: right;\n",
       "    }\n",
       "</style>\n",
       "<table border=\"1\" class=\"dataframe\">\n",
       "  <thead>\n",
       "    <tr>\n",
       "      <th></th>\n",
       "      <th>mean</th>\n",
       "      <th>median</th>\n",
       "    </tr>\n",
       "    <tr>\n",
       "      <th></th>\n",
       "      <th>total_income</th>\n",
       "      <th>total_income</th>\n",
       "    </tr>\n",
       "    <tr>\n",
       "      <th>education</th>\n",
       "      <th></th>\n",
       "      <th></th>\n",
       "    </tr>\n",
       "  </thead>\n",
       "  <tbody>\n",
       "    <tr>\n",
       "      <th>bachelor's degree</th>\n",
       "      <td>33142.802434</td>\n",
       "      <td>28054.5310</td>\n",
       "    </tr>\n",
       "    <tr>\n",
       "      <th>graduate degree</th>\n",
       "      <td>27960.024667</td>\n",
       "      <td>25161.5835</td>\n",
       "    </tr>\n",
       "    <tr>\n",
       "      <th>primary education</th>\n",
       "      <td>21144.882211</td>\n",
       "      <td>18741.9760</td>\n",
       "    </tr>\n",
       "    <tr>\n",
       "      <th>secondary education</th>\n",
       "      <td>24594.503037</td>\n",
       "      <td>21836.5830</td>\n",
       "    </tr>\n",
       "    <tr>\n",
       "      <th>some college</th>\n",
       "      <td>29045.443644</td>\n",
       "      <td>25618.4640</td>\n",
       "    </tr>\n",
       "  </tbody>\n",
       "</table>\n",
       "</div>"
      ],
      "text/plain": [
       "                             mean       median\n",
       "                     total_income total_income\n",
       "education                                     \n",
       "bachelor's degree    33142.802434   28054.5310\n",
       "graduate degree      27960.024667   25161.5835\n",
       "primary education    21144.882211   18741.9760\n",
       "secondary education  24594.503037   21836.5830\n",
       "some college         29045.443644   25618.4640"
      ]
     },
     "execution_count": 59,
     "metadata": {},
     "output_type": "execute_result"
    }
   ],
   "source": [
    "# Examinamos los valores medios y medianos de los ingresos en función de 'education'\n",
    "datos_credito_filter_notna.pivot_table(index='education',values='total_income',aggfunc=['mean','median'])"
   ]
  },
  {
   "cell_type": "code",
   "execution_count": 60,
   "metadata": {
    "scrolled": true
   },
   "outputs": [
    {
     "data": {
      "text/html": [
       "<div>\n",
       "<style scoped>\n",
       "    .dataframe tbody tr th:only-of-type {\n",
       "        vertical-align: middle;\n",
       "    }\n",
       "\n",
       "    .dataframe tbody tr th {\n",
       "        vertical-align: top;\n",
       "    }\n",
       "\n",
       "    .dataframe thead tr th {\n",
       "        text-align: left;\n",
       "    }\n",
       "\n",
       "    .dataframe thead tr:last-of-type th {\n",
       "        text-align: right;\n",
       "    }\n",
       "</style>\n",
       "<table border=\"1\" class=\"dataframe\">\n",
       "  <thead>\n",
       "    <tr>\n",
       "      <th></th>\n",
       "      <th></th>\n",
       "      <th>mean</th>\n",
       "      <th>median</th>\n",
       "    </tr>\n",
       "    <tr>\n",
       "      <th></th>\n",
       "      <th></th>\n",
       "      <th>total_income</th>\n",
       "      <th>total_income</th>\n",
       "    </tr>\n",
       "    <tr>\n",
       "      <th>income_type</th>\n",
       "      <th>education</th>\n",
       "      <th></th>\n",
       "      <th></th>\n",
       "    </tr>\n",
       "  </thead>\n",
       "  <tbody>\n",
       "    <tr>\n",
       "      <th rowspan=\"4\" valign=\"top\">business</th>\n",
       "      <th>bachelor's degree</th>\n",
       "      <td>38780.136881</td>\n",
       "      <td>32285.6640</td>\n",
       "    </tr>\n",
       "    <tr>\n",
       "      <th>primary education</th>\n",
       "      <td>26409.124931</td>\n",
       "      <td>21887.8250</td>\n",
       "    </tr>\n",
       "    <tr>\n",
       "      <th>secondary education</th>\n",
       "      <td>28718.435242</td>\n",
       "      <td>25451.3100</td>\n",
       "    </tr>\n",
       "    <tr>\n",
       "      <th>some college</th>\n",
       "      <td>31623.893705</td>\n",
       "      <td>28778.7440</td>\n",
       "    </tr>\n",
       "    <tr>\n",
       "      <th rowspan=\"5\" valign=\"top\">civil servant</th>\n",
       "      <th>bachelor's degree</th>\n",
       "      <td>31571.287664</td>\n",
       "      <td>27601.7775</td>\n",
       "    </tr>\n",
       "    <tr>\n",
       "      <th>graduate degree</th>\n",
       "      <td>17822.757000</td>\n",
       "      <td>17822.7570</td>\n",
       "    </tr>\n",
       "    <tr>\n",
       "      <th>primary education</th>\n",
       "      <td>29449.016667</td>\n",
       "      <td>23734.2870</td>\n",
       "    </tr>\n",
       "    <tr>\n",
       "      <th>secondary education</th>\n",
       "      <td>24648.816597</td>\n",
       "      <td>21864.4750</td>\n",
       "    </tr>\n",
       "    <tr>\n",
       "      <th>some college</th>\n",
       "      <td>27596.312587</td>\n",
       "      <td>25694.7750</td>\n",
       "    </tr>\n",
       "    <tr>\n",
       "      <th rowspan=\"5\" valign=\"top\">employee</th>\n",
       "      <th>bachelor's degree</th>\n",
       "      <td>30650.288996</td>\n",
       "      <td>26502.5190</td>\n",
       "    </tr>\n",
       "    <tr>\n",
       "      <th>graduate degree</th>\n",
       "      <td>31089.653667</td>\n",
       "      <td>31771.3210</td>\n",
       "    </tr>\n",
       "    <tr>\n",
       "      <th>primary education</th>\n",
       "      <td>21954.056075</td>\n",
       "      <td>20159.1860</td>\n",
       "    </tr>\n",
       "    <tr>\n",
       "      <th>secondary education</th>\n",
       "      <td>24426.079549</td>\n",
       "      <td>21848.8175</td>\n",
       "    </tr>\n",
       "    <tr>\n",
       "      <th>some college</th>\n",
       "      <td>27951.531586</td>\n",
       "      <td>24209.4300</td>\n",
       "    </tr>\n",
       "    <tr>\n",
       "      <th>entrepreneur</th>\n",
       "      <th>bachelor's degree</th>\n",
       "      <td>79866.103000</td>\n",
       "      <td>79866.1030</td>\n",
       "    </tr>\n",
       "    <tr>\n",
       "      <th>paternity / maternity leave</th>\n",
       "      <th>secondary education</th>\n",
       "      <td>8612.661000</td>\n",
       "      <td>8612.6610</td>\n",
       "    </tr>\n",
       "    <tr>\n",
       "      <th rowspan=\"5\" valign=\"top\">retiree</th>\n",
       "      <th>bachelor's degree</th>\n",
       "      <td>27306.878056</td>\n",
       "      <td>23078.5230</td>\n",
       "    </tr>\n",
       "    <tr>\n",
       "      <th>graduate degree</th>\n",
       "      <td>28334.215000</td>\n",
       "      <td>28334.2150</td>\n",
       "    </tr>\n",
       "    <tr>\n",
       "      <th>primary education</th>\n",
       "      <td>17810.387914</td>\n",
       "      <td>16415.7850</td>\n",
       "    </tr>\n",
       "    <tr>\n",
       "      <th>secondary education</th>\n",
       "      <td>21071.829349</td>\n",
       "      <td>18374.8570</td>\n",
       "    </tr>\n",
       "    <tr>\n",
       "      <th>some college</th>\n",
       "      <td>22129.937314</td>\n",
       "      <td>19221.9030</td>\n",
       "    </tr>\n",
       "    <tr>\n",
       "      <th>student</th>\n",
       "      <th>bachelor's degree</th>\n",
       "      <td>15712.260000</td>\n",
       "      <td>15712.2600</td>\n",
       "    </tr>\n",
       "    <tr>\n",
       "      <th rowspan=\"2\" valign=\"top\">unemployed</th>\n",
       "      <th>bachelor's degree</th>\n",
       "      <td>32435.602000</td>\n",
       "      <td>32435.6020</td>\n",
       "    </tr>\n",
       "    <tr>\n",
       "      <th>secondary education</th>\n",
       "      <td>9593.119000</td>\n",
       "      <td>9593.1190</td>\n",
       "    </tr>\n",
       "  </tbody>\n",
       "</table>\n",
       "</div>"
      ],
      "text/plain": [
       "                                                         mean       median\n",
       "                                                 total_income total_income\n",
       "income_type                 education                                     \n",
       "business                    bachelor's degree    38780.136881   32285.6640\n",
       "                            primary education    26409.124931   21887.8250\n",
       "                            secondary education  28718.435242   25451.3100\n",
       "                            some college         31623.893705   28778.7440\n",
       "civil servant               bachelor's degree    31571.287664   27601.7775\n",
       "                            graduate degree      17822.757000   17822.7570\n",
       "                            primary education    29449.016667   23734.2870\n",
       "                            secondary education  24648.816597   21864.4750\n",
       "                            some college         27596.312587   25694.7750\n",
       "employee                    bachelor's degree    30650.288996   26502.5190\n",
       "                            graduate degree      31089.653667   31771.3210\n",
       "                            primary education    21954.056075   20159.1860\n",
       "                            secondary education  24426.079549   21848.8175\n",
       "                            some college         27951.531586   24209.4300\n",
       "entrepreneur                bachelor's degree    79866.103000   79866.1030\n",
       "paternity / maternity leave secondary education   8612.661000    8612.6610\n",
       "retiree                     bachelor's degree    27306.878056   23078.5230\n",
       "                            graduate degree      28334.215000   28334.2150\n",
       "                            primary education    17810.387914   16415.7850\n",
       "                            secondary education  21071.829349   18374.8570\n",
       "                            some college         22129.937314   19221.9030\n",
       "student                     bachelor's degree    15712.260000   15712.2600\n",
       "unemployed                  bachelor's degree    32435.602000   32435.6020\n",
       "                            secondary education   9593.119000    9593.1190"
      ]
     },
     "execution_count": 60,
     "metadata": {},
     "output_type": "execute_result"
    }
   ],
   "source": [
    "# Examinamos los valores medios y medianos de los ingresos en función de 'income_type' y 'education'\n",
    "datos_credito_filter_notna.pivot_table(index=['income_type','education'],values='total_income',aggfunc=['mean','median'])"
   ]
  },
  {
   "cell_type": "code",
   "execution_count": 61,
   "metadata": {
    "scrolled": true
   },
   "outputs": [
    {
     "data": {
      "text/html": [
       "<div>\n",
       "<style scoped>\n",
       "    .dataframe tbody tr th:only-of-type {\n",
       "        vertical-align: middle;\n",
       "    }\n",
       "\n",
       "    .dataframe tbody tr th {\n",
       "        vertical-align: top;\n",
       "    }\n",
       "\n",
       "    .dataframe thead tr th {\n",
       "        text-align: left;\n",
       "    }\n",
       "\n",
       "    .dataframe thead tr:last-of-type th {\n",
       "        text-align: right;\n",
       "    }\n",
       "</style>\n",
       "<table border=\"1\" class=\"dataframe\">\n",
       "  <thead>\n",
       "    <tr>\n",
       "      <th></th>\n",
       "      <th>mean</th>\n",
       "      <th>median</th>\n",
       "    </tr>\n",
       "    <tr>\n",
       "      <th></th>\n",
       "      <th>total_income</th>\n",
       "      <th>total_income</th>\n",
       "    </tr>\n",
       "    <tr>\n",
       "      <th>age_group</th>\n",
       "      <th></th>\n",
       "      <th></th>\n",
       "    </tr>\n",
       "  </thead>\n",
       "  <tbody>\n",
       "    <tr>\n",
       "      <th>31-40</th>\n",
       "      <td>28376.735148</td>\n",
       "      <td>24825.1865</td>\n",
       "    </tr>\n",
       "    <tr>\n",
       "      <th>41-50</th>\n",
       "      <td>28390.207085</td>\n",
       "      <td>24569.9680</td>\n",
       "    </tr>\n",
       "    <tr>\n",
       "      <th>51-60</th>\n",
       "      <td>25482.856294</td>\n",
       "      <td>22056.7710</td>\n",
       "    </tr>\n",
       "    <tr>\n",
       "      <th>61-70</th>\n",
       "      <td>23245.390243</td>\n",
       "      <td>19705.8550</td>\n",
       "    </tr>\n",
       "    <tr>\n",
       "      <th>70+</th>\n",
       "      <td>22348.122524</td>\n",
       "      <td>20384.0430</td>\n",
       "    </tr>\n",
       "    <tr>\n",
       "      <th>menor de 30</th>\n",
       "      <td>25817.674826</td>\n",
       "      <td>22957.1850</td>\n",
       "    </tr>\n",
       "  </tbody>\n",
       "</table>\n",
       "</div>"
      ],
      "text/plain": [
       "                     mean       median\n",
       "             total_income total_income\n",
       "age_group                             \n",
       "31-40        28376.735148   24825.1865\n",
       "41-50        28390.207085   24569.9680\n",
       "51-60        25482.856294   22056.7710\n",
       "61-70        23245.390243   19705.8550\n",
       "70+          22348.122524   20384.0430\n",
       "menor de 30  25817.674826   22957.1850"
      ]
     },
     "execution_count": 61,
     "metadata": {},
     "output_type": "execute_result"
    }
   ],
   "source": [
    "# Examinamos los valores medios y medianos de los ingresos en función de 'age_group'\n",
    "datos_credito_filter_notna.pivot_table(index='age_group',values='total_income',aggfunc=['mean','median'])"
   ]
  },
  {
   "cell_type": "markdown",
   "metadata": {},
   "source": [
    "<a id='nota'></a>\n",
    "A pesar que podría realizarse una mejor estimación de los valores ausentes en la variable `'total_income'` usando la agrupación por `'income_type'` y `'education'`, realizar la desagregación a niveles tan detallados nos puede llevar a que la cantidad de datos para hacer la estimación de la media o mediana sea baja o que alguna posible combinación de esta desagregación no sea posible estimarla. Por el momento, optaremos por **realizar la estimación usando la agrupación de esta manera.** ....[Continuar](#continuar)"
   ]
  },
  {
   "cell_type": "markdown",
   "metadata": {},
   "source": [
    "[Contenido](#back)\n",
    "<a id='restore_values_income'></a>\n",
    "###  Restaurar valores ausentes en `'total_income'`\n",
    "\n",
    "Para restaurar los valores ausentes en `'total_income'` crearemos un DataFrame que contenga los valores a usar como reemplazo. Haremos las estimaciones agrupando por `'income_type'`y `'education'` y posteriormente obtendremos su media."
   ]
  },
  {
   "cell_type": "code",
   "execution_count": 62,
   "metadata": {},
   "outputs": [],
   "source": [
    "# creamos un DataFrame sin valores NaN para estimar los valores a usar de reemplazo\n",
    "data_notna=datos_credito[datos_credito['total_income'].notna()]\n",
    "    \n",
    "# creamos la tabla de valores estimados\n",
    "testimados=data_notna.pivot_table(index=['income_type','education'],values='total_income',aggfunc='mean')\n",
    "indices=testimados.index\n",
    "datos=testimados.values\n",
    "df=pd.DataFrame(data=datos,index=indices)\n",
    "df=df.reset_index()\n",
    "df.columns\n",
    "df.set_axis(['income_type','education','media'],axis='columns',inplace=True)"
   ]
  },
  {
   "cell_type": "code",
   "execution_count": 63,
   "metadata": {},
   "outputs": [],
   "source": [
    "#  creamos una función para hacer el reemplazo de los valores ausentes en 'total_income' en base a 'income_type' y 'education'\n",
    "def replace_missing_total(row):\n",
    "    \"\"\"Esta función reeemplaza los valores 'NaN' en la variable 'total_income' con la media agrupada por\n",
    "    'income_type' y 'education'\n",
    "    df= el DataFrame que contiene los valores a usar de reemplazo\n",
    "    \"\"\"\n",
    "   \n",
    "    # probamos la condicion en cada fila del DataFrame\n",
    "    ingreso_total=row['total_income']\n",
    "    \n",
    "    try:\n",
    "        if math.isnan(ingreso_total):\n",
    "            tipo_ingreso=row['income_type']\n",
    "            educacion=row['education']\n",
    "\n",
    "            #Obtenemos el valor a usar de reemplazo\n",
    "            media=df.loc[df['income_type']==tipo_ingreso].loc[df['education']==educacion]['media']\n",
    "            total_income_dos=float(media)\n",
    "            return total_income_dos\n",
    "        else:\n",
    "            total_income_dos=row['total_income']\n",
    "            return total_income_dos\n",
    "    except:\n",
    "        return float('nan')"
   ]
  },
  {
   "cell_type": "code",
   "execution_count": 64,
   "metadata": {},
   "outputs": [],
   "source": [
    "#Reemplazamos los valores NaN en 'income_type'\n",
    "datos_credito['total_income']=datos_credito.apply(replace_missing_total,axis=1)"
   ]
  },
  {
   "cell_type": "code",
   "execution_count": 65,
   "metadata": {},
   "outputs": [
    {
     "data": {
      "text/html": [
       "<div>\n",
       "<style scoped>\n",
       "    .dataframe tbody tr th:only-of-type {\n",
       "        vertical-align: middle;\n",
       "    }\n",
       "\n",
       "    .dataframe tbody tr th {\n",
       "        vertical-align: top;\n",
       "    }\n",
       "\n",
       "    .dataframe thead th {\n",
       "        text-align: right;\n",
       "    }\n",
       "</style>\n",
       "<table border=\"1\" class=\"dataframe\">\n",
       "  <thead>\n",
       "    <tr style=\"text-align: right;\">\n",
       "      <th></th>\n",
       "      <th>children</th>\n",
       "      <th>days_employed</th>\n",
       "      <th>dob_years</th>\n",
       "      <th>education</th>\n",
       "      <th>education_id</th>\n",
       "      <th>family_status</th>\n",
       "      <th>family_status_id</th>\n",
       "      <th>gender</th>\n",
       "      <th>income_type</th>\n",
       "      <th>debt</th>\n",
       "      <th>total_income</th>\n",
       "      <th>purpose</th>\n",
       "      <th>age_group</th>\n",
       "    </tr>\n",
       "  </thead>\n",
       "  <tbody>\n",
       "    <tr>\n",
       "      <th>12</th>\n",
       "      <td>0</td>\n",
       "      <td>NaN</td>\n",
       "      <td>65.0</td>\n",
       "      <td>secondary education</td>\n",
       "      <td>1</td>\n",
       "      <td>civil partnership</td>\n",
       "      <td>1</td>\n",
       "      <td>M</td>\n",
       "      <td>retiree</td>\n",
       "      <td>0</td>\n",
       "      <td>21071.829349</td>\n",
       "      <td>to have a wedding</td>\n",
       "      <td>61-70</td>\n",
       "    </tr>\n",
       "    <tr>\n",
       "      <th>26</th>\n",
       "      <td>0</td>\n",
       "      <td>NaN</td>\n",
       "      <td>41.0</td>\n",
       "      <td>secondary education</td>\n",
       "      <td>1</td>\n",
       "      <td>married</td>\n",
       "      <td>0</td>\n",
       "      <td>M</td>\n",
       "      <td>civil servant</td>\n",
       "      <td>0</td>\n",
       "      <td>24648.816597</td>\n",
       "      <td>education</td>\n",
       "      <td>41-50</td>\n",
       "    </tr>\n",
       "    <tr>\n",
       "      <th>29</th>\n",
       "      <td>0</td>\n",
       "      <td>NaN</td>\n",
       "      <td>63.0</td>\n",
       "      <td>secondary education</td>\n",
       "      <td>1</td>\n",
       "      <td>unmarried</td>\n",
       "      <td>4</td>\n",
       "      <td>F</td>\n",
       "      <td>retiree</td>\n",
       "      <td>0</td>\n",
       "      <td>21071.829349</td>\n",
       "      <td>building a real estate</td>\n",
       "      <td>61-70</td>\n",
       "    </tr>\n",
       "    <tr>\n",
       "      <th>41</th>\n",
       "      <td>0</td>\n",
       "      <td>NaN</td>\n",
       "      <td>50.0</td>\n",
       "      <td>secondary education</td>\n",
       "      <td>1</td>\n",
       "      <td>married</td>\n",
       "      <td>0</td>\n",
       "      <td>F</td>\n",
       "      <td>civil servant</td>\n",
       "      <td>0</td>\n",
       "      <td>24648.816597</td>\n",
       "      <td>second-hand car purchase</td>\n",
       "      <td>41-50</td>\n",
       "    </tr>\n",
       "    <tr>\n",
       "      <th>55</th>\n",
       "      <td>0</td>\n",
       "      <td>NaN</td>\n",
       "      <td>54.0</td>\n",
       "      <td>secondary education</td>\n",
       "      <td>1</td>\n",
       "      <td>civil partnership</td>\n",
       "      <td>1</td>\n",
       "      <td>F</td>\n",
       "      <td>retiree</td>\n",
       "      <td>1</td>\n",
       "      <td>21071.829349</td>\n",
       "      <td>to have a wedding</td>\n",
       "      <td>51-60</td>\n",
       "    </tr>\n",
       "  </tbody>\n",
       "</table>\n",
       "</div>"
      ],
      "text/plain": [
       "    children  days_employed  dob_years            education  education_id  \\\n",
       "12         0            NaN       65.0  secondary education             1   \n",
       "26         0            NaN       41.0  secondary education             1   \n",
       "29         0            NaN       63.0  secondary education             1   \n",
       "41         0            NaN       50.0  secondary education             1   \n",
       "55         0            NaN       54.0  secondary education             1   \n",
       "\n",
       "        family_status  family_status_id gender    income_type  debt  \\\n",
       "12  civil partnership                 1      M        retiree     0   \n",
       "26            married                 0      M  civil servant     0   \n",
       "29          unmarried                 4      F        retiree     0   \n",
       "41            married                 0      F  civil servant     0   \n",
       "55  civil partnership                 1      F        retiree     1   \n",
       "\n",
       "    total_income                   purpose age_group  \n",
       "12  21071.829349         to have a wedding     61-70  \n",
       "26  24648.816597                 education     41-50  \n",
       "29  21071.829349    building a real estate     61-70  \n",
       "41  24648.816597  second-hand car purchase     41-50  \n",
       "55  21071.829349         to have a wedding     51-60  "
      ]
     },
     "execution_count": 65,
     "metadata": {},
     "output_type": "execute_result"
    }
   ],
   "source": [
    "datos_credito[datos_credito['days_employed'].isna()].head()"
   ]
  },
  {
   "cell_type": "code",
   "execution_count": 66,
   "metadata": {},
   "outputs": [
    {
     "data": {
      "text/plain": [
       "children               0\n",
       "days_employed       2103\n",
       "dob_years            101\n",
       "education              0\n",
       "education_id           0\n",
       "family_status          0\n",
       "family_status_id       0\n",
       "gender                 0\n",
       "income_type            0\n",
       "debt                   0\n",
       "total_income           0\n",
       "purpose                0\n",
       "age_group              0\n",
       "dtype: int64"
      ]
     },
     "execution_count": 66,
     "metadata": {},
     "output_type": "execute_result"
    }
   ],
   "source": [
    "datos_credito.isna().sum()"
   ]
  },
  {
   "cell_type": "markdown",
   "metadata": {},
   "source": [
    "Notamos que ya no hay valores ausentes en la columna `'total_income'`, el reemplazo se hizo de manera correcta."
   ]
  },
  {
   "cell_type": "markdown",
   "metadata": {},
   "source": [
    "[Contenido](#back)\n",
    "<a id='restore_values_days'></a>\n",
    "###  Restaurar valores ausentes en `'days_employed'`"
   ]
  },
  {
   "cell_type": "markdown",
   "metadata": {},
   "source": [
    "La variable `'income_type'`puede ayudarnos a reemplazar los valores ausentes en la columna `'days_employed'`. Ya que esta columna presenta valores atípicos y problemáticos, usaremos la mediana y la agrupación por `'income_type'`. **Usaremos el último DataFrame 'datos_credito'** que ya no contiene valores ausentes en la columna `'total_income'`."
   ]
  },
  {
   "cell_type": "code",
   "execution_count": 67,
   "metadata": {},
   "outputs": [
    {
     "name": "stdout",
     "output_type": "stream",
     "text": [
      "<class 'pandas.core.frame.DataFrame'>\n",
      "Int64Index: 19351 entries, 0 to 21453\n",
      "Data columns (total 13 columns):\n",
      " #   Column            Non-Null Count  Dtype  \n",
      "---  ------            --------------  -----  \n",
      " 0   children          19351 non-null  int64  \n",
      " 1   days_employed     19351 non-null  float64\n",
      " 2   dob_years         19260 non-null  float64\n",
      " 3   education         19351 non-null  object \n",
      " 4   education_id      19351 non-null  int64  \n",
      " 5   family_status     19351 non-null  object \n",
      " 6   family_status_id  19351 non-null  int64  \n",
      " 7   gender            19351 non-null  object \n",
      " 8   income_type       19351 non-null  object \n",
      " 9   debt              19351 non-null  int64  \n",
      " 10  total_income      19351 non-null  float64\n",
      " 11  purpose           19351 non-null  object \n",
      " 12  age_group         19351 non-null  object \n",
      "dtypes: float64(3), int64(4), object(6)\n",
      "memory usage: 2.1+ MB\n"
     ]
    }
   ],
   "source": [
    "# Creamos un DataFrame sin valores nulos en la columna 'days_employed'\n",
    "datos_credito_filter_notna_employed=datos_credito[datos_credito['days_employed'].notna()]\n",
    "datos_credito_filter_notna_employed.info()"
   ]
  },
  {
   "cell_type": "code",
   "execution_count": 68,
   "metadata": {
    "pycharm": {
     "name": "#%%\n"
    }
   },
   "outputs": [
    {
     "data": {
      "text/html": [
       "<div>\n",
       "<style scoped>\n",
       "    .dataframe tbody tr th:only-of-type {\n",
       "        vertical-align: middle;\n",
       "    }\n",
       "\n",
       "    .dataframe tbody tr th {\n",
       "        vertical-align: top;\n",
       "    }\n",
       "\n",
       "    .dataframe thead tr th {\n",
       "        text-align: left;\n",
       "    }\n",
       "\n",
       "    .dataframe thead tr:last-of-type th {\n",
       "        text-align: right;\n",
       "    }\n",
       "</style>\n",
       "<table border=\"1\" class=\"dataframe\">\n",
       "  <thead>\n",
       "    <tr>\n",
       "      <th></th>\n",
       "      <th></th>\n",
       "      <th>mean</th>\n",
       "      <th>median</th>\n",
       "      <th>skew</th>\n",
       "    </tr>\n",
       "    <tr>\n",
       "      <th></th>\n",
       "      <th></th>\n",
       "      <th>days_employed</th>\n",
       "      <th>days_employed</th>\n",
       "      <th>days_employed</th>\n",
       "    </tr>\n",
       "    <tr>\n",
       "      <th>income_type</th>\n",
       "      <th>age_group</th>\n",
       "      <th></th>\n",
       "      <th></th>\n",
       "      <th></th>\n",
       "    </tr>\n",
       "  </thead>\n",
       "  <tbody>\n",
       "    <tr>\n",
       "      <th rowspan=\"6\" valign=\"top\">business</th>\n",
       "      <th>31-40</th>\n",
       "      <td>79.175056</td>\n",
       "      <td>63.594383</td>\n",
       "      <td>1.200588</td>\n",
       "    </tr>\n",
       "    <tr>\n",
       "      <th>41-50</th>\n",
       "      <td>104.457546</td>\n",
       "      <td>81.014387</td>\n",
       "      <td>1.536116</td>\n",
       "    </tr>\n",
       "    <tr>\n",
       "      <th>51-60</th>\n",
       "      <td>120.816915</td>\n",
       "      <td>85.491393</td>\n",
       "      <td>1.732915</td>\n",
       "    </tr>\n",
       "    <tr>\n",
       "      <th>61-70</th>\n",
       "      <td>151.836463</td>\n",
       "      <td>98.261492</td>\n",
       "      <td>1.818415</td>\n",
       "    </tr>\n",
       "    <tr>\n",
       "      <th>70+</th>\n",
       "      <td>104.048033</td>\n",
       "      <td>72.564183</td>\n",
       "      <td>1.909378</td>\n",
       "    </tr>\n",
       "    <tr>\n",
       "      <th>menor de 30</th>\n",
       "      <td>50.331447</td>\n",
       "      <td>39.752800</td>\n",
       "      <td>1.020859</td>\n",
       "    </tr>\n",
       "    <tr>\n",
       "      <th rowspan=\"6\" valign=\"top\">civil servant</th>\n",
       "      <th>31-40</th>\n",
       "      <td>123.103128</td>\n",
       "      <td>112.913596</td>\n",
       "      <td>0.589287</td>\n",
       "    </tr>\n",
       "    <tr>\n",
       "      <th>41-50</th>\n",
       "      <td>167.951519</td>\n",
       "      <td>143.105663</td>\n",
       "      <td>0.612268</td>\n",
       "    </tr>\n",
       "    <tr>\n",
       "      <th>51-60</th>\n",
       "      <td>206.016430</td>\n",
       "      <td>167.794714</td>\n",
       "      <td>0.848569</td>\n",
       "    </tr>\n",
       "    <tr>\n",
       "      <th>61-70</th>\n",
       "      <td>182.946522</td>\n",
       "      <td>138.268337</td>\n",
       "      <td>1.093690</td>\n",
       "    </tr>\n",
       "    <tr>\n",
       "      <th>70+</th>\n",
       "      <td>196.262551</td>\n",
       "      <td>200.446970</td>\n",
       "      <td>0.666394</td>\n",
       "    </tr>\n",
       "    <tr>\n",
       "      <th>menor de 30</th>\n",
       "      <td>70.703109</td>\n",
       "      <td>61.273939</td>\n",
       "      <td>0.613481</td>\n",
       "    </tr>\n",
       "    <tr>\n",
       "      <th rowspan=\"6\" valign=\"top\">employee</th>\n",
       "      <th>31-40</th>\n",
       "      <td>86.239731</td>\n",
       "      <td>65.349298</td>\n",
       "      <td>1.218962</td>\n",
       "    </tr>\n",
       "    <tr>\n",
       "      <th>41-50</th>\n",
       "      <td>115.757158</td>\n",
       "      <td>82.393567</td>\n",
       "      <td>1.383324</td>\n",
       "    </tr>\n",
       "    <tr>\n",
       "      <th>51-60</th>\n",
       "      <td>136.304569</td>\n",
       "      <td>93.131794</td>\n",
       "      <td>1.537021</td>\n",
       "    </tr>\n",
       "    <tr>\n",
       "      <th>61-70</th>\n",
       "      <td>161.805655</td>\n",
       "      <td>111.211415</td>\n",
       "      <td>1.535884</td>\n",
       "    </tr>\n",
       "    <tr>\n",
       "      <th>70+</th>\n",
       "      <td>86.744198</td>\n",
       "      <td>63.120698</td>\n",
       "      <td>2.200676</td>\n",
       "    </tr>\n",
       "    <tr>\n",
       "      <th>menor de 30</th>\n",
       "      <td>52.652648</td>\n",
       "      <td>43.556793</td>\n",
       "      <td>1.159702</td>\n",
       "    </tr>\n",
       "    <tr>\n",
       "      <th>entrepreneur</th>\n",
       "      <th>menor de 30</th>\n",
       "      <td>21.702003</td>\n",
       "      <td>21.702003</td>\n",
       "      <td>NaN</td>\n",
       "    </tr>\n",
       "    <tr>\n",
       "      <th>paternity / maternity leave</th>\n",
       "      <th>31-40</th>\n",
       "      <td>137.364998</td>\n",
       "      <td>137.364998</td>\n",
       "      <td>NaN</td>\n",
       "    </tr>\n",
       "    <tr>\n",
       "      <th rowspan=\"6\" valign=\"top\">retiree</th>\n",
       "      <th>31-40</th>\n",
       "      <td>15259.091652</td>\n",
       "      <td>15255.028562</td>\n",
       "      <td>0.001141</td>\n",
       "    </tr>\n",
       "    <tr>\n",
       "      <th>41-50</th>\n",
       "      <td>15228.451258</td>\n",
       "      <td>15271.865433</td>\n",
       "      <td>0.009142</td>\n",
       "    </tr>\n",
       "    <tr>\n",
       "      <th>51-60</th>\n",
       "      <td>15192.522449</td>\n",
       "      <td>15186.517842</td>\n",
       "      <td>0.046043</td>\n",
       "    </tr>\n",
       "    <tr>\n",
       "      <th>61-70</th>\n",
       "      <td>15220.447382</td>\n",
       "      <td>15238.263736</td>\n",
       "      <td>-0.000661</td>\n",
       "    </tr>\n",
       "    <tr>\n",
       "      <th>70+</th>\n",
       "      <td>15261.525335</td>\n",
       "      <td>15269.078026</td>\n",
       "      <td>0.019541</td>\n",
       "    </tr>\n",
       "    <tr>\n",
       "      <th>menor de 30</th>\n",
       "      <td>15029.457014</td>\n",
       "      <td>15181.174890</td>\n",
       "      <td>-0.260693</td>\n",
       "    </tr>\n",
       "    <tr>\n",
       "      <th>student</th>\n",
       "      <th>menor de 30</th>\n",
       "      <td>24.114648</td>\n",
       "      <td>24.114648</td>\n",
       "      <td>NaN</td>\n",
       "    </tr>\n",
       "    <tr>\n",
       "      <th rowspan=\"2\" valign=\"top\">unemployed</th>\n",
       "      <th>31-40</th>\n",
       "      <td>14063.519451</td>\n",
       "      <td>14063.519451</td>\n",
       "      <td>NaN</td>\n",
       "    </tr>\n",
       "    <tr>\n",
       "      <th>41-50</th>\n",
       "      <td>16470.951611</td>\n",
       "      <td>16470.951611</td>\n",
       "      <td>NaN</td>\n",
       "    </tr>\n",
       "  </tbody>\n",
       "</table>\n",
       "</div>"
      ],
      "text/plain": [
       "                                                 mean        median  \\\n",
       "                                        days_employed days_employed   \n",
       "income_type                 age_group                                 \n",
       "business                    31-40           79.175056     63.594383   \n",
       "                            41-50          104.457546     81.014387   \n",
       "                            51-60          120.816915     85.491393   \n",
       "                            61-70          151.836463     98.261492   \n",
       "                            70+            104.048033     72.564183   \n",
       "                            menor de 30     50.331447     39.752800   \n",
       "civil servant               31-40          123.103128    112.913596   \n",
       "                            41-50          167.951519    143.105663   \n",
       "                            51-60          206.016430    167.794714   \n",
       "                            61-70          182.946522    138.268337   \n",
       "                            70+            196.262551    200.446970   \n",
       "                            menor de 30     70.703109     61.273939   \n",
       "employee                    31-40           86.239731     65.349298   \n",
       "                            41-50          115.757158     82.393567   \n",
       "                            51-60          136.304569     93.131794   \n",
       "                            61-70          161.805655    111.211415   \n",
       "                            70+             86.744198     63.120698   \n",
       "                            menor de 30     52.652648     43.556793   \n",
       "entrepreneur                menor de 30     21.702003     21.702003   \n",
       "paternity / maternity leave 31-40          137.364998    137.364998   \n",
       "retiree                     31-40        15259.091652  15255.028562   \n",
       "                            41-50        15228.451258  15271.865433   \n",
       "                            51-60        15192.522449  15186.517842   \n",
       "                            61-70        15220.447382  15238.263736   \n",
       "                            70+          15261.525335  15269.078026   \n",
       "                            menor de 30  15029.457014  15181.174890   \n",
       "student                     menor de 30     24.114648     24.114648   \n",
       "unemployed                  31-40        14063.519451  14063.519451   \n",
       "                            41-50        16470.951611  16470.951611   \n",
       "\n",
       "                                                 skew  \n",
       "                                        days_employed  \n",
       "income_type                 age_group                  \n",
       "business                    31-40            1.200588  \n",
       "                            41-50            1.536116  \n",
       "                            51-60            1.732915  \n",
       "                            61-70            1.818415  \n",
       "                            70+              1.909378  \n",
       "                            menor de 30      1.020859  \n",
       "civil servant               31-40            0.589287  \n",
       "                            41-50            0.612268  \n",
       "                            51-60            0.848569  \n",
       "                            61-70            1.093690  \n",
       "                            70+              0.666394  \n",
       "                            menor de 30      0.613481  \n",
       "employee                    31-40            1.218962  \n",
       "                            41-50            1.383324  \n",
       "                            51-60            1.537021  \n",
       "                            61-70            1.535884  \n",
       "                            70+              2.200676  \n",
       "                            menor de 30      1.159702  \n",
       "entrepreneur                menor de 30           NaN  \n",
       "paternity / maternity leave 31-40                 NaN  \n",
       "retiree                     31-40            0.001141  \n",
       "                            41-50            0.009142  \n",
       "                            51-60            0.046043  \n",
       "                            61-70           -0.000661  \n",
       "                            70+              0.019541  \n",
       "                            menor de 30     -0.260693  \n",
       "student                     menor de 30           NaN  \n",
       "unemployed                  31-40                 NaN  \n",
       "                            41-50                 NaN  "
      ]
     },
     "execution_count": 68,
     "metadata": {},
     "output_type": "execute_result"
    }
   ],
   "source": [
    "# Examinamos los valores medios y medianos de 'days_employed' en función de 'income_type' y 'age_group'\n",
    "datos_credito_filter_notna_employed.pivot_table(index=['income_type','age_group'],values='days_employed',aggfunc=['mean','median','skew'])"
   ]
  },
  {
   "cell_type": "markdown",
   "metadata": {},
   "source": [
    "De la tabla anterior notamos que, en general, el valor promedio es mayor al valor de la mediana así que en este caso optaremos por reeemplazar los valores ausentes por la mediana."
   ]
  },
  {
   "cell_type": "code",
   "execution_count": 69,
   "metadata": {},
   "outputs": [],
   "source": [
    "# creamos la tabla de valores estimados\n",
    "testimados=datos_credito_filter_notna_employed.pivot_table(index=['income_type','age_group'],values='days_employed',aggfunc='median')\n",
    "indices=testimados.index\n",
    "datos=testimados.values\n",
    "df=pd.DataFrame(data=datos,index=indices)\n",
    "df=df.reset_index()\n",
    "df.columns\n",
    "df.set_axis(['income_type','age_group','median'],axis='columns',inplace=True)"
   ]
  },
  {
   "cell_type": "code",
   "execution_count": 70,
   "metadata": {},
   "outputs": [],
   "source": [
    "# Creamos la función para reemplazar los valores ausentes en 'days_employed'\n",
    "def replace_missing_values_days_employed(row):\n",
    "    \"\"\"Esta función reemplaza los valores ausentes en la columna 'days_employed'\n",
    "    row= el renglón en el conjunto de datos donde se va a realizar el reemplazo\n",
    "    df= el DataFrame que contiene los valores estimados para el reemplazo\n",
    "    tipo_empleo= el tipo de empleo del individuo\n",
    "    grupo_edad=el grupo de edad a que pertenece\n",
    "    dias_empleo= los dias de experiencia laboral del individuo\n",
    "    \"\"\"\n",
    "   \n",
    "    # probamos la condicion en cada fila del DataFrame\n",
    "    dias_empleo=row['days_employed']\n",
    "    try:    \n",
    "        if math.isnan(dias_empleo):\n",
    "            tipo_empleo=row['income_type']\n",
    "            grupo_edad=row['age_group']\n",
    "\n",
    "            #Obtenemos el valor a usar de reemplazo\n",
    "            mediana=df.loc[df['income_type']==tipo_empleo].loc[df['age_group']==grupo_edad]['median']\n",
    "            days_employed_dos=float(mediana)\n",
    "            return days_employed_dos\n",
    "        else:\n",
    "            days_employed_dos=row['days_employed']\n",
    "            return days_employed_dos\n",
    "    except:\n",
    "        return float('nan')"
   ]
  },
  {
   "cell_type": "code",
   "execution_count": 71,
   "metadata": {},
   "outputs": [
    {
     "data": {
      "text/html": [
       "<div>\n",
       "<style scoped>\n",
       "    .dataframe tbody tr th:only-of-type {\n",
       "        vertical-align: middle;\n",
       "    }\n",
       "\n",
       "    .dataframe tbody tr th {\n",
       "        vertical-align: top;\n",
       "    }\n",
       "\n",
       "    .dataframe thead th {\n",
       "        text-align: right;\n",
       "    }\n",
       "</style>\n",
       "<table border=\"1\" class=\"dataframe\">\n",
       "  <thead>\n",
       "    <tr style=\"text-align: right;\">\n",
       "      <th></th>\n",
       "      <th>days_employed</th>\n",
       "      <th>income_type</th>\n",
       "      <th>age_group</th>\n",
       "    </tr>\n",
       "  </thead>\n",
       "  <tbody>\n",
       "    <tr>\n",
       "      <th>0</th>\n",
       "      <td>-256.0</td>\n",
       "      <td>business</td>\n",
       "      <td>menor de 30</td>\n",
       "    </tr>\n",
       "    <tr>\n",
       "      <th>1</th>\n",
       "      <td>NaN</td>\n",
       "      <td>employee</td>\n",
       "      <td>51-60</td>\n",
       "    </tr>\n",
       "    <tr>\n",
       "      <th>2</th>\n",
       "      <td>2546.0</td>\n",
       "      <td>paternity / maternity leave</td>\n",
       "      <td>31-40</td>\n",
       "    </tr>\n",
       "    <tr>\n",
       "      <th>3</th>\n",
       "      <td>NaN</td>\n",
       "      <td>retiree</td>\n",
       "      <td>menor de 30</td>\n",
       "    </tr>\n",
       "    <tr>\n",
       "      <th>4</th>\n",
       "      <td>NaN</td>\n",
       "      <td>student</td>\n",
       "      <td>41-50</td>\n",
       "    </tr>\n",
       "    <tr>\n",
       "      <th>5</th>\n",
       "      <td>2456.0</td>\n",
       "      <td>unemployed</td>\n",
       "      <td>51-60</td>\n",
       "    </tr>\n",
       "    <tr>\n",
       "      <th>6</th>\n",
       "      <td>NaN</td>\n",
       "      <td>business</td>\n",
       "      <td>70+</td>\n",
       "    </tr>\n",
       "    <tr>\n",
       "      <th>7</th>\n",
       "      <td>NaN</td>\n",
       "      <td>civil servant</td>\n",
       "      <td>31-40</td>\n",
       "    </tr>\n",
       "  </tbody>\n",
       "</table>\n",
       "</div>"
      ],
      "text/plain": [
       "   days_employed                  income_type    age_group\n",
       "0         -256.0                     business  menor de 30\n",
       "1            NaN                     employee        51-60\n",
       "2         2546.0  paternity / maternity leave        31-40\n",
       "3            NaN                      retiree  menor de 30\n",
       "4            NaN                      student        41-50\n",
       "5         2456.0                   unemployed        51-60\n",
       "6            NaN                     business          70+\n",
       "7            NaN                civil servant        31-40"
      ]
     },
     "execution_count": 71,
     "metadata": {},
     "output_type": "execute_result"
    }
   ],
   "source": [
    "# Creamos un conjunto de datos para aplicar la función y ver que funcione\n",
    "indices=['days_employed','income_type','age_group']\n",
    "valores=[[-256,\"business\",'menor de 30'],\n",
    "        [float('nan'),\"employee\",'51-60'],\n",
    "         [2546,\"paternity / maternity leave\",'31-40'],\n",
    "         [float('nan'),\"retiree\",'menor de 30'],\n",
    "         [float('nan'),\"student\",'41-50'],\n",
    "         [2456,\"unemployed\",'51-60'],\n",
    "         [float('nan'),\"business\",'70+'],\n",
    "         [float('nan'),\"civil servant\",'31-40']\n",
    "        ]\n",
    "datos=pd.DataFrame(valores,columns=indices)\n",
    "datos"
   ]
  },
  {
   "cell_type": "code",
   "execution_count": 72,
   "metadata": {},
   "outputs": [
    {
     "data": {
      "text/html": [
       "<div>\n",
       "<style scoped>\n",
       "    .dataframe tbody tr th:only-of-type {\n",
       "        vertical-align: middle;\n",
       "    }\n",
       "\n",
       "    .dataframe tbody tr th {\n",
       "        vertical-align: top;\n",
       "    }\n",
       "\n",
       "    .dataframe thead th {\n",
       "        text-align: right;\n",
       "    }\n",
       "</style>\n",
       "<table border=\"1\" class=\"dataframe\">\n",
       "  <thead>\n",
       "    <tr style=\"text-align: right;\">\n",
       "      <th></th>\n",
       "      <th>days_employed</th>\n",
       "      <th>income_type</th>\n",
       "      <th>age_group</th>\n",
       "    </tr>\n",
       "  </thead>\n",
       "  <tbody>\n",
       "    <tr>\n",
       "      <th>0</th>\n",
       "      <td>-256.000000</td>\n",
       "      <td>business</td>\n",
       "      <td>menor de 30</td>\n",
       "    </tr>\n",
       "    <tr>\n",
       "      <th>1</th>\n",
       "      <td>93.131794</td>\n",
       "      <td>employee</td>\n",
       "      <td>51-60</td>\n",
       "    </tr>\n",
       "    <tr>\n",
       "      <th>2</th>\n",
       "      <td>2546.000000</td>\n",
       "      <td>paternity / maternity leave</td>\n",
       "      <td>31-40</td>\n",
       "    </tr>\n",
       "    <tr>\n",
       "      <th>3</th>\n",
       "      <td>15181.174890</td>\n",
       "      <td>retiree</td>\n",
       "      <td>menor de 30</td>\n",
       "    </tr>\n",
       "    <tr>\n",
       "      <th>4</th>\n",
       "      <td>NaN</td>\n",
       "      <td>student</td>\n",
       "      <td>41-50</td>\n",
       "    </tr>\n",
       "    <tr>\n",
       "      <th>5</th>\n",
       "      <td>2456.000000</td>\n",
       "      <td>unemployed</td>\n",
       "      <td>51-60</td>\n",
       "    </tr>\n",
       "    <tr>\n",
       "      <th>6</th>\n",
       "      <td>72.564183</td>\n",
       "      <td>business</td>\n",
       "      <td>70+</td>\n",
       "    </tr>\n",
       "    <tr>\n",
       "      <th>7</th>\n",
       "      <td>112.913596</td>\n",
       "      <td>civil servant</td>\n",
       "      <td>31-40</td>\n",
       "    </tr>\n",
       "  </tbody>\n",
       "</table>\n",
       "</div>"
      ],
      "text/plain": [
       "   days_employed                  income_type    age_group\n",
       "0    -256.000000                     business  menor de 30\n",
       "1      93.131794                     employee        51-60\n",
       "2    2546.000000  paternity / maternity leave        31-40\n",
       "3   15181.174890                      retiree  menor de 30\n",
       "4            NaN                      student        41-50\n",
       "5    2456.000000                   unemployed        51-60\n",
       "6      72.564183                     business          70+\n",
       "7     112.913596                civil servant        31-40"
      ]
     },
     "execution_count": 72,
     "metadata": {},
     "output_type": "execute_result"
    }
   ],
   "source": [
    "datos['days_employed']=datos.apply(replace_missing_values_days_employed,axis=1)\n",
    "datos"
   ]
  },
  {
   "cell_type": "code",
   "execution_count": 73,
   "metadata": {},
   "outputs": [],
   "source": [
    "# Aplicamos la función a 'days_employed'\n",
    "datos_credito['days_employed']=datos_credito.apply(replace_missing_values_days_employed,axis=1)"
   ]
  },
  {
   "cell_type": "code",
   "execution_count": 74,
   "metadata": {},
   "outputs": [
    {
     "data": {
      "text/html": [
       "<div>\n",
       "<style scoped>\n",
       "    .dataframe tbody tr th:only-of-type {\n",
       "        vertical-align: middle;\n",
       "    }\n",
       "\n",
       "    .dataframe tbody tr th {\n",
       "        vertical-align: top;\n",
       "    }\n",
       "\n",
       "    .dataframe thead th {\n",
       "        text-align: right;\n",
       "    }\n",
       "</style>\n",
       "<table border=\"1\" class=\"dataframe\">\n",
       "  <thead>\n",
       "    <tr style=\"text-align: right;\">\n",
       "      <th></th>\n",
       "      <th>children</th>\n",
       "      <th>days_employed</th>\n",
       "      <th>dob_years</th>\n",
       "      <th>education</th>\n",
       "      <th>education_id</th>\n",
       "      <th>family_status</th>\n",
       "      <th>family_status_id</th>\n",
       "      <th>gender</th>\n",
       "      <th>income_type</th>\n",
       "      <th>debt</th>\n",
       "      <th>total_income</th>\n",
       "      <th>purpose</th>\n",
       "      <th>age_group</th>\n",
       "    </tr>\n",
       "  </thead>\n",
       "  <tbody>\n",
       "    <tr>\n",
       "      <th>5931</th>\n",
       "      <td>0</td>\n",
       "      <td>NaN</td>\n",
       "      <td>58.0</td>\n",
       "      <td>bachelor's degree</td>\n",
       "      <td>0</td>\n",
       "      <td>married</td>\n",
       "      <td>0</td>\n",
       "      <td>M</td>\n",
       "      <td>entrepreneur</td>\n",
       "      <td>0</td>\n",
       "      <td>79866.103</td>\n",
       "      <td>buy residential real estate</td>\n",
       "      <td>51-60</td>\n",
       "    </tr>\n",
       "  </tbody>\n",
       "</table>\n",
       "</div>"
      ],
      "text/plain": [
       "      children  days_employed  dob_years          education  education_id  \\\n",
       "5931         0            NaN       58.0  bachelor's degree             0   \n",
       "\n",
       "     family_status  family_status_id gender   income_type  debt  total_income  \\\n",
       "5931       married                 0      M  entrepreneur     0     79866.103   \n",
       "\n",
       "                          purpose age_group  \n",
       "5931  buy residential real estate     51-60  "
      ]
     },
     "execution_count": 74,
     "metadata": {},
     "output_type": "execute_result"
    }
   ],
   "source": [
    "# Verficamos que se haya hecho el reemplazo\n",
    "datos_credito[datos_credito['days_employed'].isna()].head()"
   ]
  },
  {
   "cell_type": "code",
   "execution_count": null,
   "metadata": {},
   "outputs": [
    {
     "name": "stdout",
     "output_type": "stream",
     "text": [
      "<class 'pandas.core.frame.DataFrame'>\n",
      "RangeIndex: 21454 entries, 0 to 21453\n",
      "Data columns (total 13 columns):\n",
      " #   Column            Non-Null Count  Dtype  \n",
      "---  ------            --------------  -----  \n",
      " 0   children          21454 non-null  int64  \n",
      " 1   days_employed     21454 non-null  float64\n",
      " 2   dob_years         21353 non-null  float64\n",
      " 3   education         21454 non-null  object \n",
      " 4   education_id      21454 non-null  int64  \n",
      " 5   family_status     21454 non-null  object \n",
      " 6   family_status_id  21454 non-null  int64  \n",
      " 7   gender            21454 non-null  object \n",
      " 8   income_type       21454 non-null  object \n",
      " 9   debt              21454 non-null  int64  \n",
      " 10  total_income      21454 non-null  float64\n",
      " 11  purpose           21454 non-null  object \n",
      " 12  age_group         21454 non-null  object \n",
      "dtypes: float64(3), int64(4), object(6)\n",
      "memory usage: 2.1+ MB\n"
     ]
    }
   ],
   "source": [
    "# Comprobamos las entradas en todas las columnas: asegurando que hayamos corregido todos los valores ausentes\n",
    "datos_credito.info()"
   ]
  },
  {
   "cell_type": "markdown",
   "metadata": {},
   "source": [
    "<a id='continuar'></a>\n",
    "**Observamos que tenemos un valor ausente y como se había hecho notar anteriormente ([Nota](#nota)), el uso tan desagregado de varias variables para estimar lo valores ausentes podría ocasionarnos este tipo de problemas.** Vamos a reemplazar este único dato ausente por la mediana de la columna `'days_employed'`."
   ]
  },
  {
   "cell_type": "code",
   "execution_count": null,
   "metadata": {},
   "outputs": [
    {
     "data": {
      "text/html": [
       "<div>\n",
       "<style scoped>\n",
       "    .dataframe tbody tr th:only-of-type {\n",
       "        vertical-align: middle;\n",
       "    }\n",
       "\n",
       "    .dataframe tbody tr th {\n",
       "        vertical-align: top;\n",
       "    }\n",
       "\n",
       "    .dataframe thead th {\n",
       "        text-align: right;\n",
       "    }\n",
       "</style>\n",
       "<table border=\"1\" class=\"dataframe\">\n",
       "  <thead>\n",
       "    <tr style=\"text-align: right;\">\n",
       "      <th></th>\n",
       "      <th>children</th>\n",
       "      <th>days_employed</th>\n",
       "      <th>dob_years</th>\n",
       "      <th>education</th>\n",
       "      <th>education_id</th>\n",
       "      <th>family_status</th>\n",
       "      <th>family_status_id</th>\n",
       "      <th>gender</th>\n",
       "      <th>income_type</th>\n",
       "      <th>debt</th>\n",
       "      <th>total_income</th>\n",
       "      <th>purpose</th>\n",
       "      <th>age_group</th>\n",
       "    </tr>\n",
       "  </thead>\n",
       "  <tbody>\n",
       "    <tr>\n",
       "      <th>5931</th>\n",
       "      <td>0</td>\n",
       "      <td>NaN</td>\n",
       "      <td>58.0</td>\n",
       "      <td>bachelor's_degree</td>\n",
       "      <td>0</td>\n",
       "      <td>married</td>\n",
       "      <td>0</td>\n",
       "      <td>M</td>\n",
       "      <td>entrepreneur</td>\n",
       "      <td>0</td>\n",
       "      <td>79866.103</td>\n",
       "      <td>buy residential real estate</td>\n",
       "      <td>51-60</td>\n",
       "    </tr>\n",
       "  </tbody>\n",
       "</table>\n",
       "</div>"
      ],
      "text/plain": [
       "      children  days_employed  dob_years          education  education_id  \\\n",
       "5931         0            NaN       58.0  bachelor's_degree             0   \n",
       "\n",
       "     family_status  family_status_id gender   income_type  debt  total_income  \\\n",
       "5931       married                 0      M  entrepreneur     0     79866.103   \n",
       "\n",
       "                          purpose age_group  \n",
       "5931  buy residential real estate     51-60  "
      ]
     },
     "metadata": {},
     "output_type": "display_data"
    }
   ],
   "source": [
    "# buscamos el valor ausente que aún queda por reemplazar\n",
    "datos_credito[datos_credito['days_employed'].isna()].head()"
   ]
  },
  {
   "cell_type": "code",
   "execution_count": null,
   "metadata": {},
   "outputs": [
    {
     "data": {
      "text/plain": [
       "children                                      0\n",
       "days_employed                         85.491393\n",
       "dob_years                                  58.0\n",
       "education                     bachelor's_degree\n",
       "education_id                                  0\n",
       "family_status                           married\n",
       "family_status_id                              0\n",
       "gender                                        M\n",
       "income_type                        entrepreneur\n",
       "debt                                          0\n",
       "total_income                          79866.103\n",
       "purpose             buy residential real estate\n",
       "age_group                                 51-60\n",
       "Name: 5931, dtype: object"
      ]
     },
     "metadata": {},
     "output_type": "display_data"
    }
   ],
   "source": [
    "# Reemplazamos el último valor ausente en la columna 'days_employed'\n",
    "datos_credito.loc[datos_credito['days_employed'].isna(),'days_employed']=datos_credito['days_employed'].median()\n",
    "datos_credito.iloc[5931]"
   ]
  },
  {
   "cell_type": "code",
   "execution_count": null,
   "metadata": {},
   "outputs": [
    {
     "name": "stdout",
     "output_type": "stream",
     "text": [
      "<class 'pandas.core.frame.DataFrame'>\n",
      "RangeIndex: 21454 entries, 0 to 21453\n",
      "Data columns (total 13 columns):\n",
      " #   Column            Non-Null Count  Dtype  \n",
      "---  ------            --------------  -----  \n",
      " 0   children          21454 non-null  int64  \n",
      " 1   days_employed     21454 non-null  float64\n",
      " 2   dob_years         21353 non-null  float64\n",
      " 3   education         21454 non-null  object \n",
      " 4   education_id      21454 non-null  int64  \n",
      " 5   family_status     21454 non-null  object \n",
      " 6   family_status_id  21454 non-null  int64  \n",
      " 7   gender            21454 non-null  object \n",
      " 8   income_type       21454 non-null  object \n",
      " 9   debt              21454 non-null  int64  \n",
      " 10  total_income      21454 non-null  float64\n",
      " 11  purpose           21454 non-null  object \n",
      " 12  age_group         21454 non-null  object \n",
      "dtypes: float64(3), int64(4), object(6)\n",
      "memory usage: 2.1+ MB\n"
     ]
    }
   ],
   "source": [
    "# Comprobamos las entradas en todas las columnas: asegurando que hayamos corregido todos los valores ausentes\n",
    "datos_credito.info()"
   ]
  },
  {
   "cell_type": "markdown",
   "metadata": {},
   "source": [
    "[Contenido](#back)\n",
    "<a id='restore_values_function'></a>\n",
    "###  Función alternativa para restaurar valores ausentes en `'dob_years'`\n",
    "\n",
    "Para la estimación de los valores ausentes en esta columna vamos a usar la siguiente función basada en la teoría de los **K-neighbors.**"
   ]
  },
  {
   "cell_type": "code",
   "execution_count": 76,
   "metadata": {},
   "outputs": [],
   "source": [
    "# Vamos a usar el siguiente codigo para completar los valores ausentes\n",
    "\n",
    "# Construimos el modelo\n",
    "\n",
    "imputer = KNNImputer(n_neighbors=5, weights=\"uniform\")\n",
    "\n",
    "# Ajustamos el modelo y estimamos los valores ausentes\n",
    "\n",
    "imputer.fit(datos_credito[[\"dob_years\"]])\n",
    "\n",
    "datos_credito[\"dob_years\"] = imputer.transform(datos_credito[[\"dob_years\"]]).ravel()"
   ]
  },
  {
   "cell_type": "code",
   "execution_count": 77,
   "metadata": {},
   "outputs": [
    {
     "name": "stdout",
     "output_type": "stream",
     "text": [
      "<class 'pandas.core.frame.DataFrame'>\n",
      "RangeIndex: 21454 entries, 0 to 21453\n",
      "Data columns (total 13 columns):\n",
      " #   Column            Non-Null Count  Dtype  \n",
      "---  ------            --------------  -----  \n",
      " 0   children          21454 non-null  int64  \n",
      " 1   days_employed     21453 non-null  float64\n",
      " 2   dob_years         21454 non-null  float64\n",
      " 3   education         21454 non-null  object \n",
      " 4   education_id      21454 non-null  int64  \n",
      " 5   family_status     21454 non-null  object \n",
      " 6   family_status_id  21454 non-null  int64  \n",
      " 7   gender            21454 non-null  object \n",
      " 8   income_type       21454 non-null  object \n",
      " 9   debt              21454 non-null  int64  \n",
      " 10  total_income      21454 non-null  float64\n",
      " 11  purpose           21454 non-null  object \n",
      " 12  age_group         21454 non-null  object \n",
      "dtypes: float64(3), int64(4), object(6)\n",
      "memory usage: 2.1+ MB\n"
     ]
    }
   ],
   "source": [
    "# Comprobamos los valores ausentes en 'datos_credito'\n",
    "datos_credito.info()"
   ]
  },
  {
   "cell_type": "markdown",
   "metadata": {},
   "source": [
    "[Contenido](#back)\n",
    "<a id='clasification_data'></a>\n",
    "### Clasificación de los datos\n",
    "\n",
    "Para poder responder a las preguntas y probar las diferentes hipótesis, será necesario trabajar con datos clasificados.\n",
    "\n",
    "Empezaremos por clasificar la variable `'debt'` como:\n",
    "* 0--- 'Sin deuda'\n",
    "* 1--- 'Con deuda'"
   ]
  },
  {
   "cell_type": "code",
   "execution_count": 78,
   "metadata": {},
   "outputs": [
    {
     "name": "stdout",
     "output_type": "stream",
     "text": [
      "\n"
     ]
    }
   ],
   "source": [
    "datos_credito['debt'].replace(0,'Sin deuda',inplace=True)\n",
    "datos_credito['debt'].replace(1,'Con deuda',inplace=True)\n",
    "print()"
   ]
  },
  {
   "cell_type": "code",
   "execution_count": null,
   "metadata": {},
   "outputs": [
    {
     "data": {
      "text/plain": [
       "Sin deuda    19713\n",
       "Con deuda     1741\n",
       "Name: debt, dtype: int64"
      ]
     },
     "metadata": {},
     "output_type": "display_data"
    }
   ],
   "source": [
    "datos_credito['debt'].value_counts()"
   ]
  },
  {
   "cell_type": "markdown",
   "metadata": {},
   "source": [
    "[Contenido](#back)\n",
    "<a id='clasification_purpose'></a>\n",
    "#### Creación de grupo de própositos del préstamo\n",
    "\n",
    "Clasificamos ahora la variable `'purpose'`."
   ]
  },
  {
   "cell_type": "code",
   "execution_count": 80,
   "metadata": {},
   "outputs": [
    {
     "data": {
      "text/plain": [
       "array(['building a property', 'building a real estate',\n",
       "       'buy commercial real estate', 'buy real estate',\n",
       "       'buy residential real estate', 'buying a second-hand car',\n",
       "       'buying my own car', 'buying property for renting out', 'car',\n",
       "       'car purchase', 'cars', 'construction of own property',\n",
       "       'education', 'getting an education', 'getting higher education',\n",
       "       'going to university', 'having a wedding', 'housing',\n",
       "       'housing renovation', 'housing transactions', 'profile education',\n",
       "       'property', 'purchase of a car', 'purchase of my own house',\n",
       "       'purchase of the house', 'purchase of the house for my family',\n",
       "       'real estate transactions', 'second-hand car purchase',\n",
       "       'supplementary education', 'to become educated', 'to buy a car',\n",
       "       'to get a supplementary education', 'to have a wedding',\n",
       "       'to own a car', 'transactions with commercial real estate',\n",
       "       'transactions with my real estate', 'university education',\n",
       "       'wedding ceremony'], dtype=object)"
      ]
     },
     "execution_count": 80,
     "metadata": {},
     "output_type": "execute_result"
    }
   ],
   "source": [
    "# Vamos a comprobar los valores únicos\n",
    "datos_credito['purpose'].str.lower().sort_values().unique()"
   ]
  },
  {
   "cell_type": "markdown",
   "metadata": {},
   "source": [
    "Podemos identificar diversos própositos con lo que se está pidiendo un préstamo:\n",
    "* Construcción, compra  o renovación de una casa o propiedad (grupo-inversión inmobiliaria)\n",
    "* Compra de un carro (grupo-compra carro)\n",
    "* Prepararse académicamente (grupo- preparación académica)\n",
    "* Casarse (grupo-casarse)"
   ]
  },
  {
   "cell_type": "code",
   "execution_count": 81,
   "metadata": {},
   "outputs": [],
   "source": [
    "# Escribimos una función para clasificar los datos en función del propósito del préstamo\n",
    "def group_purpose(row):\n",
    "    \"\"\"Esta función crea grupos de clasificación para el próposito de un préstamo\"\"\"\n",
    "     \n",
    "    if 'car' in row:\n",
    "        return 'compra carro'\n",
    "    elif 'wedding' in row:\n",
    "        return 'casarse'\n",
    "    elif ('education' or 'educated' or 'university') in row:\n",
    "        return 'preparación académica'\n",
    "    else:\n",
    "        return 'inversión inmobiliaria'"
   ]
  },
  {
   "cell_type": "code",
   "execution_count": 82,
   "metadata": {},
   "outputs": [
    {
     "data": {
      "text/html": [
       "<div>\n",
       "<style scoped>\n",
       "    .dataframe tbody tr th:only-of-type {\n",
       "        vertical-align: middle;\n",
       "    }\n",
       "\n",
       "    .dataframe tbody tr th {\n",
       "        vertical-align: top;\n",
       "    }\n",
       "\n",
       "    .dataframe thead th {\n",
       "        text-align: right;\n",
       "    }\n",
       "</style>\n",
       "<table border=\"1\" class=\"dataframe\">\n",
       "  <thead>\n",
       "    <tr style=\"text-align: right;\">\n",
       "      <th></th>\n",
       "      <th>children</th>\n",
       "      <th>days_employed</th>\n",
       "      <th>dob_years</th>\n",
       "      <th>education</th>\n",
       "      <th>education_id</th>\n",
       "      <th>family_status</th>\n",
       "      <th>family_status_id</th>\n",
       "      <th>gender</th>\n",
       "      <th>income_type</th>\n",
       "      <th>debt</th>\n",
       "      <th>total_income</th>\n",
       "      <th>purpose</th>\n",
       "      <th>age_group</th>\n",
       "      <th>group_purpose</th>\n",
       "    </tr>\n",
       "  </thead>\n",
       "  <tbody>\n",
       "    <tr>\n",
       "      <th>0</th>\n",
       "      <td>1</td>\n",
       "      <td>351.569709</td>\n",
       "      <td>42.0</td>\n",
       "      <td>bachelor's degree</td>\n",
       "      <td>0</td>\n",
       "      <td>married</td>\n",
       "      <td>0</td>\n",
       "      <td>F</td>\n",
       "      <td>employee</td>\n",
       "      <td>Sin deuda</td>\n",
       "      <td>40620.102</td>\n",
       "      <td>purchase of the house</td>\n",
       "      <td>41-50</td>\n",
       "      <td>inversión inmobiliaria</td>\n",
       "    </tr>\n",
       "    <tr>\n",
       "      <th>1</th>\n",
       "      <td>1</td>\n",
       "      <td>167.700156</td>\n",
       "      <td>36.0</td>\n",
       "      <td>secondary education</td>\n",
       "      <td>1</td>\n",
       "      <td>married</td>\n",
       "      <td>0</td>\n",
       "      <td>F</td>\n",
       "      <td>employee</td>\n",
       "      <td>Sin deuda</td>\n",
       "      <td>17932.802</td>\n",
       "      <td>car purchase</td>\n",
       "      <td>31-40</td>\n",
       "      <td>compra carro</td>\n",
       "    </tr>\n",
       "    <tr>\n",
       "      <th>2</th>\n",
       "      <td>0</td>\n",
       "      <td>234.309275</td>\n",
       "      <td>33.0</td>\n",
       "      <td>secondary education</td>\n",
       "      <td>1</td>\n",
       "      <td>married</td>\n",
       "      <td>0</td>\n",
       "      <td>M</td>\n",
       "      <td>employee</td>\n",
       "      <td>Sin deuda</td>\n",
       "      <td>23341.752</td>\n",
       "      <td>purchase of the house</td>\n",
       "      <td>31-40</td>\n",
       "      <td>inversión inmobiliaria</td>\n",
       "    </tr>\n",
       "    <tr>\n",
       "      <th>3</th>\n",
       "      <td>3</td>\n",
       "      <td>171.864467</td>\n",
       "      <td>32.0</td>\n",
       "      <td>secondary education</td>\n",
       "      <td>1</td>\n",
       "      <td>married</td>\n",
       "      <td>0</td>\n",
       "      <td>M</td>\n",
       "      <td>employee</td>\n",
       "      <td>Sin deuda</td>\n",
       "      <td>42820.568</td>\n",
       "      <td>supplementary education</td>\n",
       "      <td>31-40</td>\n",
       "      <td>preparación académica</td>\n",
       "    </tr>\n",
       "    <tr>\n",
       "      <th>4</th>\n",
       "      <td>0</td>\n",
       "      <td>14177.753002</td>\n",
       "      <td>53.0</td>\n",
       "      <td>secondary education</td>\n",
       "      <td>1</td>\n",
       "      <td>civil partnership</td>\n",
       "      <td>1</td>\n",
       "      <td>F</td>\n",
       "      <td>retiree</td>\n",
       "      <td>Sin deuda</td>\n",
       "      <td>25378.572</td>\n",
       "      <td>to have a wedding</td>\n",
       "      <td>51-60</td>\n",
       "      <td>casarse</td>\n",
       "    </tr>\n",
       "  </tbody>\n",
       "</table>\n",
       "</div>"
      ],
      "text/plain": [
       "   children  days_employed  dob_years            education  education_id  \\\n",
       "0         1     351.569709       42.0    bachelor's degree             0   \n",
       "1         1     167.700156       36.0  secondary education             1   \n",
       "2         0     234.309275       33.0  secondary education             1   \n",
       "3         3     171.864467       32.0  secondary education             1   \n",
       "4         0   14177.753002       53.0  secondary education             1   \n",
       "\n",
       "       family_status  family_status_id gender income_type       debt  \\\n",
       "0            married                 0      F    employee  Sin deuda   \n",
       "1            married                 0      F    employee  Sin deuda   \n",
       "2            married                 0      M    employee  Sin deuda   \n",
       "3            married                 0      M    employee  Sin deuda   \n",
       "4  civil partnership                 1      F     retiree  Sin deuda   \n",
       "\n",
       "   total_income                  purpose age_group           group_purpose  \n",
       "0     40620.102    purchase of the house     41-50  inversión inmobiliaria  \n",
       "1     17932.802             car purchase     31-40            compra carro  \n",
       "2     23341.752    purchase of the house     31-40  inversión inmobiliaria  \n",
       "3     42820.568  supplementary education     31-40   preparación académica  \n",
       "4     25378.572        to have a wedding     51-60                 casarse  "
      ]
     },
     "execution_count": 82,
     "metadata": {},
     "output_type": "execute_result"
    }
   ],
   "source": [
    "# Creamos una columna con las categorías y contamos los valores\n",
    "datos_credito['group_purpose']=datos_credito['purpose'].apply(group_purpose)\n",
    "datos_credito.head()"
   ]
  },
  {
   "cell_type": "code",
   "execution_count": 83,
   "metadata": {},
   "outputs": [
    {
     "data": {
      "text/plain": [
       "inversión inmobiliaria    11715\n",
       "compra carro               4306\n",
       "preparación académica      3109\n",
       "casarse                    2324\n",
       "Name: group_purpose, dtype: int64"
      ]
     },
     "execution_count": 83,
     "metadata": {},
     "output_type": "execute_result"
    }
   ],
   "source": [
    "# Contamos los valores para la columna 'group_purpose'\n",
    "datos_credito['group_purpose'].value_counts()"
   ]
  },
  {
   "cell_type": "markdown",
   "metadata": {},
   "source": [
    "[Contenido](#back)\n",
    "<a id='clasification_children'></a>\n",
    "#### Creación de grupos de niños\n",
    "\n",
    "Clasificamos ahora la variable `'children'`."
   ]
  },
  {
   "cell_type": "code",
   "execution_count": 84,
   "metadata": {},
   "outputs": [
    {
     "data": {
      "text/plain": [
       "count    21454.000000\n",
       "mean         0.480563\n",
       "std          0.756069\n",
       "min          0.000000\n",
       "25%          0.000000\n",
       "50%          0.000000\n",
       "75%          1.000000\n",
       "max          5.000000\n",
       "Name: children, dtype: float64"
      ]
     },
     "execution_count": 84,
     "metadata": {},
     "output_type": "execute_result"
    }
   ],
   "source": [
    "# Obtenemos estadísticas resumidas para la columna 'children'\n",
    "datos_credito['children'].describe()"
   ]
  },
  {
   "cell_type": "markdown",
   "metadata": {},
   "source": [
    "Observamos que hay más personas sin niños, posteriormente podríamos agrupar de uno a dos niños y por último; un tercer grupo con tres a cinco niños."
   ]
  },
  {
   "cell_type": "code",
   "execution_count": 85,
   "metadata": {},
   "outputs": [],
   "source": [
    "# Creamos una función para clasificar en diferentes grupos\n",
    "\n",
    "def group_children(row):\n",
    "    \"\"\"Esta función crea grupos de clasificación para la cantidad de hijos\"\"\"\n",
    "     \n",
    "    if row==0:\n",
    "        return 'Sin hijos'\n",
    "    elif row<=2:\n",
    "        return '2-3 hijos'\n",
    "    else:\n",
    "        return '4-5 hijos'"
   ]
  },
  {
   "cell_type": "code",
   "execution_count": 86,
   "metadata": {},
   "outputs": [
    {
     "data": {
      "text/html": [
       "<div>\n",
       "<style scoped>\n",
       "    .dataframe tbody tr th:only-of-type {\n",
       "        vertical-align: middle;\n",
       "    }\n",
       "\n",
       "    .dataframe tbody tr th {\n",
       "        vertical-align: top;\n",
       "    }\n",
       "\n",
       "    .dataframe thead th {\n",
       "        text-align: right;\n",
       "    }\n",
       "</style>\n",
       "<table border=\"1\" class=\"dataframe\">\n",
       "  <thead>\n",
       "    <tr style=\"text-align: right;\">\n",
       "      <th></th>\n",
       "      <th>children</th>\n",
       "      <th>days_employed</th>\n",
       "      <th>dob_years</th>\n",
       "      <th>education</th>\n",
       "      <th>education_id</th>\n",
       "      <th>family_status</th>\n",
       "      <th>family_status_id</th>\n",
       "      <th>gender</th>\n",
       "      <th>income_type</th>\n",
       "      <th>debt</th>\n",
       "      <th>total_income</th>\n",
       "      <th>purpose</th>\n",
       "      <th>age_group</th>\n",
       "      <th>group_purpose</th>\n",
       "      <th>group_children</th>\n",
       "    </tr>\n",
       "  </thead>\n",
       "  <tbody>\n",
       "    <tr>\n",
       "      <th>0</th>\n",
       "      <td>1</td>\n",
       "      <td>351.569709</td>\n",
       "      <td>42.0</td>\n",
       "      <td>bachelor's degree</td>\n",
       "      <td>0</td>\n",
       "      <td>married</td>\n",
       "      <td>0</td>\n",
       "      <td>F</td>\n",
       "      <td>employee</td>\n",
       "      <td>Sin deuda</td>\n",
       "      <td>40620.102</td>\n",
       "      <td>purchase of the house</td>\n",
       "      <td>41-50</td>\n",
       "      <td>inversión inmobiliaria</td>\n",
       "      <td>2-3 hijos</td>\n",
       "    </tr>\n",
       "    <tr>\n",
       "      <th>1</th>\n",
       "      <td>1</td>\n",
       "      <td>167.700156</td>\n",
       "      <td>36.0</td>\n",
       "      <td>secondary education</td>\n",
       "      <td>1</td>\n",
       "      <td>married</td>\n",
       "      <td>0</td>\n",
       "      <td>F</td>\n",
       "      <td>employee</td>\n",
       "      <td>Sin deuda</td>\n",
       "      <td>17932.802</td>\n",
       "      <td>car purchase</td>\n",
       "      <td>31-40</td>\n",
       "      <td>compra carro</td>\n",
       "      <td>2-3 hijos</td>\n",
       "    </tr>\n",
       "    <tr>\n",
       "      <th>2</th>\n",
       "      <td>0</td>\n",
       "      <td>234.309275</td>\n",
       "      <td>33.0</td>\n",
       "      <td>secondary education</td>\n",
       "      <td>1</td>\n",
       "      <td>married</td>\n",
       "      <td>0</td>\n",
       "      <td>M</td>\n",
       "      <td>employee</td>\n",
       "      <td>Sin deuda</td>\n",
       "      <td>23341.752</td>\n",
       "      <td>purchase of the house</td>\n",
       "      <td>31-40</td>\n",
       "      <td>inversión inmobiliaria</td>\n",
       "      <td>Sin hijos</td>\n",
       "    </tr>\n",
       "    <tr>\n",
       "      <th>3</th>\n",
       "      <td>3</td>\n",
       "      <td>171.864467</td>\n",
       "      <td>32.0</td>\n",
       "      <td>secondary education</td>\n",
       "      <td>1</td>\n",
       "      <td>married</td>\n",
       "      <td>0</td>\n",
       "      <td>M</td>\n",
       "      <td>employee</td>\n",
       "      <td>Sin deuda</td>\n",
       "      <td>42820.568</td>\n",
       "      <td>supplementary education</td>\n",
       "      <td>31-40</td>\n",
       "      <td>preparación académica</td>\n",
       "      <td>4-5 hijos</td>\n",
       "    </tr>\n",
       "    <tr>\n",
       "      <th>4</th>\n",
       "      <td>0</td>\n",
       "      <td>14177.753002</td>\n",
       "      <td>53.0</td>\n",
       "      <td>secondary education</td>\n",
       "      <td>1</td>\n",
       "      <td>civil partnership</td>\n",
       "      <td>1</td>\n",
       "      <td>F</td>\n",
       "      <td>retiree</td>\n",
       "      <td>Sin deuda</td>\n",
       "      <td>25378.572</td>\n",
       "      <td>to have a wedding</td>\n",
       "      <td>51-60</td>\n",
       "      <td>casarse</td>\n",
       "      <td>Sin hijos</td>\n",
       "    </tr>\n",
       "  </tbody>\n",
       "</table>\n",
       "</div>"
      ],
      "text/plain": [
       "   children  days_employed  dob_years            education  education_id  \\\n",
       "0         1     351.569709       42.0    bachelor's degree             0   \n",
       "1         1     167.700156       36.0  secondary education             1   \n",
       "2         0     234.309275       33.0  secondary education             1   \n",
       "3         3     171.864467       32.0  secondary education             1   \n",
       "4         0   14177.753002       53.0  secondary education             1   \n",
       "\n",
       "       family_status  family_status_id gender income_type       debt  \\\n",
       "0            married                 0      F    employee  Sin deuda   \n",
       "1            married                 0      F    employee  Sin deuda   \n",
       "2            married                 0      M    employee  Sin deuda   \n",
       "3            married                 0      M    employee  Sin deuda   \n",
       "4  civil partnership                 1      F     retiree  Sin deuda   \n",
       "\n",
       "   total_income                  purpose age_group           group_purpose  \\\n",
       "0     40620.102    purchase of the house     41-50  inversión inmobiliaria   \n",
       "1     17932.802             car purchase     31-40            compra carro   \n",
       "2     23341.752    purchase of the house     31-40  inversión inmobiliaria   \n",
       "3     42820.568  supplementary education     31-40   preparación académica   \n",
       "4     25378.572        to have a wedding     51-60                 casarse   \n",
       "\n",
       "  group_children  \n",
       "0      2-3 hijos  \n",
       "1      2-3 hijos  \n",
       "2      Sin hijos  \n",
       "3      4-5 hijos  \n",
       "4      Sin hijos  "
      ]
     },
     "execution_count": 86,
     "metadata": {},
     "output_type": "execute_result"
    }
   ],
   "source": [
    "# Creamos una columna con categorías\n",
    "datos_credito['group_children']=datos_credito['children'].apply(group_children)\n",
    "datos_credito.head()"
   ]
  },
  {
   "cell_type": "code",
   "execution_count": 87,
   "metadata": {
    "scrolled": true
   },
   "outputs": [
    {
     "data": {
      "text/plain": [
       "Sin hijos    14091\n",
       "2-3 hijos     6983\n",
       "4-5 hijos      380\n",
       "Name: group_children, dtype: int64"
      ]
     },
     "execution_count": 87,
     "metadata": {},
     "output_type": "execute_result"
    }
   ],
   "source": [
    "# Contamos los valores de cada categoría para ver la distribución\n",
    "datos_credito['group_children'].value_counts()"
   ]
  },
  {
   "cell_type": "markdown",
   "metadata": {},
   "source": [
    "[Contenido](#back)\n",
    "<a id='clasification_income'></a>\n",
    "#### Creación de grupos de nivel de ingreso\n",
    "\n",
    "Clasificamos ahora la variable `'total_income'`."
   ]
  },
  {
   "cell_type": "code",
   "execution_count": 88,
   "metadata": {},
   "outputs": [
    {
     "data": {
      "text/plain": [
       "count     21454.000000\n",
       "mean      26797.900567\n",
       "std       15724.532575\n",
       "min        3306.762000\n",
       "25%       17219.817250\n",
       "50%       24379.051500\n",
       "75%       31729.172000\n",
       "max      362496.645000\n",
       "Name: total_income, dtype: float64"
      ]
     },
     "execution_count": 88,
     "metadata": {},
     "output_type": "execute_result"
    }
   ],
   "source": [
    "# Obtenemos estadísticas resumidas para la columna 'total_income'\n",
    "datos_credito['total_income'].describe()"
   ]
  },
  {
   "cell_type": "code",
   "execution_count": 89,
   "metadata": {},
   "outputs": [
    {
     "data": {
      "text/plain": [
       "359189"
      ]
     },
     "execution_count": 89,
     "metadata": {},
     "output_type": "execute_result"
    }
   ],
   "source": [
    "# Vamos a crear ocho grupos de nivel de ingreso\n",
    "rango=datos_credito['total_income'].max()-datos_credito['total_income'].min()\n",
    "int(rango)"
   ]
  },
  {
   "cell_type": "markdown",
   "metadata": {},
   "source": [
    "Crearemos ocho rangos de nivel de ingreso (NI), con límites de la siguiente manera:\n",
    "*     0<=N1<=50,000\n",
    "* 50,000<N2<=100,000\n",
    "* 100,000<N3<=150,000\n",
    "* 150,000<N4<=200,000\n",
    "* 200,000<N5<=250,000\n",
    "* 250,000<N6<=300,000\n",
    "* 300,000<N7<=350,000\n",
    "* 350,000<N8"
   ]
  },
  {
   "cell_type": "code",
   "execution_count": 90,
   "metadata": {},
   "outputs": [],
   "source": [
    "# Creamos una función para clasificar en base al nivel de ingresos\n",
    "\n",
    "def group_total_income(row):\n",
    "    \"\"\"Esta función crea grupos de clasificación para el nivel de ingreso\"\"\"\n",
    "     \n",
    "    if row<=50000:\n",
    "        return \"menor a 50,000\"\n",
    "    elif row<=100000:\n",
    "        return \"50,001-100,000\"\n",
    "    elif row<=150000:\n",
    "        return \"100,001-150,000\"\n",
    "    elif row<=200000:\n",
    "        return \"150,001-200,000\"\n",
    "    elif row<=250000:\n",
    "        return \"200,001-250,000\"\n",
    "    elif row<=300000:\n",
    "        return \"250,001-300,000\"\n",
    "    elif row<=350000:\n",
    "        return \"300,001-350,000\"\n",
    "    else:\n",
    "        return 'mayor de 350,000'"
   ]
  },
  {
   "cell_type": "code",
   "execution_count": 91,
   "metadata": {},
   "outputs": [
    {
     "data": {
      "text/html": [
       "<div>\n",
       "<style scoped>\n",
       "    .dataframe tbody tr th:only-of-type {\n",
       "        vertical-align: middle;\n",
       "    }\n",
       "\n",
       "    .dataframe tbody tr th {\n",
       "        vertical-align: top;\n",
       "    }\n",
       "\n",
       "    .dataframe thead th {\n",
       "        text-align: right;\n",
       "    }\n",
       "</style>\n",
       "<table border=\"1\" class=\"dataframe\">\n",
       "  <thead>\n",
       "    <tr style=\"text-align: right;\">\n",
       "      <th></th>\n",
       "      <th>children</th>\n",
       "      <th>days_employed</th>\n",
       "      <th>dob_years</th>\n",
       "      <th>education</th>\n",
       "      <th>education_id</th>\n",
       "      <th>family_status</th>\n",
       "      <th>family_status_id</th>\n",
       "      <th>gender</th>\n",
       "      <th>income_type</th>\n",
       "      <th>debt</th>\n",
       "      <th>total_income</th>\n",
       "      <th>purpose</th>\n",
       "      <th>age_group</th>\n",
       "      <th>group_purpose</th>\n",
       "      <th>group_children</th>\n",
       "      <th>group_total_income</th>\n",
       "    </tr>\n",
       "  </thead>\n",
       "  <tbody>\n",
       "    <tr>\n",
       "      <th>0</th>\n",
       "      <td>1</td>\n",
       "      <td>351.569709</td>\n",
       "      <td>42.0</td>\n",
       "      <td>bachelor's degree</td>\n",
       "      <td>0</td>\n",
       "      <td>married</td>\n",
       "      <td>0</td>\n",
       "      <td>F</td>\n",
       "      <td>employee</td>\n",
       "      <td>Sin deuda</td>\n",
       "      <td>40620.102</td>\n",
       "      <td>purchase of the house</td>\n",
       "      <td>41-50</td>\n",
       "      <td>inversión inmobiliaria</td>\n",
       "      <td>2-3 hijos</td>\n",
       "      <td>menor a 50,000</td>\n",
       "    </tr>\n",
       "    <tr>\n",
       "      <th>1</th>\n",
       "      <td>1</td>\n",
       "      <td>167.700156</td>\n",
       "      <td>36.0</td>\n",
       "      <td>secondary education</td>\n",
       "      <td>1</td>\n",
       "      <td>married</td>\n",
       "      <td>0</td>\n",
       "      <td>F</td>\n",
       "      <td>employee</td>\n",
       "      <td>Sin deuda</td>\n",
       "      <td>17932.802</td>\n",
       "      <td>car purchase</td>\n",
       "      <td>31-40</td>\n",
       "      <td>compra carro</td>\n",
       "      <td>2-3 hijos</td>\n",
       "      <td>menor a 50,000</td>\n",
       "    </tr>\n",
       "    <tr>\n",
       "      <th>2</th>\n",
       "      <td>0</td>\n",
       "      <td>234.309275</td>\n",
       "      <td>33.0</td>\n",
       "      <td>secondary education</td>\n",
       "      <td>1</td>\n",
       "      <td>married</td>\n",
       "      <td>0</td>\n",
       "      <td>M</td>\n",
       "      <td>employee</td>\n",
       "      <td>Sin deuda</td>\n",
       "      <td>23341.752</td>\n",
       "      <td>purchase of the house</td>\n",
       "      <td>31-40</td>\n",
       "      <td>inversión inmobiliaria</td>\n",
       "      <td>Sin hijos</td>\n",
       "      <td>menor a 50,000</td>\n",
       "    </tr>\n",
       "    <tr>\n",
       "      <th>3</th>\n",
       "      <td>3</td>\n",
       "      <td>171.864467</td>\n",
       "      <td>32.0</td>\n",
       "      <td>secondary education</td>\n",
       "      <td>1</td>\n",
       "      <td>married</td>\n",
       "      <td>0</td>\n",
       "      <td>M</td>\n",
       "      <td>employee</td>\n",
       "      <td>Sin deuda</td>\n",
       "      <td>42820.568</td>\n",
       "      <td>supplementary education</td>\n",
       "      <td>31-40</td>\n",
       "      <td>preparación académica</td>\n",
       "      <td>4-5 hijos</td>\n",
       "      <td>menor a 50,000</td>\n",
       "    </tr>\n",
       "    <tr>\n",
       "      <th>4</th>\n",
       "      <td>0</td>\n",
       "      <td>14177.753002</td>\n",
       "      <td>53.0</td>\n",
       "      <td>secondary education</td>\n",
       "      <td>1</td>\n",
       "      <td>civil partnership</td>\n",
       "      <td>1</td>\n",
       "      <td>F</td>\n",
       "      <td>retiree</td>\n",
       "      <td>Sin deuda</td>\n",
       "      <td>25378.572</td>\n",
       "      <td>to have a wedding</td>\n",
       "      <td>51-60</td>\n",
       "      <td>casarse</td>\n",
       "      <td>Sin hijos</td>\n",
       "      <td>menor a 50,000</td>\n",
       "    </tr>\n",
       "  </tbody>\n",
       "</table>\n",
       "</div>"
      ],
      "text/plain": [
       "   children  days_employed  dob_years            education  education_id  \\\n",
       "0         1     351.569709       42.0    bachelor's degree             0   \n",
       "1         1     167.700156       36.0  secondary education             1   \n",
       "2         0     234.309275       33.0  secondary education             1   \n",
       "3         3     171.864467       32.0  secondary education             1   \n",
       "4         0   14177.753002       53.0  secondary education             1   \n",
       "\n",
       "       family_status  family_status_id gender income_type       debt  \\\n",
       "0            married                 0      F    employee  Sin deuda   \n",
       "1            married                 0      F    employee  Sin deuda   \n",
       "2            married                 0      M    employee  Sin deuda   \n",
       "3            married                 0      M    employee  Sin deuda   \n",
       "4  civil partnership                 1      F     retiree  Sin deuda   \n",
       "\n",
       "   total_income                  purpose age_group           group_purpose  \\\n",
       "0     40620.102    purchase of the house     41-50  inversión inmobiliaria   \n",
       "1     17932.802             car purchase     31-40            compra carro   \n",
       "2     23341.752    purchase of the house     31-40  inversión inmobiliaria   \n",
       "3     42820.568  supplementary education     31-40   preparación académica   \n",
       "4     25378.572        to have a wedding     51-60                 casarse   \n",
       "\n",
       "  group_children group_total_income  \n",
       "0      2-3 hijos     menor a 50,000  \n",
       "1      2-3 hijos     menor a 50,000  \n",
       "2      Sin hijos     menor a 50,000  \n",
       "3      4-5 hijos     menor a 50,000  \n",
       "4      Sin hijos     menor a 50,000  "
      ]
     },
     "execution_count": 91,
     "metadata": {},
     "output_type": "execute_result"
    }
   ],
   "source": [
    "# Creamos una columna con categorías\n",
    "datos_credito['group_total_income']=datos_credito['total_income'].apply(group_total_income)\n",
    "datos_credito.head()"
   ]
  },
  {
   "cell_type": "code",
   "execution_count": 92,
   "metadata": {},
   "outputs": [
    {
     "data": {
      "text/plain": [
       "menor a 50,000      20133\n",
       "50,001-100,000       1222\n",
       "100,001-150,000        71\n",
       "150,001-200,000        17\n",
       "200,001-250,000         5\n",
       "250,001-300,000         4\n",
       "mayor de 350,000        2\n",
       "Name: group_total_income, dtype: int64"
      ]
     },
     "execution_count": 92,
     "metadata": {},
     "output_type": "execute_result"
    }
   ],
   "source": [
    "# Contamos los valores de cada categoría para ver la distribución\n",
    "datos_credito['group_total_income'].value_counts()"
   ]
  },
  {
   "cell_type": "markdown",
   "metadata": {},
   "source": [
    "[Contenido](#back)\n",
    "<a id='hypotheses'></a>\n",
    "## Etapa 3. Prueba de hipótesis"
   ]
  },
  {
   "cell_type": "markdown",
   "metadata": {},
   "source": [
    "<a id='hypotheses_1'></a>\n",
    "### ¿Existe una correlación entre tener hijos y pagar a tiempo?"
   ]
  },
  {
   "cell_type": "code",
   "execution_count": 93,
   "metadata": {},
   "outputs": [
    {
     "data": {
      "text/html": [
       "<div>\n",
       "<style scoped>\n",
       "    .dataframe tbody tr th:only-of-type {\n",
       "        vertical-align: middle;\n",
       "    }\n",
       "\n",
       "    .dataframe tbody tr th {\n",
       "        vertical-align: top;\n",
       "    }\n",
       "\n",
       "    .dataframe thead th {\n",
       "        text-align: right;\n",
       "    }\n",
       "</style>\n",
       "<table border=\"1\" class=\"dataframe\">\n",
       "  <thead>\n",
       "    <tr style=\"text-align: right;\">\n",
       "      <th>debt</th>\n",
       "      <th>Con deuda</th>\n",
       "      <th>Sin deuda</th>\n",
       "      <th>All</th>\n",
       "    </tr>\n",
       "    <tr>\n",
       "      <th>group_children</th>\n",
       "      <th></th>\n",
       "      <th></th>\n",
       "      <th></th>\n",
       "    </tr>\n",
       "  </thead>\n",
       "  <tbody>\n",
       "    <tr>\n",
       "      <th>2-3 hijos</th>\n",
       "      <td>647</td>\n",
       "      <td>6336</td>\n",
       "      <td>6983</td>\n",
       "    </tr>\n",
       "    <tr>\n",
       "      <th>4-5 hijos</th>\n",
       "      <td>31</td>\n",
       "      <td>349</td>\n",
       "      <td>380</td>\n",
       "    </tr>\n",
       "    <tr>\n",
       "      <th>Sin hijos</th>\n",
       "      <td>1063</td>\n",
       "      <td>13028</td>\n",
       "      <td>14091</td>\n",
       "    </tr>\n",
       "    <tr>\n",
       "      <th>All</th>\n",
       "      <td>1741</td>\n",
       "      <td>19713</td>\n",
       "      <td>21454</td>\n",
       "    </tr>\n",
       "  </tbody>\n",
       "</table>\n",
       "</div>"
      ],
      "text/plain": [
       "debt            Con deuda  Sin deuda    All\n",
       "group_children                             \n",
       "2-3 hijos             647       6336   6983\n",
       "4-5 hijos              31        349    380\n",
       "Sin hijos            1063      13028  14091\n",
       "All                  1741      19713  21454"
      ]
     },
     "execution_count": 93,
     "metadata": {},
     "output_type": "execute_result"
    }
   ],
   "source": [
    "# Veamos el comportamiento de los datos sobre los hijos y los pagos puntuales\n",
    "tabla_pagos_children=datos_credito.pivot_table(index='group_children',columns='debt',values='total_income',aggfunc='count',margins=True)\n",
    "tabla_pagos_children"
   ]
  },
  {
   "cell_type": "code",
   "execution_count": 94,
   "metadata": {},
   "outputs": [
    {
     "data": {
      "text/html": [
       "<div>\n",
       "<style scoped>\n",
       "    .dataframe tbody tr th:only-of-type {\n",
       "        vertical-align: middle;\n",
       "    }\n",
       "\n",
       "    .dataframe tbody tr th {\n",
       "        vertical-align: top;\n",
       "    }\n",
       "\n",
       "    .dataframe thead th {\n",
       "        text-align: right;\n",
       "    }\n",
       "</style>\n",
       "<table border=\"1\" class=\"dataframe\">\n",
       "  <thead>\n",
       "    <tr style=\"text-align: right;\">\n",
       "      <th>debt</th>\n",
       "      <th>Con deuda</th>\n",
       "      <th>Sin deuda</th>\n",
       "      <th>All</th>\n",
       "      <th>Incumplimiento</th>\n",
       "    </tr>\n",
       "    <tr>\n",
       "      <th>group_children</th>\n",
       "      <th></th>\n",
       "      <th></th>\n",
       "      <th></th>\n",
       "      <th></th>\n",
       "    </tr>\n",
       "  </thead>\n",
       "  <tbody>\n",
       "    <tr>\n",
       "      <th>2-3 hijos</th>\n",
       "      <td>647</td>\n",
       "      <td>6336</td>\n",
       "      <td>6983</td>\n",
       "      <td>9.265359</td>\n",
       "    </tr>\n",
       "    <tr>\n",
       "      <th>4-5 hijos</th>\n",
       "      <td>31</td>\n",
       "      <td>349</td>\n",
       "      <td>380</td>\n",
       "      <td>8.157895</td>\n",
       "    </tr>\n",
       "    <tr>\n",
       "      <th>Sin hijos</th>\n",
       "      <td>1063</td>\n",
       "      <td>13028</td>\n",
       "      <td>14091</td>\n",
       "      <td>7.543822</td>\n",
       "    </tr>\n",
       "    <tr>\n",
       "      <th>All</th>\n",
       "      <td>1741</td>\n",
       "      <td>19713</td>\n",
       "      <td>21454</td>\n",
       "      <td>8.115037</td>\n",
       "    </tr>\n",
       "  </tbody>\n",
       "</table>\n",
       "</div>"
      ],
      "text/plain": [
       "debt            Con deuda  Sin deuda    All  Incumplimiento\n",
       "group_children                                             \n",
       "2-3 hijos             647       6336   6983        9.265359\n",
       "4-5 hijos              31        349    380        8.157895\n",
       "Sin hijos            1063      13028  14091        7.543822\n",
       "All                  1741      19713  21454        8.115037"
      ]
     },
     "execution_count": 94,
     "metadata": {},
     "output_type": "execute_result"
    }
   ],
   "source": [
    "# Calculamos la tasa de incumplimiento en función del número de hijos\n",
    "tabla_pagos_children['Incumplimiento']=(tabla_pagos_children['Con deuda']/tabla_pagos_children['All'])*100\n",
    "tabla_pagos_children"
   ]
  },
  {
   "cell_type": "markdown",
   "metadata": {},
   "source": [
    "**Conclusión**\n",
    "\n",
    "De la tabla anterior podemos notar que **las personas sin hijos son las que al parecer tienen la menor tasa de incumplimiento** en el pago de los préstamos. Así, al parecer una persona sin hijos es más probable que pague su préstamo a tiempo."
   ]
  },
  {
   "cell_type": "markdown",
   "metadata": {},
   "source": [
    "[Contenido](#back)\n",
    "<a id='hypotheses_2'></a>\n",
    "### ¿Existe una correlación entre la situación familiar y el pago a tiempo?"
   ]
  },
  {
   "cell_type": "code",
   "execution_count": 95,
   "metadata": {},
   "outputs": [
    {
     "data": {
      "text/html": [
       "<div>\n",
       "<style scoped>\n",
       "    .dataframe tbody tr th:only-of-type {\n",
       "        vertical-align: middle;\n",
       "    }\n",
       "\n",
       "    .dataframe tbody tr th {\n",
       "        vertical-align: top;\n",
       "    }\n",
       "\n",
       "    .dataframe thead th {\n",
       "        text-align: right;\n",
       "    }\n",
       "</style>\n",
       "<table border=\"1\" class=\"dataframe\">\n",
       "  <thead>\n",
       "    <tr style=\"text-align: right;\">\n",
       "      <th>debt</th>\n",
       "      <th>Con deuda</th>\n",
       "      <th>Sin deuda</th>\n",
       "      <th>All</th>\n",
       "    </tr>\n",
       "    <tr>\n",
       "      <th>family_status</th>\n",
       "      <th></th>\n",
       "      <th></th>\n",
       "      <th></th>\n",
       "    </tr>\n",
       "  </thead>\n",
       "  <tbody>\n",
       "    <tr>\n",
       "      <th>civil partnership</th>\n",
       "      <td>388</td>\n",
       "      <td>3763</td>\n",
       "      <td>4151</td>\n",
       "    </tr>\n",
       "    <tr>\n",
       "      <th>divorced</th>\n",
       "      <td>85</td>\n",
       "      <td>1110</td>\n",
       "      <td>1195</td>\n",
       "    </tr>\n",
       "    <tr>\n",
       "      <th>married</th>\n",
       "      <td>931</td>\n",
       "      <td>11408</td>\n",
       "      <td>12339</td>\n",
       "    </tr>\n",
       "    <tr>\n",
       "      <th>unmarried</th>\n",
       "      <td>274</td>\n",
       "      <td>2536</td>\n",
       "      <td>2810</td>\n",
       "    </tr>\n",
       "    <tr>\n",
       "      <th>widow / widower</th>\n",
       "      <td>63</td>\n",
       "      <td>896</td>\n",
       "      <td>959</td>\n",
       "    </tr>\n",
       "    <tr>\n",
       "      <th>All</th>\n",
       "      <td>1741</td>\n",
       "      <td>19713</td>\n",
       "      <td>21454</td>\n",
       "    </tr>\n",
       "  </tbody>\n",
       "</table>\n",
       "</div>"
      ],
      "text/plain": [
       "debt               Con deuda  Sin deuda    All\n",
       "family_status                                 \n",
       "civil partnership        388       3763   4151\n",
       "divorced                  85       1110   1195\n",
       "married                  931      11408  12339\n",
       "unmarried                274       2536   2810\n",
       "widow / widower           63        896    959\n",
       "All                     1741      19713  21454"
      ]
     },
     "execution_count": 95,
     "metadata": {},
     "output_type": "execute_result"
    }
   ],
   "source": [
    "# Comprobamos los datos del estado familiar y los pagos a tiempo\n",
    "tabla_pagos_family=datos_credito.pivot_table(index='family_status',columns='debt',values='total_income',aggfunc='count',margins=True)\n",
    "tabla_pagos_family"
   ]
  },
  {
   "cell_type": "code",
   "execution_count": 96,
   "metadata": {},
   "outputs": [
    {
     "data": {
      "text/html": [
       "<div>\n",
       "<style scoped>\n",
       "    .dataframe tbody tr th:only-of-type {\n",
       "        vertical-align: middle;\n",
       "    }\n",
       "\n",
       "    .dataframe tbody tr th {\n",
       "        vertical-align: top;\n",
       "    }\n",
       "\n",
       "    .dataframe thead th {\n",
       "        text-align: right;\n",
       "    }\n",
       "</style>\n",
       "<table border=\"1\" class=\"dataframe\">\n",
       "  <thead>\n",
       "    <tr style=\"text-align: right;\">\n",
       "      <th>debt</th>\n",
       "      <th>Con deuda</th>\n",
       "      <th>Sin deuda</th>\n",
       "      <th>All</th>\n",
       "      <th>Incumplimiento</th>\n",
       "    </tr>\n",
       "    <tr>\n",
       "      <th>family_status</th>\n",
       "      <th></th>\n",
       "      <th></th>\n",
       "      <th></th>\n",
       "      <th></th>\n",
       "    </tr>\n",
       "  </thead>\n",
       "  <tbody>\n",
       "    <tr>\n",
       "      <th>civil partnership</th>\n",
       "      <td>388</td>\n",
       "      <td>3763</td>\n",
       "      <td>4151</td>\n",
       "      <td>9.347145</td>\n",
       "    </tr>\n",
       "    <tr>\n",
       "      <th>divorced</th>\n",
       "      <td>85</td>\n",
       "      <td>1110</td>\n",
       "      <td>1195</td>\n",
       "      <td>7.112971</td>\n",
       "    </tr>\n",
       "    <tr>\n",
       "      <th>married</th>\n",
       "      <td>931</td>\n",
       "      <td>11408</td>\n",
       "      <td>12339</td>\n",
       "      <td>7.545182</td>\n",
       "    </tr>\n",
       "    <tr>\n",
       "      <th>unmarried</th>\n",
       "      <td>274</td>\n",
       "      <td>2536</td>\n",
       "      <td>2810</td>\n",
       "      <td>9.750890</td>\n",
       "    </tr>\n",
       "    <tr>\n",
       "      <th>widow / widower</th>\n",
       "      <td>63</td>\n",
       "      <td>896</td>\n",
       "      <td>959</td>\n",
       "      <td>6.569343</td>\n",
       "    </tr>\n",
       "    <tr>\n",
       "      <th>All</th>\n",
       "      <td>1741</td>\n",
       "      <td>19713</td>\n",
       "      <td>21454</td>\n",
       "      <td>8.115037</td>\n",
       "    </tr>\n",
       "  </tbody>\n",
       "</table>\n",
       "</div>"
      ],
      "text/plain": [
       "debt               Con deuda  Sin deuda    All  Incumplimiento\n",
       "family_status                                                 \n",
       "civil partnership        388       3763   4151        9.347145\n",
       "divorced                  85       1110   1195        7.112971\n",
       "married                  931      11408  12339        7.545182\n",
       "unmarried                274       2536   2810        9.750890\n",
       "widow / widower           63        896    959        6.569343\n",
       "All                     1741      19713  21454        8.115037"
      ]
     },
     "execution_count": 96,
     "metadata": {},
     "output_type": "execute_result"
    }
   ],
   "source": [
    "# Calculamos la tasa de incumplimiento basada en el estado familiar\n",
    "tabla_pagos_family['Incumplimiento']=(tabla_pagos_family['Con deuda']/tabla_pagos_family['All'])*100\n",
    "tabla_pagos_family"
   ]
  },
  {
   "cell_type": "markdown",
   "metadata": {},
   "source": [
    "**Conclusión**\n",
    "\n",
    "De la tabla anterior podemos notar que las personas solteras **(unmarried)** o en unión civil **(civil partnership)** tienen las mayores tasas de incumplimiento en el pago de su préstamo."
   ]
  },
  {
   "cell_type": "markdown",
   "metadata": {},
   "source": [
    "[Contenido](#back)\n",
    "<a id='hypotheses_3'></a>\n",
    "### ¿Existe una correlación entre el nivel de ingresos y el pago a tiempo?"
   ]
  },
  {
   "cell_type": "code",
   "execution_count": 97,
   "metadata": {},
   "outputs": [
    {
     "data": {
      "text/html": [
       "<div>\n",
       "<style scoped>\n",
       "    .dataframe tbody tr th:only-of-type {\n",
       "        vertical-align: middle;\n",
       "    }\n",
       "\n",
       "    .dataframe tbody tr th {\n",
       "        vertical-align: top;\n",
       "    }\n",
       "\n",
       "    .dataframe thead th {\n",
       "        text-align: right;\n",
       "    }\n",
       "</style>\n",
       "<table border=\"1\" class=\"dataframe\">\n",
       "  <thead>\n",
       "    <tr style=\"text-align: right;\">\n",
       "      <th>debt</th>\n",
       "      <th>Con deuda</th>\n",
       "      <th>Sin deuda</th>\n",
       "      <th>All</th>\n",
       "    </tr>\n",
       "    <tr>\n",
       "      <th>group_total_income</th>\n",
       "      <th></th>\n",
       "      <th></th>\n",
       "      <th></th>\n",
       "    </tr>\n",
       "  </thead>\n",
       "  <tbody>\n",
       "    <tr>\n",
       "      <th>100,001-150,000</th>\n",
       "      <td>4.0</td>\n",
       "      <td>67.0</td>\n",
       "      <td>71</td>\n",
       "    </tr>\n",
       "    <tr>\n",
       "      <th>150,001-200,000</th>\n",
       "      <td>1.0</td>\n",
       "      <td>16.0</td>\n",
       "      <td>17</td>\n",
       "    </tr>\n",
       "    <tr>\n",
       "      <th>200,001-250,000</th>\n",
       "      <td>NaN</td>\n",
       "      <td>5.0</td>\n",
       "      <td>5</td>\n",
       "    </tr>\n",
       "    <tr>\n",
       "      <th>250,001-300,000</th>\n",
       "      <td>NaN</td>\n",
       "      <td>4.0</td>\n",
       "      <td>4</td>\n",
       "    </tr>\n",
       "    <tr>\n",
       "      <th>50,001-100,000</th>\n",
       "      <td>86.0</td>\n",
       "      <td>1136.0</td>\n",
       "      <td>1222</td>\n",
       "    </tr>\n",
       "    <tr>\n",
       "      <th>mayor de 350,000</th>\n",
       "      <td>1.0</td>\n",
       "      <td>1.0</td>\n",
       "      <td>2</td>\n",
       "    </tr>\n",
       "    <tr>\n",
       "      <th>menor a 50,000</th>\n",
       "      <td>1649.0</td>\n",
       "      <td>18484.0</td>\n",
       "      <td>20133</td>\n",
       "    </tr>\n",
       "    <tr>\n",
       "      <th>All</th>\n",
       "      <td>1741.0</td>\n",
       "      <td>19713.0</td>\n",
       "      <td>21454</td>\n",
       "    </tr>\n",
       "  </tbody>\n",
       "</table>\n",
       "</div>"
      ],
      "text/plain": [
       "debt                Con deuda  Sin deuda    All\n",
       "group_total_income                             \n",
       "100,001-150,000           4.0       67.0     71\n",
       "150,001-200,000           1.0       16.0     17\n",
       "200,001-250,000           NaN        5.0      5\n",
       "250,001-300,000           NaN        4.0      4\n",
       "50,001-100,000           86.0     1136.0   1222\n",
       "mayor de 350,000          1.0        1.0      2\n",
       "menor a 50,000         1649.0    18484.0  20133\n",
       "All                    1741.0    19713.0  21454"
      ]
     },
     "execution_count": 97,
     "metadata": {},
     "output_type": "execute_result"
    }
   ],
   "source": [
    "# Comprobamos los datos del nivel de ingresos y los pagos a tiempo\n",
    "tabla_pagos_income_type=datos_credito.pivot_table(index='group_total_income',columns='debt',values='total_income',aggfunc='count',margins=True)\n",
    "tabla_pagos_income_type"
   ]
  },
  {
   "cell_type": "code",
   "execution_count": 98,
   "metadata": {},
   "outputs": [
    {
     "data": {
      "text/html": [
       "<div>\n",
       "<style scoped>\n",
       "    .dataframe tbody tr th:only-of-type {\n",
       "        vertical-align: middle;\n",
       "    }\n",
       "\n",
       "    .dataframe tbody tr th {\n",
       "        vertical-align: top;\n",
       "    }\n",
       "\n",
       "    .dataframe thead th {\n",
       "        text-align: right;\n",
       "    }\n",
       "</style>\n",
       "<table border=\"1\" class=\"dataframe\">\n",
       "  <thead>\n",
       "    <tr style=\"text-align: right;\">\n",
       "      <th>debt</th>\n",
       "      <th>Con deuda</th>\n",
       "      <th>Sin deuda</th>\n",
       "      <th>All</th>\n",
       "      <th>Incumplimiento</th>\n",
       "    </tr>\n",
       "    <tr>\n",
       "      <th>group_total_income</th>\n",
       "      <th></th>\n",
       "      <th></th>\n",
       "      <th></th>\n",
       "      <th></th>\n",
       "    </tr>\n",
       "  </thead>\n",
       "  <tbody>\n",
       "    <tr>\n",
       "      <th>100,001-150,000</th>\n",
       "      <td>4.0</td>\n",
       "      <td>67.0</td>\n",
       "      <td>71</td>\n",
       "      <td>5.633803</td>\n",
       "    </tr>\n",
       "    <tr>\n",
       "      <th>150,001-200,000</th>\n",
       "      <td>1.0</td>\n",
       "      <td>16.0</td>\n",
       "      <td>17</td>\n",
       "      <td>5.882353</td>\n",
       "    </tr>\n",
       "    <tr>\n",
       "      <th>200,001-250,000</th>\n",
       "      <td>NaN</td>\n",
       "      <td>5.0</td>\n",
       "      <td>5</td>\n",
       "      <td>NaN</td>\n",
       "    </tr>\n",
       "    <tr>\n",
       "      <th>250,001-300,000</th>\n",
       "      <td>NaN</td>\n",
       "      <td>4.0</td>\n",
       "      <td>4</td>\n",
       "      <td>NaN</td>\n",
       "    </tr>\n",
       "    <tr>\n",
       "      <th>50,001-100,000</th>\n",
       "      <td>86.0</td>\n",
       "      <td>1136.0</td>\n",
       "      <td>1222</td>\n",
       "      <td>7.037643</td>\n",
       "    </tr>\n",
       "    <tr>\n",
       "      <th>mayor de 350,000</th>\n",
       "      <td>1.0</td>\n",
       "      <td>1.0</td>\n",
       "      <td>2</td>\n",
       "      <td>50.000000</td>\n",
       "    </tr>\n",
       "    <tr>\n",
       "      <th>menor a 50,000</th>\n",
       "      <td>1649.0</td>\n",
       "      <td>18484.0</td>\n",
       "      <td>20133</td>\n",
       "      <td>8.190533</td>\n",
       "    </tr>\n",
       "    <tr>\n",
       "      <th>All</th>\n",
       "      <td>1741.0</td>\n",
       "      <td>19713.0</td>\n",
       "      <td>21454</td>\n",
       "      <td>8.115037</td>\n",
       "    </tr>\n",
       "  </tbody>\n",
       "</table>\n",
       "</div>"
      ],
      "text/plain": [
       "debt                Con deuda  Sin deuda    All  Incumplimiento\n",
       "group_total_income                                             \n",
       "100,001-150,000           4.0       67.0     71        5.633803\n",
       "150,001-200,000           1.0       16.0     17        5.882353\n",
       "200,001-250,000           NaN        5.0      5             NaN\n",
       "250,001-300,000           NaN        4.0      4             NaN\n",
       "50,001-100,000           86.0     1136.0   1222        7.037643\n",
       "mayor de 350,000          1.0        1.0      2       50.000000\n",
       "menor a 50,000         1649.0    18484.0  20133        8.190533\n",
       "All                    1741.0    19713.0  21454        8.115037"
      ]
     },
     "execution_count": 98,
     "metadata": {},
     "output_type": "execute_result"
    }
   ],
   "source": [
    "# Calculamos la tasa de incumplimiento basada en el nivel de ingresos\n",
    "tabla_pagos_income_type['Incumplimiento']=(tabla_pagos_income_type['Con deuda']/tabla_pagos_income_type['All'])*100\n",
    "tabla_pagos_income_type"
   ]
  },
  {
   "cell_type": "markdown",
   "metadata": {},
   "source": [
    "**Conclusión**\n",
    "\n",
    "Observamos que en general, las personas con un nivel bajo de ingresos, menores a 50000, presentan una mayor tasa de incumplimiento. En el caso de personas con ingreso mayor a 350000 no podemos asegurar algo, respecto al pago de un prestamo, dado que únicamente contamos con dos registros."
   ]
  },
  {
   "cell_type": "markdown",
   "metadata": {},
   "source": [
    "[Contenido](#back)\n",
    "<a id='hypotheses_4'></a>\n",
    "### ¿Cómo afecta el propósito del crédito a la tasa de incumplimiento?"
   ]
  },
  {
   "cell_type": "code",
   "execution_count": 99,
   "metadata": {},
   "outputs": [
    {
     "data": {
      "text/html": [
       "<div>\n",
       "<style scoped>\n",
       "    .dataframe tbody tr th:only-of-type {\n",
       "        vertical-align: middle;\n",
       "    }\n",
       "\n",
       "    .dataframe tbody tr th {\n",
       "        vertical-align: top;\n",
       "    }\n",
       "\n",
       "    .dataframe thead th {\n",
       "        text-align: right;\n",
       "    }\n",
       "</style>\n",
       "<table border=\"1\" class=\"dataframe\">\n",
       "  <thead>\n",
       "    <tr style=\"text-align: right;\">\n",
       "      <th>debt</th>\n",
       "      <th>Con deuda</th>\n",
       "      <th>Sin deuda</th>\n",
       "      <th>All</th>\n",
       "    </tr>\n",
       "    <tr>\n",
       "      <th>group_purpose</th>\n",
       "      <th></th>\n",
       "      <th></th>\n",
       "      <th></th>\n",
       "    </tr>\n",
       "  </thead>\n",
       "  <tbody>\n",
       "    <tr>\n",
       "      <th>casarse</th>\n",
       "      <td>186</td>\n",
       "      <td>2138</td>\n",
       "      <td>2324</td>\n",
       "    </tr>\n",
       "    <tr>\n",
       "      <th>compra carro</th>\n",
       "      <td>403</td>\n",
       "      <td>3903</td>\n",
       "      <td>4306</td>\n",
       "    </tr>\n",
       "    <tr>\n",
       "      <th>inversión inmobiliaria</th>\n",
       "      <td>864</td>\n",
       "      <td>10851</td>\n",
       "      <td>11715</td>\n",
       "    </tr>\n",
       "    <tr>\n",
       "      <th>preparación académica</th>\n",
       "      <td>288</td>\n",
       "      <td>2821</td>\n",
       "      <td>3109</td>\n",
       "    </tr>\n",
       "    <tr>\n",
       "      <th>All</th>\n",
       "      <td>1741</td>\n",
       "      <td>19713</td>\n",
       "      <td>21454</td>\n",
       "    </tr>\n",
       "  </tbody>\n",
       "</table>\n",
       "</div>"
      ],
      "text/plain": [
       "debt                    Con deuda  Sin deuda    All\n",
       "group_purpose                                      \n",
       "casarse                       186       2138   2324\n",
       "compra carro                  403       3903   4306\n",
       "inversión inmobiliaria        864      10851  11715\n",
       "preparación académica         288       2821   3109\n",
       "All                          1741      19713  21454"
      ]
     },
     "execution_count": 99,
     "metadata": {},
     "output_type": "execute_result"
    }
   ],
   "source": [
    "# Consultamos los porcentajes de tasa de incumplimiento para cada propósito del crédito\n",
    "tabla_pagos_purpose=datos_credito.pivot_table(index='group_purpose',columns='debt',values='total_income',aggfunc='count',margins=True)\n",
    "tabla_pagos_purpose"
   ]
  },
  {
   "cell_type": "code",
   "execution_count": 100,
   "metadata": {},
   "outputs": [
    {
     "data": {
      "text/html": [
       "<div>\n",
       "<style scoped>\n",
       "    .dataframe tbody tr th:only-of-type {\n",
       "        vertical-align: middle;\n",
       "    }\n",
       "\n",
       "    .dataframe tbody tr th {\n",
       "        vertical-align: top;\n",
       "    }\n",
       "\n",
       "    .dataframe thead th {\n",
       "        text-align: right;\n",
       "    }\n",
       "</style>\n",
       "<table border=\"1\" class=\"dataframe\">\n",
       "  <thead>\n",
       "    <tr style=\"text-align: right;\">\n",
       "      <th>debt</th>\n",
       "      <th>Con deuda</th>\n",
       "      <th>Sin deuda</th>\n",
       "      <th>All</th>\n",
       "      <th>Incumplimiento</th>\n",
       "    </tr>\n",
       "    <tr>\n",
       "      <th>group_purpose</th>\n",
       "      <th></th>\n",
       "      <th></th>\n",
       "      <th></th>\n",
       "      <th></th>\n",
       "    </tr>\n",
       "  </thead>\n",
       "  <tbody>\n",
       "    <tr>\n",
       "      <th>casarse</th>\n",
       "      <td>186</td>\n",
       "      <td>2138</td>\n",
       "      <td>2324</td>\n",
       "      <td>8.003442</td>\n",
       "    </tr>\n",
       "    <tr>\n",
       "      <th>compra carro</th>\n",
       "      <td>403</td>\n",
       "      <td>3903</td>\n",
       "      <td>4306</td>\n",
       "      <td>9.359034</td>\n",
       "    </tr>\n",
       "    <tr>\n",
       "      <th>inversión inmobiliaria</th>\n",
       "      <td>864</td>\n",
       "      <td>10851</td>\n",
       "      <td>11715</td>\n",
       "      <td>7.375160</td>\n",
       "    </tr>\n",
       "    <tr>\n",
       "      <th>preparación académica</th>\n",
       "      <td>288</td>\n",
       "      <td>2821</td>\n",
       "      <td>3109</td>\n",
       "      <td>9.263429</td>\n",
       "    </tr>\n",
       "    <tr>\n",
       "      <th>All</th>\n",
       "      <td>1741</td>\n",
       "      <td>19713</td>\n",
       "      <td>21454</td>\n",
       "      <td>8.115037</td>\n",
       "    </tr>\n",
       "  </tbody>\n",
       "</table>\n",
       "</div>"
      ],
      "text/plain": [
       "debt                    Con deuda  Sin deuda    All  Incumplimiento\n",
       "group_purpose                                                      \n",
       "casarse                       186       2138   2324        8.003442\n",
       "compra carro                  403       3903   4306        9.359034\n",
       "inversión inmobiliaria        864      10851  11715        7.375160\n",
       "preparación académica         288       2821   3109        9.263429\n",
       "All                          1741      19713  21454        8.115037"
      ]
     },
     "execution_count": 100,
     "metadata": {},
     "output_type": "execute_result"
    }
   ],
   "source": [
    "# Calculamos la tasa de incumplimiento basada en el nivel de ingresos\n",
    "tabla_pagos_purpose['Incumplimiento']=(tabla_pagos_purpose['Con deuda']/tabla_pagos_purpose['All'])*100\n",
    "tabla_pagos_purpose"
   ]
  },
  {
   "cell_type": "markdown",
   "metadata": {},
   "source": [
    "**Conclusión**\n",
    "\n",
    "De la tabla anterior, **podemos observar que pedir un préstamo para comprar un carro o prepararse académicamente tienen las mayores tasas de incumplimiento**. Esto pueda deberse a que la compra de un carro se considera un gasto, a menos que se ocupe para generar ingresos. Y en el caso de la preparación académica, posiblemente porque el tiempo para el retorno de esa inversión puede llevar mucho tiempo, entre el tiempo de estudio y empezar a laborar."
   ]
  },
  {
   "cell_type": "markdown",
   "metadata": {},
   "source": [
    "# Conclusión general <a id='conclusion'></a>\n",
    "\n",
    "La variable `'days_employed'`presentó demasiados problemas tales como: valores atípicos, valores ausentes y valores problématicos. Lo cual, la lleva a ser una variable que no es muy apta para usar en la estimación de valores ausentes presentes en otras variables. La creación de grupos de categorías en algunas variables nos ayudo a realizar la estimación de valores ausentes en otras categorías. Quizás haga falta probar y comparar el comportamiento de los valores ausentes reemplazados usando alguna otra medida, es decir; si usamos la media en un principio para reemplazar algún valor ausente, habría que probar que tanto afecta en el resultado usar la mediana, y de manera viceversa. También podríamos probar hacer la estimación de estos valores ausentes empleando algún método de Machine Learning o regresión lineal.\n",
    "\n",
    "En general podemos decir que:\n",
    "\n",
    "* **Las personas sin hijos son las que al parecer tienen la menor tasa de incumplimiento** en el pago de los préstamos. Así, al parecer una persona sin hijos es más probable que pague su préstamo a tiempo.\n",
    "* **Las personas solteras (unmarried) o en unión civil (civil partnership) tienen las mayores tasas de incumplimiento** en el pago de su préstamo.\n",
    "* **Las personas con un nivel bajo de ingresos, menores a 50000, presentan una mayor tasa de incumplimiento.** En el caso de personas con ingreso mayor a 350000 no podemos asegurar algo respecto al pago de un prestamo dado que únicamente contamos con dos registros.\n",
    "* **Pedir un préstamo para comprar un carro o prepararse académicamente tienen las mayores tasas de incumplimiento**.\n",
    "\n",
    "[Contenido](#back)"
   ]
  }
 ],
 "metadata": {
  "ExecuteTimeLog": [
   {
    "duration": 2741,
    "start_time": "2021-10-21T01:08:49.480Z"
   },
   {
    "duration": 52,
    "start_time": "2021-10-21T01:08:53.315Z"
   },
   {
    "duration": 49,
    "start_time": "2021-10-21T01:08:57.432Z"
   },
   {
    "duration": 70,
    "start_time": "2021-10-21T01:09:07.706Z"
   }
  ],
  "kernelspec": {
   "display_name": "base",
   "language": "python",
   "name": "python3"
  },
  "language_info": {
   "codemirror_mode": {
    "name": "ipython",
    "version": 3
   },
   "file_extension": ".py",
   "mimetype": "text/x-python",
   "name": "python",
   "nbconvert_exporter": "python",
   "pygments_lexer": "ipython3",
   "version": "3.9.13 (main, Aug 25 2022, 23:51:50) [MSC v.1916 64 bit (AMD64)]"
  },
  "toc": {
   "base_numbering": 1,
   "nav_menu": {},
   "number_sections": true,
   "sideBar": true,
   "skip_h1_title": true,
   "title_cell": "Table of Contents",
   "title_sidebar": "Contents",
   "toc_cell": false,
   "toc_position": {
    "height": "calc(100% - 180px)",
    "left": "10px",
    "top": "150px",
    "width": "484.347px"
   },
   "toc_section_display": true,
   "toc_window_display": false
  },
  "vscode": {
   "interpreter": {
    "hash": "71b9d87f2fd5b5aef9cbb0b73a40c78c4a0e77a2d7dfc47c1cede138549bfeac"
   }
  }
 },
 "nbformat": 4,
 "nbformat_minor": 4
}
